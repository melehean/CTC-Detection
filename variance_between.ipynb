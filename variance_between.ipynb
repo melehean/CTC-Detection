{
 "cells": [
  {
   "cell_type": "code",
   "execution_count": 28,
   "id": "4caa9251",
   "metadata": {},
   "outputs": [],
   "source": [
    "from data import Data\n",
    "from dimension_reduction import PCADimensionReduction\n",
    "from sklearn.ensemble import RandomForestClassifier\n",
    "from sklearn.metrics import balanced_accuracy_score, roc_auc_score\n",
    "from imblearn.ensemble import BalancedRandomForestClassifier\n",
    "from statistics import *\n",
    "from utils import *\n",
    "from pandas import *\n",
    "import numpy as np\n",
    "import matplotlib.pyplot as plt"
   ]
  },
  {
   "cell_type": "code",
   "execution_count": 29,
   "id": "fb45bc92",
   "metadata": {},
   "outputs": [],
   "source": [
    "# You can test the other datasets by changing these file names\n",
    "data_filepath = \"data/SC_integration/counts_ctc_simulated_123_5k.tsv\"\n",
    "true_results_filepath = \"data/SC_integration/ids_ctc_simulated_123_5k.tsv\"\n",
    "train_indices_filepath = \"data/SC_integration/train_indices.npy\"\n",
    "test_indices_filepath = \"data/SC_integration/test_indices.npy\"\n",
    "SEED = 42\n",
    "FOLD_NUMBER = 3\n",
    "\n",
    "# You can change these values to work better for models\n",
    "CUT_BY_MAX_THRESHOLD = 4\n",
    "PCA_VARIABLES_AMOUNT = 60\n",
    "\n",
    "# There are 4 data variants to check: regular, scaled, cut by max, pca reduced + cut by max\n",
    "data_object = Data(data_filepath, true_results_filepath)\n",
    "#data_object.generate_train_test_split() #generate train and test split indices' files in the main folder\n",
    "train_data, test_data, train_true_results, test_true_results =  data_object.load_train_test_split(train_indices_filepath, test_indices_filepath)\n",
    "scaled_train_data, scaled_test_data = data_object.get_scaled_train_test_data()"
   ]
  },
  {
   "cell_type": "code",
   "execution_count": 30,
   "id": "6ed923a1",
   "metadata": {},
   "outputs": [],
   "source": [
    "cut_by_max_train_data, cut_by_max_test_data = data_object.get_cut_by_max_train_test_data(CUT_BY_MAX_THRESHOLD)\n",
    "\n",
    "pca_object = PCADimensionReduction(cut_by_max_train_data, scaled_train_data, train_true_results, SEED)\n",
    "pca_variables = pca_object.get_most_important_variables_from_pc1(PCA_VARIABLES_AMOUNT)\n",
    "pca_reduced_train_data = cut_by_max_train_data[pca_variables.index]\n",
    "pca_reduced_test_data = cut_by_max_test_data[pca_variables.index]"
   ]
  },
  {
   "cell_type": "code",
   "execution_count": 31,
   "id": "63bf7905",
   "metadata": {},
   "outputs": [],
   "source": [
    "cancer_cells_indices = np.where(train_true_results.values.ravel() == 1)[0]\n",
    "healthy_cells_indices = np.where(train_true_results.values.ravel() == 0)[0]"
   ]
  },
  {
   "cell_type": "markdown",
   "id": "2f84fe63",
   "metadata": {},
   "source": [
    "### Regular data"
   ]
  },
  {
   "cell_type": "code",
   "execution_count": 32,
   "id": "4deb1f27",
   "metadata": {},
   "outputs": [],
   "source": [
    "cancer_cells = train_data.iloc[cancer_cells_indices]\n",
    "healthy_cells = train_data.iloc[healthy_cells_indices]"
   ]
  },
  {
   "cell_type": "code",
   "execution_count": 33,
   "id": "97e8ca3b",
   "metadata": {
    "scrolled": true
   },
   "outputs": [
    {
     "data": {
      "text/plain": [
       "CXCL8     0.000302\n",
       "VIM       0.000029\n",
       "LCN2      0.000657\n",
       "IL1B      0.000004\n",
       "S100A4    0.000156\n",
       "            ...   \n",
       "STC1      0.000002\n",
       "MFAP3L    0.000007\n",
       "RPL27A    0.001653\n",
       "MACF1     0.000034\n",
       "SPC24     0.000024\n",
       "Length: 2000, dtype: float64"
      ]
     },
     "execution_count": 33,
     "metadata": {},
     "output_type": "execute_result"
    }
   ],
   "source": [
    "variance = variance_between(cancer_cells, healthy_cells)\n",
    "\n",
    "variance"
   ]
  },
  {
   "cell_type": "code",
   "execution_count": 34,
   "id": "07a551be",
   "metadata": {},
   "outputs": [
    {
     "name": "stdout",
     "output_type": "stream",
     "text": [
      "mean variance:  9.62591022402786e-05\n",
      "max variance:  0.005935205926522863\n"
     ]
    }
   ],
   "source": [
    "print(\"mean variance: \", variance.mean())\n",
    "print(\"max variance: \", max(variance))"
   ]
  },
  {
   "cell_type": "markdown",
   "id": "714de870",
   "metadata": {},
   "source": [
    "### Scaled data"
   ]
  },
  {
   "cell_type": "code",
   "execution_count": 35,
   "id": "1aaace1b",
   "metadata": {},
   "outputs": [],
   "source": [
    "cancer_cells = scaled_train_data.iloc[cancer_cells_indices]\n",
    "healthy_cells = scaled_train_data.iloc[healthy_cells_indices]"
   ]
  },
  {
   "cell_type": "code",
   "execution_count": 36,
   "id": "dbf51c5e",
   "metadata": {},
   "outputs": [
    {
     "data": {
      "text/plain": [
       "CXCL8     0.000425\n",
       "VIM       0.000024\n",
       "LCN2      0.043719\n",
       "IL1B      0.000007\n",
       "S100A4    0.000078\n",
       "            ...   \n",
       "STC1      0.005390\n",
       "MFAP3L    0.003950\n",
       "RPL27A    0.008797\n",
       "MACF1     0.000098\n",
       "SPC24     0.006763\n",
       "Length: 2000, dtype: float64"
      ]
     },
     "execution_count": 36,
     "metadata": {},
     "output_type": "execute_result"
    }
   ],
   "source": [
    "variance = variance_between(cancer_cells, healthy_cells)\n",
    "\n",
    "variance"
   ]
  },
  {
   "cell_type": "code",
   "execution_count": 37,
   "id": "7501231e",
   "metadata": {},
   "outputs": [
    {
     "name": "stdout",
     "output_type": "stream",
     "text": [
      "mean variance:  0.006867163227153484\n",
      "max variance:  0.5500559459835836\n"
     ]
    }
   ],
   "source": [
    "print(\"mean variance: \", variance.mean())\n",
    "print(\"max variance: \", max(variance))"
   ]
  },
  {
   "cell_type": "markdown",
   "id": "09fa5ac5",
   "metadata": {},
   "source": [
    "### Cut by max data"
   ]
  },
  {
   "cell_type": "code",
   "execution_count": 38,
   "id": "71ce862c",
   "metadata": {},
   "outputs": [],
   "source": [
    "cancer_cells = cut_by_max_train_data.iloc[cancer_cells_indices]\n",
    "healthy_cells = cut_by_max_train_data.iloc[healthy_cells_indices]"
   ]
  },
  {
   "cell_type": "code",
   "execution_count": 39,
   "id": "74bd8771",
   "metadata": {},
   "outputs": [
    {
     "data": {
      "text/plain": [
       "CXCL8     0.000302\n",
       "VIM       0.000029\n",
       "S100A4    0.000156\n",
       "LTB       0.000161\n",
       "ISG15     0.000003\n",
       "            ...   \n",
       "DUSP2     0.000135\n",
       "TMSB4X    0.000014\n",
       "RPS29     0.000041\n",
       "ANXA1     0.000183\n",
       "RPL27A    0.001653\n",
       "Length: 66, dtype: float64"
      ]
     },
     "execution_count": 39,
     "metadata": {},
     "output_type": "execute_result"
    }
   ],
   "source": [
    "variance = variance_between(cancer_cells, healthy_cells)\n",
    "\n",
    "variance"
   ]
  },
  {
   "cell_type": "code",
   "execution_count": 40,
   "id": "fac003d2",
   "metadata": {},
   "outputs": [
    {
     "name": "stdout",
     "output_type": "stream",
     "text": [
      "mean variance:  0.00024161382140899213\n",
      "max variance:  0.005935205926522863\n"
     ]
    }
   ],
   "source": [
    "print(\"mean variance: \", variance.mean())\n",
    "print(\"max variance: \", max(variance))"
   ]
  },
  {
   "cell_type": "markdown",
   "id": "e15151fc",
   "metadata": {},
   "source": [
    "### PCA reduced + cut by max data"
   ]
  },
  {
   "cell_type": "code",
   "execution_count": 41,
   "id": "7485fd2f",
   "metadata": {},
   "outputs": [],
   "source": [
    "cancer_cells = pca_reduced_train_data.iloc[cancer_cells_indices]\n",
    "healthy_cells = pca_reduced_train_data.iloc[healthy_cells_indices]"
   ]
  },
  {
   "cell_type": "code",
   "execution_count": 42,
   "id": "8a526906",
   "metadata": {},
   "outputs": [
    {
     "data": {
      "text/plain": [
       "S100A9      3.625990e-06\n",
       "CST3        6.132040e-06\n",
       "CTSS        4.507416e-05\n",
       "LST1        3.035642e-05\n",
       "LGALS1      1.318114e-05\n",
       "S100A4      1.558836e-04\n",
       "S100A6      1.281168e-06\n",
       "FTL         3.786798e-04\n",
       "NEAT1       4.514401e-05\n",
       "SAT1        4.891578e-04\n",
       "PSAP        9.918821e-05\n",
       "SRGN        5.073070e-04\n",
       "LTB         1.612938e-04\n",
       "VCAN        5.546489e-08\n",
       "COTL1       3.957597e-05\n",
       "FTH1        8.423000e-06\n",
       "IL32        3.360936e-04\n",
       "CYBA        8.545211e-06\n",
       "NFKBIA      1.280464e-04\n",
       "CD74        1.105384e-04\n",
       "HLA-DQB1    4.740188e-05\n",
       "VIM         2.937939e-05\n",
       "GAPDH       2.082741e-04\n",
       "ANXA1       1.834821e-04\n",
       "FOS         8.377908e-05\n",
       "CXCL8       3.019382e-04\n",
       "RPS29       4.141385e-05\n",
       "ACTB        1.552720e-05\n",
       "KLF6        2.327807e-05\n",
       "RPS6        6.253874e-05\n",
       "MT-ND1      4.111781e-04\n",
       "MALAT1      5.935206e-03\n",
       "MT-ATP6     1.834002e-04\n",
       "IFITM3      5.056730e-05\n",
       "MT-ND4      1.299877e-04\n",
       "ISG20       1.365868e-06\n",
       "RPS18       9.166749e-05\n",
       "RPS23       1.125777e-03\n",
       "RNASET2     1.286398e-04\n",
       "RPL27A      1.653089e-03\n",
       "JUN         1.481152e-05\n",
       "TMSB4X      1.417194e-05\n",
       "JUNB        4.121194e-05\n",
       "PFN1        1.520657e-04\n",
       "RPS24       1.233260e-04\n",
       "ID2         1.139697e-04\n",
       "RPL37       7.525474e-05\n",
       "DUSP2       1.353791e-04\n",
       "HMGB2       7.050870e-05\n",
       "NCOA4       1.378447e-06\n",
       "MT-ND2      1.860314e-04\n",
       "IER2        3.715655e-04\n",
       "HLA-B       2.878410e-05\n",
       "LY6E        4.907006e-10\n",
       "IFI6        7.002575e-05\n",
       "CMC1        4.574576e-07\n",
       "ISG15       3.255071e-06\n",
       "HES1        5.954755e-05\n",
       "RPLP1       4.066439e-04\n",
       "IRF7        9.935222e-06\n",
       "dtype: float64"
      ]
     },
     "execution_count": 42,
     "metadata": {},
     "output_type": "execute_result"
    }
   ],
   "source": [
    "variance = variance_between(cancer_cells, healthy_cells)\n",
    "\n",
    "variance"
   ]
  },
  {
   "cell_type": "code",
   "execution_count": 43,
   "id": "a771431f",
   "metadata": {},
   "outputs": [
    {
     "name": "stdout",
     "output_type": "stream",
     "text": [
      "mean variance:  0.00025256332041698534\n",
      "max variance:  0.005935205926522863\n"
     ]
    }
   ],
   "source": [
    "print(\"mean variance: \", variance.mean())\n",
    "print(\"max variance: \", max(variance))"
   ]
  }
 ],
 "metadata": {
  "kernelspec": {
   "display_name": "Python 3 (ipykernel)",
   "language": "python",
   "name": "python3"
  },
  "language_info": {
   "codemirror_mode": {
    "name": "ipython",
    "version": 3
   },
   "file_extension": ".py",
   "mimetype": "text/x-python",
   "name": "python",
   "nbconvert_exporter": "python",
   "pygments_lexer": "ipython3",
   "version": "3.9.7"
  },
  "vscode": {
   "interpreter": {
    "hash": "11938c6bc6919ae2720b4d5011047913343b08a43b18698fd82dedb0d4417594"
   }
  }
 },
 "nbformat": 4,
 "nbformat_minor": 5
}
