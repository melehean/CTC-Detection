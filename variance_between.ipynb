{
 "cells": [
  {
   "cell_type": "code",
   "execution_count": 1,
   "id": "4caa9251",
   "metadata": {},
   "outputs": [],
   "source": [
    "from data import Data\n",
    "from dimension_reduction import PCADimensionReduction\n",
    "from sklearn.ensemble import RandomForestClassifier\n",
    "from sklearn.metrics import balanced_accuracy_score, roc_auc_score\n",
    "from imblearn.ensemble import BalancedRandomForestClassifier\n",
    "from statistics import *\n",
    "from utils import *\n",
    "from pandas import *\n",
    "import numpy as np\n",
    "import matplotlib.pyplot as plt"
   ]
  },
  {
   "cell_type": "code",
   "execution_count": 2,
   "id": "fb45bc92",
   "metadata": {},
   "outputs": [],
   "source": [
    "# You can test the other datasets by changing these file names\n",
    "data_filepath = \"data/SC_integration/counts_ctc_simulated_123_5k.tsv\"\n",
    "true_results_filepath = \"data/SC_integration/ids_ctc_simulated_123_5k.tsv\"\n",
    "train_indices_filepath = \"data/SC_integration/train_indices.npy\"\n",
    "test_indices_filepath = \"data/SC_integration/test_indices.npy\"\n",
    "SEED = 42\n",
    "FOLD_NUMBER = 3\n",
    "\n",
    "# You can change these values to work better for models\n",
    "CUT_BY_MAX_THRESHOLD = 4\n",
    "PCA_VARIABLES_AMOUNT = 60\n",
    "\n",
    "# There are 4 data variants to check: regular, scaled, cut by max, pca reduced + cut by max\n",
    "data_object = Data(data_filepath, true_results_filepath)\n",
    "#data_object.generate_train_test_split() #generate train and test split indices' files in the main folder\n",
    "train_data, test_data, train_true_results, test_true_results =  data_object.load_train_test_split(train_indices_filepath, test_indices_filepath)\n",
    "scaled_train_data, scaled_test_data = data_object.get_scaled_train_test_data()"
   ]
  },
  {
   "cell_type": "code",
   "execution_count": 3,
   "id": "6ed923a1",
   "metadata": {},
   "outputs": [],
   "source": [
    "cut_by_max_train_data, cut_by_max_test_data = data_object.get_cut_by_max_train_test_data(CUT_BY_MAX_THRESHOLD)\n",
    "\n",
    "pca_object = PCADimensionReduction(cut_by_max_train_data, scaled_train_data, train_true_results, SEED)\n",
    "pca_variables = pca_object.get_most_important_variables_from_pc1(PCA_VARIABLES_AMOUNT)\n",
    "pca_reduced_train_data = cut_by_max_train_data[pca_variables.index]\n",
    "pca_reduced_test_data = cut_by_max_test_data[pca_variables.index]"
   ]
  },
  {
   "cell_type": "code",
   "execution_count": 4,
   "id": "63bf7905",
   "metadata": {},
   "outputs": [],
   "source": [
    "cancer_cells_indices = np.where(train_true_results.values.ravel() == 1)[0]\n",
    "healthy_cells_indices = np.where(train_true_results.values.ravel() == 0)[0]"
   ]
  },
  {
   "cell_type": "markdown",
   "id": "2f84fe63",
   "metadata": {},
   "source": [
    "### Regular data"
   ]
  },
  {
   "cell_type": "code",
   "execution_count": 5,
   "id": "4deb1f27",
   "metadata": {},
   "outputs": [],
   "source": [
    "cancer_cells = train_data.iloc[cancer_cells_indices]\n",
    "healthy_cells = train_data.iloc[healthy_cells_indices]"
   ]
  },
  {
   "cell_type": "code",
   "execution_count": 6,
   "id": "97e8ca3b",
   "metadata": {
    "scrolled": true
   },
   "outputs": [
    {
     "data": {
      "text/plain": [
       "CXCL8     0.000302\n",
       "VIM       0.000029\n",
       "LCN2      0.000657\n",
       "IL1B      0.000004\n",
       "S100A4    0.000156\n",
       "            ...   \n",
       "STC1      0.000002\n",
       "MFAP3L    0.000007\n",
       "RPL27A    0.001653\n",
       "MACF1     0.000034\n",
       "SPC24     0.000024\n",
       "Length: 2000, dtype: float64"
      ]
     },
     "execution_count": 6,
     "metadata": {},
     "output_type": "execute_result"
    }
   ],
   "source": [
    "variance = variance_between(cancer_cells, healthy_cells)\n",
    "\n",
    "variance"
   ]
  },
  {
   "cell_type": "code",
   "execution_count": 7,
   "id": "07a551be",
   "metadata": {},
   "outputs": [
    {
     "name": "stdout",
     "output_type": "stream",
     "text": [
      "mean variance:  9.62591022402786e-05\n",
      "max variance:  0.005935205926522863\n",
      "number of features with variance higher than mean variance:  443\n"
     ]
    }
   ],
   "source": [
    "print(\"mean variance: \", variance.mean())\n",
    "print(\"max variance: \", max(variance))\n",
    "print(\"number of features with variance higher than mean variance: \", len(variance[variance > variance.mean()]))"
   ]
  },
  {
   "cell_type": "code",
   "execution_count": 8,
   "id": "fd5e5f0c",
   "metadata": {},
   "outputs": [
    {
     "data": {
      "text/plain": [
       "MALAT1      0.005935\n",
       "NME2        0.002186\n",
       "MKI67       0.002081\n",
       "TUBA1C      0.001905\n",
       "MT2A        0.001792\n",
       "RPL27A      0.001653\n",
       "YWHAE       0.001552\n",
       "MYOF        0.001538\n",
       "C15orf48    0.001536\n",
       "HNRNPAB     0.001479\n",
       "HCFC1R1     0.001404\n",
       "CENPF       0.001395\n",
       "TOP2A       0.001369\n",
       "HIST1H1C    0.001298\n",
       "PLAT        0.001230\n",
       "UBE2C       0.001217\n",
       "ANXA4       0.001177\n",
       "KRT18       0.001159\n",
       "UGCG        0.001137\n",
       "RPS23       0.001126\n",
       "SLC25A37    0.001101\n",
       "CKAP2       0.001097\n",
       "LIMS1       0.001038\n",
       "HIST1H4C    0.001031\n",
       "TLN1        0.001017\n",
       "ADI1        0.001007\n",
       "GNAI2       0.000988\n",
       "CALB1       0.000980\n",
       "AKAP12      0.000973\n",
       "PCNA        0.000951\n",
       "MT1E        0.000947\n",
       "OSTC        0.000943\n",
       "TGFBI       0.000943\n",
       "MCM3        0.000931\n",
       "HMGN2       0.000919\n",
       "MARCKS      0.000915\n",
       "SPDL1       0.000869\n",
       "ACAT1       0.000858\n",
       "LMO4        0.000823\n",
       "VMA21       0.000790\n",
       "KIF1C       0.000788\n",
       "C12orf75    0.000785\n",
       "CXCL1       0.000775\n",
       "TARS        0.000760\n",
       "PLIN3       0.000759\n",
       "SERPINA1    0.000754\n",
       "FNDC3B      0.000747\n",
       "TPX2        0.000746\n",
       "SLPI        0.000746\n",
       "MT1M        0.000731\n",
       "dtype: float64"
      ]
     },
     "execution_count": 8,
     "metadata": {},
     "output_type": "execute_result"
    }
   ],
   "source": [
    "variance.sort_values(ascending=False).head(50)"
   ]
  },
  {
   "cell_type": "markdown",
   "id": "714de870",
   "metadata": {},
   "source": [
    "### Scaled data"
   ]
  },
  {
   "cell_type": "code",
   "execution_count": 9,
   "id": "1aaace1b",
   "metadata": {},
   "outputs": [],
   "source": [
    "cancer_cells = scaled_train_data.iloc[cancer_cells_indices]\n",
    "healthy_cells = scaled_train_data.iloc[healthy_cells_indices]"
   ]
  },
  {
   "cell_type": "code",
   "execution_count": 10,
   "id": "dbf51c5e",
   "metadata": {},
   "outputs": [
    {
     "data": {
      "text/plain": [
       "CXCL8     0.000425\n",
       "VIM       0.000024\n",
       "LCN2      0.043719\n",
       "IL1B      0.000007\n",
       "S100A4    0.000078\n",
       "            ...   \n",
       "STC1      0.005390\n",
       "MFAP3L    0.003950\n",
       "RPL27A    0.008797\n",
       "MACF1     0.000098\n",
       "SPC24     0.006763\n",
       "Length: 2000, dtype: float64"
      ]
     },
     "execution_count": 10,
     "metadata": {},
     "output_type": "execute_result"
    }
   ],
   "source": [
    "variance = variance_between(cancer_cells, healthy_cells)\n",
    "\n",
    "variance"
   ]
  },
  {
   "cell_type": "code",
   "execution_count": 11,
   "id": "7501231e",
   "metadata": {},
   "outputs": [
    {
     "name": "stdout",
     "output_type": "stream",
     "text": [
      "mean variance:  0.006867163227153484\n",
      "max variance:  0.5500559459835836\n",
      "number of features with variance higher than mean variance:  246\n"
     ]
    }
   ],
   "source": [
    "print(\"mean variance: \", variance.mean())\n",
    "print(\"max variance: \", max(variance))\n",
    "print(\"number of features with variance higher than mean variance: \", len(variance[variance > variance.mean()]))"
   ]
  },
  {
   "cell_type": "code",
   "execution_count": 12,
   "id": "103a74ac",
   "metadata": {},
   "outputs": [
    {
     "data": {
      "text/plain": [
       "OCLN         0.550056\n",
       "CDC25C       0.527067\n",
       "SH2D4A       0.507673\n",
       "PRSS12       0.277217\n",
       "CSF2         0.248620\n",
       "PRR36        0.243397\n",
       "CCDC68       0.241797\n",
       "SLC24A3      0.217707\n",
       "LINC01191    0.215271\n",
       "DTL          0.193435\n",
       "CSF3         0.193119\n",
       "MIR100HG     0.182599\n",
       "HOXB-AS3     0.182271\n",
       "CDCP1        0.179400\n",
       "THSD7A       0.179204\n",
       "STOX2        0.165614\n",
       "DDIT4L       0.161666\n",
       "VEPH1        0.160810\n",
       "SAA1         0.157522\n",
       "PDLIM4       0.146138\n",
       "TM4SF19      0.144832\n",
       "GALNT16      0.134867\n",
       "HEY1         0.131291\n",
       "SPANXB1      0.127953\n",
       "TCF7L1       0.125692\n",
       "NEURL3       0.121615\n",
       "PLAT         0.118786\n",
       "CACNG8       0.117637\n",
       "UBE2C        0.115166\n",
       "CALB1        0.107055\n",
       "UCHL1        0.105567\n",
       "LIF          0.105383\n",
       "ARHGAP23     0.101730\n",
       "CXCL6        0.101544\n",
       "CENPA        0.100989\n",
       "CKAP2L       0.098388\n",
       "SPINK6       0.096770\n",
       "COL4A1       0.095130\n",
       "MT1M         0.093393\n",
       "MKI67        0.092062\n",
       "ESCO2        0.089654\n",
       "ANGPTL4      0.084612\n",
       "RAB42        0.081899\n",
       "AKAP12       0.080339\n",
       "TOP2A        0.079634\n",
       "CASC19       0.073841\n",
       "CENPF        0.072964\n",
       "SLPI         0.071802\n",
       "LAD1         0.070965\n",
       "MACC1        0.070226\n",
       "dtype: float64"
      ]
     },
     "execution_count": 12,
     "metadata": {},
     "output_type": "execute_result"
    }
   ],
   "source": [
    "variance.sort_values(ascending=False).head(50)"
   ]
  },
  {
   "cell_type": "markdown",
   "id": "09fa5ac5",
   "metadata": {},
   "source": [
    "### Cut by max data"
   ]
  },
  {
   "cell_type": "code",
   "execution_count": 13,
   "id": "71ce862c",
   "metadata": {},
   "outputs": [],
   "source": [
    "cancer_cells = cut_by_max_train_data.iloc[cancer_cells_indices]\n",
    "healthy_cells = cut_by_max_train_data.iloc[healthy_cells_indices]"
   ]
  },
  {
   "cell_type": "code",
   "execution_count": 14,
   "id": "74bd8771",
   "metadata": {},
   "outputs": [
    {
     "data": {
      "text/plain": [
       "CXCL8     0.000302\n",
       "VIM       0.000029\n",
       "S100A4    0.000156\n",
       "LTB       0.000161\n",
       "ISG15     0.000003\n",
       "            ...   \n",
       "DUSP2     0.000135\n",
       "TMSB4X    0.000014\n",
       "RPS29     0.000041\n",
       "ANXA1     0.000183\n",
       "RPL27A    0.001653\n",
       "Length: 66, dtype: float64"
      ]
     },
     "execution_count": 14,
     "metadata": {},
     "output_type": "execute_result"
    }
   ],
   "source": [
    "variance = variance_between(cancer_cells, healthy_cells)\n",
    "\n",
    "variance"
   ]
  },
  {
   "cell_type": "code",
   "execution_count": 15,
   "id": "fac003d2",
   "metadata": {},
   "outputs": [
    {
     "name": "stdout",
     "output_type": "stream",
     "text": [
      "mean variance:  0.00024161382140899213\n",
      "max variance:  0.005935205926522863\n",
      "number of features with variance higher than mean variance:  12\n"
     ]
    }
   ],
   "source": [
    "print(\"mean variance: \", variance.mean())\n",
    "print(\"max variance: \", max(variance))\n",
    "print(\"number of features with variance higher than mean variance: \", len(variance[variance > variance.mean()]))"
   ]
  },
  {
   "cell_type": "code",
   "execution_count": 16,
   "id": "8c186265",
   "metadata": {},
   "outputs": [
    {
     "data": {
      "text/plain": [
       "MALAT1       0.005935\n",
       "RPL27A       0.001653\n",
       "RPS23        0.001126\n",
       "SRGN         0.000507\n",
       "SAT1         0.000489\n",
       "GNG11        0.000431\n",
       "MT-ND1       0.000411\n",
       "RPLP1        0.000407\n",
       "FTL          0.000379\n",
       "IER2         0.000372\n",
       "IL32         0.000336\n",
       "CXCL8        0.000302\n",
       "GAPDH        0.000208\n",
       "MT-ND2       0.000186\n",
       "ANXA1        0.000183\n",
       "MT-ATP6      0.000183\n",
       "ODC1         0.000163\n",
       "LTB          0.000161\n",
       "S100A4       0.000156\n",
       "PFN1         0.000152\n",
       "DUSP2        0.000135\n",
       "MT-ND4       0.000130\n",
       "RNASET2      0.000129\n",
       "NFKBIA       0.000128\n",
       "RPS24        0.000123\n",
       "ID2          0.000114\n",
       "CD74         0.000111\n",
       "PSAP         0.000099\n",
       "RPS11        0.000096\n",
       "RPS18        0.000092\n",
       "FOS          0.000084\n",
       "RPL37        0.000075\n",
       "HMGB2        0.000071\n",
       "IFI6         0.000070\n",
       "RPS6         0.000063\n",
       "HES1         0.000060\n",
       "ACTG1        0.000054\n",
       "IFITM3       0.000051\n",
       "HLA-DQB1     0.000047\n",
       "HIST1H2AC    0.000046\n",
       "NEAT1        0.000045\n",
       "CTSS         0.000045\n",
       "RPS29        0.000041\n",
       "JUNB         0.000041\n",
       "COTL1        0.000040\n",
       "LST1         0.000030\n",
       "VIM          0.000029\n",
       "HLA-B        0.000029\n",
       "KLF6         0.000023\n",
       "ACTB         0.000016\n",
       "dtype: float64"
      ]
     },
     "execution_count": 16,
     "metadata": {},
     "output_type": "execute_result"
    }
   ],
   "source": [
    "variance.sort_values(ascending=False).head(50)"
   ]
  },
  {
   "cell_type": "markdown",
   "id": "e15151fc",
   "metadata": {},
   "source": [
    "### PCA reduced + cut by max data"
   ]
  },
  {
   "cell_type": "code",
   "execution_count": 17,
   "id": "7485fd2f",
   "metadata": {},
   "outputs": [],
   "source": [
    "cancer_cells = pca_reduced_train_data.iloc[cancer_cells_indices]\n",
    "healthy_cells = pca_reduced_train_data.iloc[healthy_cells_indices]"
   ]
  },
  {
   "cell_type": "code",
   "execution_count": 18,
   "id": "8a526906",
   "metadata": {},
   "outputs": [
    {
     "data": {
      "text/plain": [
       "S100A9      3.625990e-06\n",
       "CST3        6.132040e-06\n",
       "CTSS        4.507416e-05\n",
       "LST1        3.035642e-05\n",
       "LGALS1      1.318114e-05\n",
       "S100A4      1.558836e-04\n",
       "S100A6      1.281168e-06\n",
       "FTL         3.786798e-04\n",
       "NEAT1       4.514401e-05\n",
       "SAT1        4.891578e-04\n",
       "PSAP        9.918821e-05\n",
       "SRGN        5.073070e-04\n",
       "LTB         1.612938e-04\n",
       "VCAN        5.546489e-08\n",
       "COTL1       3.957597e-05\n",
       "FTH1        8.423000e-06\n",
       "IL32        3.360936e-04\n",
       "CYBA        8.545211e-06\n",
       "NFKBIA      1.280464e-04\n",
       "CD74        1.105384e-04\n",
       "HLA-DQB1    4.740188e-05\n",
       "VIM         2.937939e-05\n",
       "GAPDH       2.082741e-04\n",
       "ANXA1       1.834821e-04\n",
       "FOS         8.377908e-05\n",
       "CXCL8       3.019382e-04\n",
       "RPS29       4.141385e-05\n",
       "ACTB        1.552720e-05\n",
       "KLF6        2.327807e-05\n",
       "RPS6        6.253874e-05\n",
       "MT-ND1      4.111781e-04\n",
       "MALAT1      5.935206e-03\n",
       "MT-ATP6     1.834002e-04\n",
       "IFITM3      5.056730e-05\n",
       "MT-ND4      1.299877e-04\n",
       "ISG20       1.365868e-06\n",
       "RPS18       9.166749e-05\n",
       "RPS23       1.125777e-03\n",
       "RNASET2     1.286398e-04\n",
       "RPL27A      1.653089e-03\n",
       "JUN         1.481152e-05\n",
       "TMSB4X      1.417194e-05\n",
       "JUNB        4.121194e-05\n",
       "PFN1        1.520657e-04\n",
       "RPS24       1.233260e-04\n",
       "ID2         1.139697e-04\n",
       "RPL37       7.525474e-05\n",
       "DUSP2       1.353791e-04\n",
       "HMGB2       7.050870e-05\n",
       "NCOA4       1.378447e-06\n",
       "MT-ND2      1.860314e-04\n",
       "IER2        3.715655e-04\n",
       "HLA-B       2.878410e-05\n",
       "LY6E        4.907006e-10\n",
       "IFI6        7.002575e-05\n",
       "CMC1        4.574576e-07\n",
       "ISG15       3.255071e-06\n",
       "HES1        5.954755e-05\n",
       "RPLP1       4.066439e-04\n",
       "IRF7        9.935222e-06\n",
       "dtype: float64"
      ]
     },
     "execution_count": 18,
     "metadata": {},
     "output_type": "execute_result"
    }
   ],
   "source": [
    "variance = variance_between(cancer_cells, healthy_cells)\n",
    "\n",
    "variance"
   ]
  },
  {
   "cell_type": "code",
   "execution_count": 19,
   "id": "a771431f",
   "metadata": {},
   "outputs": [
    {
     "name": "stdout",
     "output_type": "stream",
     "text": [
      "mean variance:  0.00025256332041698534\n",
      "max variance:  0.005935205926522863\n",
      "number of features with variance higher than mean variance:  11\n"
     ]
    }
   ],
   "source": [
    "print(\"mean variance: \", variance.mean())\n",
    "print(\"max variance: \", max(variance))\n",
    "print(\"number of features with variance higher than mean variance: \", len(variance[variance > variance.mean()]))"
   ]
  },
  {
   "cell_type": "code",
   "execution_count": 20,
   "id": "9630e674",
   "metadata": {},
   "outputs": [
    {
     "data": {
      "text/plain": [
       "MALAT1      0.005935\n",
       "RPL27A      0.001653\n",
       "RPS23       0.001126\n",
       "SRGN        0.000507\n",
       "SAT1        0.000489\n",
       "MT-ND1      0.000411\n",
       "RPLP1       0.000407\n",
       "FTL         0.000379\n",
       "IER2        0.000372\n",
       "IL32        0.000336\n",
       "CXCL8       0.000302\n",
       "GAPDH       0.000208\n",
       "MT-ND2      0.000186\n",
       "ANXA1       0.000183\n",
       "MT-ATP6     0.000183\n",
       "LTB         0.000161\n",
       "S100A4      0.000156\n",
       "PFN1        0.000152\n",
       "DUSP2       0.000135\n",
       "MT-ND4      0.000130\n",
       "RNASET2     0.000129\n",
       "NFKBIA      0.000128\n",
       "RPS24       0.000123\n",
       "ID2         0.000114\n",
       "CD74        0.000111\n",
       "PSAP        0.000099\n",
       "RPS18       0.000092\n",
       "FOS         0.000084\n",
       "RPL37       0.000075\n",
       "HMGB2       0.000071\n",
       "IFI6        0.000070\n",
       "RPS6        0.000063\n",
       "HES1        0.000060\n",
       "IFITM3      0.000051\n",
       "HLA-DQB1    0.000047\n",
       "NEAT1       0.000045\n",
       "CTSS        0.000045\n",
       "RPS29       0.000041\n",
       "JUNB        0.000041\n",
       "COTL1       0.000040\n",
       "LST1        0.000030\n",
       "VIM         0.000029\n",
       "HLA-B       0.000029\n",
       "KLF6        0.000023\n",
       "ACTB        0.000016\n",
       "JUN         0.000015\n",
       "TMSB4X      0.000014\n",
       "LGALS1      0.000013\n",
       "IRF7        0.000010\n",
       "CYBA        0.000009\n",
       "dtype: float64"
      ]
     },
     "execution_count": 20,
     "metadata": {},
     "output_type": "execute_result"
    }
   ],
   "source": [
    "variance.sort_values(ascending=False).head(50)"
   ]
  }
 ],
 "metadata": {
  "kernelspec": {
   "display_name": "Python 3 (ipykernel)",
   "language": "python",
   "name": "python3"
  },
  "language_info": {
   "codemirror_mode": {
    "name": "ipython",
    "version": 3
   },
   "file_extension": ".py",
   "mimetype": "text/x-python",
   "name": "python",
   "nbconvert_exporter": "python",
   "pygments_lexer": "ipython3",
   "version": "3.9.7"
  },
  "vscode": {
   "interpreter": {
    "hash": "11938c6bc6919ae2720b4d5011047913343b08a43b18698fd82dedb0d4417594"
   }
  }
 },
 "nbformat": 4,
 "nbformat_minor": 5
}
