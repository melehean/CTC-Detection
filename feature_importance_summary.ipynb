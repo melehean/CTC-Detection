{
 "cells": [
  {
   "cell_type": "code",
   "execution_count": 9,
   "metadata": {
    "collapsed": true
   },
   "outputs": [],
   "source": [
    "from data import Data\n",
    "from dimension_reduction import PCADimensionReduction\n",
    "from utils import *"
   ]
  },
  {
   "cell_type": "code",
   "execution_count": 10,
   "outputs": [],
   "source": [
    "# You can test the other datasets by changing these file names\n",
    "data_filepath = \"data/SC_integration/counts_ctc_simulated_123_5k.tsv\"\n",
    "true_results_filepath = \"data/SC_integration/ids_ctc_simulated_123_5k.tsv\"\n",
    "train_indices_filepath = \"data/SC_integration/train_indices.npy\"\n",
    "test_indices_filepath = \"data/SC_integration/test_indices.npy\"\n",
    "SEED = 42\n",
    "FOLD_NUMBER = 3\n",
    "\n",
    "# You can change these values to work better for models\n",
    "CUT_BY_MAX_THRESHOLD = 4\n",
    "PCA_VARIABLES_AMOUNT = 60\n",
    "\n",
    "# There are 4 data variants to check: regular, scaled, cut by max, pca reduced + cut by max\n",
    "data_object = Data(data_filepath, true_results_filepath)\n",
    "train_data, test_data, train_true_results, test_true_results =  data_object.load_train_test_split(train_indices_filepath, test_indices_filepath)\n",
    "scaled_train_data, scaled_test_data = data_object.get_scaled_train_test_data()"
   ],
   "metadata": {
    "collapsed": false
   }
  },
  {
   "cell_type": "code",
   "execution_count": 11,
   "outputs": [],
   "source": [
    "cut_by_max_train_data, cut_by_max_test_data = data_object.get_cut_by_max_train_test_data(CUT_BY_MAX_THRESHOLD)\n",
    "\n",
    "pca_object = PCADimensionReduction(cut_by_max_train_data, scaled_train_data, train_true_results, SEED)\n",
    "pca_variables = pca_object.get_most_important_variables_from_pc1(PCA_VARIABLES_AMOUNT)\n",
    "pca_reduced_train_data = cut_by_max_train_data[pca_variables.index]\n",
    "pca_reduced_test_data = cut_by_max_test_data[pca_variables.index]"
   ],
   "metadata": {
    "collapsed": false
   }
  },
  {
   "cell_type": "markdown",
   "source": [
    "## Calculate statistics"
   ],
   "metadata": {
    "collapsed": false
   }
  },
  {
   "cell_type": "markdown",
   "source": [
    "### Regular data"
   ],
   "metadata": {
    "collapsed": false
   }
  },
  {
   "cell_type": "code",
   "execution_count": 12,
   "outputs": [
    {
     "data": {
      "text/plain": "         ctc_variance  other_cells_variance  ctc_mean  other_cells_mean  \\\nLYPD1        0.001640              0.000492 -0.041227          0.000403   \nCTSV         0.011708              0.003820 -0.109960          0.003860   \nPLXNB1       0.002936              0.000773 -0.048202          0.000505   \nCLGN         0.003087              0.001039 -0.049504          0.000966   \nRBP1         0.001212              0.000422 -0.027049          0.000373   \n...               ...                   ...       ...               ...   \nRPL27A       1.185831              0.174752  3.588467          3.971691   \nRNF144B      0.222263              0.122330  0.207723          0.089673   \nKLF9         0.004032              0.126510  0.073149          0.098617   \nKIF3B        0.085274              0.045390 -0.036723          0.035041   \nSNHG12       0.243747              0.112712  0.198840          0.085841   \n\n          ctc_std  other_cells_std  variance_check     t_test      p_values  \\\nLYPD1    0.040492         0.022191            True  10.887897  4.091244e-27   \nCTSV     0.108205         0.061803            True  10.704494  2.801127e-26   \nPLXNB1   0.054181         0.027810            True  10.138703  8.769759e-24   \nCLGN     0.055561         0.032228            True   9.107243  1.484111e-19   \nRBP1     0.034817         0.020541            True   7.767840  1.079962e-14   \n...           ...              ...             ...        ...           ...   \nRPL27A   1.088959         0.418033           False   2.050326  4.808014e-02   \nRNF144B  0.471448         0.349758            True   1.975582  4.829148e-02   \nKLF9     0.063494         0.355683           False   2.012080  4.856245e-02   \nKIF3B    0.292017         0.213049            True   1.970936  4.882088e-02   \nSNHG12   0.493707         0.335726            True   1.966256  4.935891e-02   \n\n         information_gain  \nLYPD1            0.034543  \nCTSV             0.051825  \nPLXNB1           0.033745  \nCLGN             0.027640  \nRBP1             0.033527  \n...                   ...  \nRPL27A           0.008283  \nRNF144B          0.048109  \nKLF9             0.057874  \nKIF3B            0.052465  \nSNHG12           0.047719  \n\n[442 rows x 10 columns]",
      "text/html": "<div>\n<style scoped>\n    .dataframe tbody tr th:only-of-type {\n        vertical-align: middle;\n    }\n\n    .dataframe tbody tr th {\n        vertical-align: top;\n    }\n\n    .dataframe thead th {\n        text-align: right;\n    }\n</style>\n<table border=\"1\" class=\"dataframe\">\n  <thead>\n    <tr style=\"text-align: right;\">\n      <th></th>\n      <th>ctc_variance</th>\n      <th>other_cells_variance</th>\n      <th>ctc_mean</th>\n      <th>other_cells_mean</th>\n      <th>ctc_std</th>\n      <th>other_cells_std</th>\n      <th>variance_check</th>\n      <th>t_test</th>\n      <th>p_values</th>\n      <th>information_gain</th>\n    </tr>\n  </thead>\n  <tbody>\n    <tr>\n      <th>LYPD1</th>\n      <td>0.001640</td>\n      <td>0.000492</td>\n      <td>-0.041227</td>\n      <td>0.000403</td>\n      <td>0.040492</td>\n      <td>0.022191</td>\n      <td>True</td>\n      <td>10.887897</td>\n      <td>4.091244e-27</td>\n      <td>0.034543</td>\n    </tr>\n    <tr>\n      <th>CTSV</th>\n      <td>0.011708</td>\n      <td>0.003820</td>\n      <td>-0.109960</td>\n      <td>0.003860</td>\n      <td>0.108205</td>\n      <td>0.061803</td>\n      <td>True</td>\n      <td>10.704494</td>\n      <td>2.801127e-26</td>\n      <td>0.051825</td>\n    </tr>\n    <tr>\n      <th>PLXNB1</th>\n      <td>0.002936</td>\n      <td>0.000773</td>\n      <td>-0.048202</td>\n      <td>0.000505</td>\n      <td>0.054181</td>\n      <td>0.027810</td>\n      <td>True</td>\n      <td>10.138703</td>\n      <td>8.769759e-24</td>\n      <td>0.033745</td>\n    </tr>\n    <tr>\n      <th>CLGN</th>\n      <td>0.003087</td>\n      <td>0.001039</td>\n      <td>-0.049504</td>\n      <td>0.000966</td>\n      <td>0.055561</td>\n      <td>0.032228</td>\n      <td>True</td>\n      <td>9.107243</td>\n      <td>1.484111e-19</td>\n      <td>0.027640</td>\n    </tr>\n    <tr>\n      <th>RBP1</th>\n      <td>0.001212</td>\n      <td>0.000422</td>\n      <td>-0.027049</td>\n      <td>0.000373</td>\n      <td>0.034817</td>\n      <td>0.020541</td>\n      <td>True</td>\n      <td>7.767840</td>\n      <td>1.079962e-14</td>\n      <td>0.033527</td>\n    </tr>\n    <tr>\n      <th>...</th>\n      <td>...</td>\n      <td>...</td>\n      <td>...</td>\n      <td>...</td>\n      <td>...</td>\n      <td>...</td>\n      <td>...</td>\n      <td>...</td>\n      <td>...</td>\n      <td>...</td>\n    </tr>\n    <tr>\n      <th>RPL27A</th>\n      <td>1.185831</td>\n      <td>0.174752</td>\n      <td>3.588467</td>\n      <td>3.971691</td>\n      <td>1.088959</td>\n      <td>0.418033</td>\n      <td>False</td>\n      <td>2.050326</td>\n      <td>4.808014e-02</td>\n      <td>0.008283</td>\n    </tr>\n    <tr>\n      <th>RNF144B</th>\n      <td>0.222263</td>\n      <td>0.122330</td>\n      <td>0.207723</td>\n      <td>0.089673</td>\n      <td>0.471448</td>\n      <td>0.349758</td>\n      <td>True</td>\n      <td>1.975582</td>\n      <td>4.829148e-02</td>\n      <td>0.048109</td>\n    </tr>\n    <tr>\n      <th>KLF9</th>\n      <td>0.004032</td>\n      <td>0.126510</td>\n      <td>0.073149</td>\n      <td>0.098617</td>\n      <td>0.063494</td>\n      <td>0.355683</td>\n      <td>False</td>\n      <td>2.012080</td>\n      <td>4.856245e-02</td>\n      <td>0.057874</td>\n    </tr>\n    <tr>\n      <th>KIF3B</th>\n      <td>0.085274</td>\n      <td>0.045390</td>\n      <td>-0.036723</td>\n      <td>0.035041</td>\n      <td>0.292017</td>\n      <td>0.213049</td>\n      <td>True</td>\n      <td>1.970936</td>\n      <td>4.882088e-02</td>\n      <td>0.052465</td>\n    </tr>\n    <tr>\n      <th>SNHG12</th>\n      <td>0.243747</td>\n      <td>0.112712</td>\n      <td>0.198840</td>\n      <td>0.085841</td>\n      <td>0.493707</td>\n      <td>0.335726</td>\n      <td>True</td>\n      <td>1.966256</td>\n      <td>4.935891e-02</td>\n      <td>0.047719</td>\n    </tr>\n  </tbody>\n</table>\n<p>442 rows × 10 columns</p>\n</div>"
     },
     "execution_count": 12,
     "metadata": {},
     "output_type": "execute_result"
    }
   ],
   "source": [
    "statistics = calculate_statistics(train_data, train_true_results.values.ravel())\n",
    "statistics = statistics[statistics[\"p_values\"] < 0.05]\n",
    "statistics"
   ],
   "metadata": {
    "collapsed": false
   }
  },
  {
   "cell_type": "markdown",
   "source": [
    "### Scaled data"
   ],
   "metadata": {
    "collapsed": false
   }
  },
  {
   "cell_type": "code",
   "execution_count": 13,
   "outputs": [
    {
     "name": "stderr",
     "output_type": "stream",
     "text": [
      "/home/melehean/Important_Stuff/Studies/GUMED/CTC-Detection/utils.py:44: RuntimeWarning: Precision loss occurred in moment calculation due to catastrophic cancellation. This occurs when the data are nearly identical. Results may be unreliable.\n",
      "  t_statistics = np.where(statistics[\"variance_check\"], stats.ttest_ind(healthy_cells_data, cancer_cells_data, equal_var = True).statistic, stats.ttest_ind(healthy_cells_data, cancer_cells_data, equal_var = False).statistic)\n",
      "/home/melehean/Important_Stuff/Studies/GUMED/CTC-Detection/utils.py:48: RuntimeWarning: Precision loss occurred in moment calculation due to catastrophic cancellation. This occurs when the data are nearly identical. Results may be unreliable.\n",
      "  p_values = np.where(statistics[\"variance_check\"], stats.ttest_ind(healthy_cells_data, cancer_cells_data, equal_var = True).pvalue, stats.ttest_ind(healthy_cells_data, cancer_cells_data, equal_var = False).pvalue)\n"
     ]
    },
    {
     "data": {
      "text/plain": "         ctc_variance  other_cells_variance  ctc_mean  other_cells_mean  \\\nLYPD1        3.122861              0.937968 -1.796151          0.020686   \nCTSV         2.887166              0.941893 -1.766992          0.020350   \nPLXNB1       3.559378              0.937773 -1.676702          0.019310   \nCLGN         2.830516              0.952326 -1.510854          0.017400   \nRBP1         2.758942              0.960257 -1.293294          0.014895   \n...               ...                   ...       ...               ...   \nRPL27A       6.310406              0.929942 -0.873970          0.010065   \nRNF144B      1.797880              0.989527  0.331925         -0.003823   \nKLF9         0.032221              1.011087 -0.071180          0.000820   \nKIF3B        1.857737              0.988844 -0.331145          0.003814   \nSNHG12       2.131630              0.985696  0.330360         -0.003805   \n\n          ctc_std  other_cells_std  variance_check     t_test      p_values  \\\nLYPD1    1.767162         0.968487            True  10.887897  4.091244e-27   \nCTSV     1.699166         0.970511            True  10.704494  2.801127e-26   \nPLXNB1   1.886631         0.968387            True  10.138703  8.769759e-24   \nCLGN     1.682414         0.975872            True   9.107243  1.484111e-19   \nRBP1     1.661006         0.979927            True   7.767840  1.079962e-14   \n...           ...              ...             ...        ...           ...   \nRPL27A   2.512052         0.964335           False   2.050326  4.808014e-02   \nRNF144B  1.340851         0.994750            True   1.975582  4.829148e-02   \nKLF9     0.179501         1.005528           False   2.012080  4.856245e-02   \nKIF3B    1.362988         0.994406            True   1.970936  4.882088e-02   \nSNHG12   1.460010         0.992822            True   1.966256  4.935891e-02   \n\n         information_gain  \nLYPD1            0.034543  \nCTSV             0.051825  \nPLXNB1           0.033745  \nCLGN             0.027640  \nRBP1             0.033527  \n...                   ...  \nRPL27A           0.008283  \nRNF144B          0.048272  \nKLF9             0.057874  \nKIF3B            0.052465  \nSNHG12           0.048044  \n\n[442 rows x 10 columns]",
      "text/html": "<div>\n<style scoped>\n    .dataframe tbody tr th:only-of-type {\n        vertical-align: middle;\n    }\n\n    .dataframe tbody tr th {\n        vertical-align: top;\n    }\n\n    .dataframe thead th {\n        text-align: right;\n    }\n</style>\n<table border=\"1\" class=\"dataframe\">\n  <thead>\n    <tr style=\"text-align: right;\">\n      <th></th>\n      <th>ctc_variance</th>\n      <th>other_cells_variance</th>\n      <th>ctc_mean</th>\n      <th>other_cells_mean</th>\n      <th>ctc_std</th>\n      <th>other_cells_std</th>\n      <th>variance_check</th>\n      <th>t_test</th>\n      <th>p_values</th>\n      <th>information_gain</th>\n    </tr>\n  </thead>\n  <tbody>\n    <tr>\n      <th>LYPD1</th>\n      <td>3.122861</td>\n      <td>0.937968</td>\n      <td>-1.796151</td>\n      <td>0.020686</td>\n      <td>1.767162</td>\n      <td>0.968487</td>\n      <td>True</td>\n      <td>10.887897</td>\n      <td>4.091244e-27</td>\n      <td>0.034543</td>\n    </tr>\n    <tr>\n      <th>CTSV</th>\n      <td>2.887166</td>\n      <td>0.941893</td>\n      <td>-1.766992</td>\n      <td>0.020350</td>\n      <td>1.699166</td>\n      <td>0.970511</td>\n      <td>True</td>\n      <td>10.704494</td>\n      <td>2.801127e-26</td>\n      <td>0.051825</td>\n    </tr>\n    <tr>\n      <th>PLXNB1</th>\n      <td>3.559378</td>\n      <td>0.937773</td>\n      <td>-1.676702</td>\n      <td>0.019310</td>\n      <td>1.886631</td>\n      <td>0.968387</td>\n      <td>True</td>\n      <td>10.138703</td>\n      <td>8.769759e-24</td>\n      <td>0.033745</td>\n    </tr>\n    <tr>\n      <th>CLGN</th>\n      <td>2.830516</td>\n      <td>0.952326</td>\n      <td>-1.510854</td>\n      <td>0.017400</td>\n      <td>1.682414</td>\n      <td>0.975872</td>\n      <td>True</td>\n      <td>9.107243</td>\n      <td>1.484111e-19</td>\n      <td>0.027640</td>\n    </tr>\n    <tr>\n      <th>RBP1</th>\n      <td>2.758942</td>\n      <td>0.960257</td>\n      <td>-1.293294</td>\n      <td>0.014895</td>\n      <td>1.661006</td>\n      <td>0.979927</td>\n      <td>True</td>\n      <td>7.767840</td>\n      <td>1.079962e-14</td>\n      <td>0.033527</td>\n    </tr>\n    <tr>\n      <th>...</th>\n      <td>...</td>\n      <td>...</td>\n      <td>...</td>\n      <td>...</td>\n      <td>...</td>\n      <td>...</td>\n      <td>...</td>\n      <td>...</td>\n      <td>...</td>\n      <td>...</td>\n    </tr>\n    <tr>\n      <th>RPL27A</th>\n      <td>6.310406</td>\n      <td>0.929942</td>\n      <td>-0.873970</td>\n      <td>0.010065</td>\n      <td>2.512052</td>\n      <td>0.964335</td>\n      <td>False</td>\n      <td>2.050326</td>\n      <td>4.808014e-02</td>\n      <td>0.008283</td>\n    </tr>\n    <tr>\n      <th>RNF144B</th>\n      <td>1.797880</td>\n      <td>0.989527</td>\n      <td>0.331925</td>\n      <td>-0.003823</td>\n      <td>1.340851</td>\n      <td>0.994750</td>\n      <td>True</td>\n      <td>1.975582</td>\n      <td>4.829148e-02</td>\n      <td>0.048272</td>\n    </tr>\n    <tr>\n      <th>KLF9</th>\n      <td>0.032221</td>\n      <td>1.011087</td>\n      <td>-0.071180</td>\n      <td>0.000820</td>\n      <td>0.179501</td>\n      <td>1.005528</td>\n      <td>False</td>\n      <td>2.012080</td>\n      <td>4.856245e-02</td>\n      <td>0.057874</td>\n    </tr>\n    <tr>\n      <th>KIF3B</th>\n      <td>1.857737</td>\n      <td>0.988844</td>\n      <td>-0.331145</td>\n      <td>0.003814</td>\n      <td>1.362988</td>\n      <td>0.994406</td>\n      <td>True</td>\n      <td>1.970936</td>\n      <td>4.882088e-02</td>\n      <td>0.052465</td>\n    </tr>\n    <tr>\n      <th>SNHG12</th>\n      <td>2.131630</td>\n      <td>0.985696</td>\n      <td>0.330360</td>\n      <td>-0.003805</td>\n      <td>1.460010</td>\n      <td>0.992822</td>\n      <td>True</td>\n      <td>1.966256</td>\n      <td>4.935891e-02</td>\n      <td>0.048044</td>\n    </tr>\n  </tbody>\n</table>\n<p>442 rows × 10 columns</p>\n</div>"
     },
     "execution_count": 13,
     "metadata": {},
     "output_type": "execute_result"
    }
   ],
   "source": [
    "statistics = calculate_statistics(scaled_train_data, train_true_results.values.ravel())\n",
    "statistics = statistics[statistics[\"p_values\"] < 0.05]\n",
    "statistics"
   ],
   "metadata": {
    "collapsed": false
   }
  },
  {
   "cell_type": "markdown",
   "source": [
    "### Cut by max data"
   ],
   "metadata": {
    "collapsed": false
   }
  },
  {
   "cell_type": "code",
   "execution_count": 14,
   "outputs": [
    {
     "data": {
      "text/plain": "           ctc_variance  other_cells_variance  ctc_mean  other_cells_mean  \\\nHIST1H2AC      0.006935              0.113099  0.006855          0.071128   \nDUSP2          0.022698              0.826206  0.719691          0.610023   \nRPLP1          0.455448              0.153533  4.264101          4.454170   \nMALAT1         2.402051              0.226634  5.587235          6.313378   \nIRF7           0.003437              0.257767  0.149566          0.179275   \nID2            0.060887              0.945616  0.682710          0.783333   \nRPL27A         1.185831              0.174752  3.588467          3.971691   \n\n            ctc_std  other_cells_std  variance_check    t_test  p_values  \\\nHIST1H2AC  0.083277         0.336302           False  4.138448  0.000142   \nDUSP2      0.150659         0.908959           False  3.577834  0.000648   \nRPLP1      0.674869         0.391833            True  2.821037  0.004818   \nMALAT1     1.549855         0.476061           False  2.730496  0.009940   \nIRF7       0.058626         0.507707           False  2.178763  0.031405   \nID2        0.246752         0.972428           False  2.194713  0.033179   \nRPL27A     1.088959         0.418033           False  2.050326  0.048080   \n\n           information_gain  \nHIST1H2AC          0.050214  \nDUSP2              0.042063  \nRPLP1              0.000000  \nMALAT1             0.007915  \nIRF7               0.062440  \nID2                0.041578  \nRPL27A             0.008283  ",
      "text/html": "<div>\n<style scoped>\n    .dataframe tbody tr th:only-of-type {\n        vertical-align: middle;\n    }\n\n    .dataframe tbody tr th {\n        vertical-align: top;\n    }\n\n    .dataframe thead th {\n        text-align: right;\n    }\n</style>\n<table border=\"1\" class=\"dataframe\">\n  <thead>\n    <tr style=\"text-align: right;\">\n      <th></th>\n      <th>ctc_variance</th>\n      <th>other_cells_variance</th>\n      <th>ctc_mean</th>\n      <th>other_cells_mean</th>\n      <th>ctc_std</th>\n      <th>other_cells_std</th>\n      <th>variance_check</th>\n      <th>t_test</th>\n      <th>p_values</th>\n      <th>information_gain</th>\n    </tr>\n  </thead>\n  <tbody>\n    <tr>\n      <th>HIST1H2AC</th>\n      <td>0.006935</td>\n      <td>0.113099</td>\n      <td>0.006855</td>\n      <td>0.071128</td>\n      <td>0.083277</td>\n      <td>0.336302</td>\n      <td>False</td>\n      <td>4.138448</td>\n      <td>0.000142</td>\n      <td>0.050214</td>\n    </tr>\n    <tr>\n      <th>DUSP2</th>\n      <td>0.022698</td>\n      <td>0.826206</td>\n      <td>0.719691</td>\n      <td>0.610023</td>\n      <td>0.150659</td>\n      <td>0.908959</td>\n      <td>False</td>\n      <td>3.577834</td>\n      <td>0.000648</td>\n      <td>0.042063</td>\n    </tr>\n    <tr>\n      <th>RPLP1</th>\n      <td>0.455448</td>\n      <td>0.153533</td>\n      <td>4.264101</td>\n      <td>4.454170</td>\n      <td>0.674869</td>\n      <td>0.391833</td>\n      <td>True</td>\n      <td>2.821037</td>\n      <td>0.004818</td>\n      <td>0.000000</td>\n    </tr>\n    <tr>\n      <th>MALAT1</th>\n      <td>2.402051</td>\n      <td>0.226634</td>\n      <td>5.587235</td>\n      <td>6.313378</td>\n      <td>1.549855</td>\n      <td>0.476061</td>\n      <td>False</td>\n      <td>2.730496</td>\n      <td>0.009940</td>\n      <td>0.007915</td>\n    </tr>\n    <tr>\n      <th>IRF7</th>\n      <td>0.003437</td>\n      <td>0.257767</td>\n      <td>0.149566</td>\n      <td>0.179275</td>\n      <td>0.058626</td>\n      <td>0.507707</td>\n      <td>False</td>\n      <td>2.178763</td>\n      <td>0.031405</td>\n      <td>0.062440</td>\n    </tr>\n    <tr>\n      <th>ID2</th>\n      <td>0.060887</td>\n      <td>0.945616</td>\n      <td>0.682710</td>\n      <td>0.783333</td>\n      <td>0.246752</td>\n      <td>0.972428</td>\n      <td>False</td>\n      <td>2.194713</td>\n      <td>0.033179</td>\n      <td>0.041578</td>\n    </tr>\n    <tr>\n      <th>RPL27A</th>\n      <td>1.185831</td>\n      <td>0.174752</td>\n      <td>3.588467</td>\n      <td>3.971691</td>\n      <td>1.088959</td>\n      <td>0.418033</td>\n      <td>False</td>\n      <td>2.050326</td>\n      <td>0.048080</td>\n      <td>0.008283</td>\n    </tr>\n  </tbody>\n</table>\n</div>"
     },
     "execution_count": 14,
     "metadata": {},
     "output_type": "execute_result"
    }
   ],
   "source": [
    "statistics = calculate_statistics(cut_by_max_train_data, train_true_results.values.ravel())\n",
    "statistics = statistics[statistics[\"p_values\"] < 0.05]\n",
    "statistics"
   ],
   "metadata": {
    "collapsed": false
   }
  },
  {
   "cell_type": "markdown",
   "source": [
    "### Pca reduced + cut by max data"
   ],
   "metadata": {
    "collapsed": false
   }
  },
  {
   "cell_type": "code",
   "execution_count": 15,
   "outputs": [
    {
     "data": {
      "text/plain": "        ctc_variance  other_cells_variance  ctc_mean  other_cells_mean  \\\nDUSP2       0.022698              0.826206  0.719691          0.610023   \nRPLP1       0.455448              0.153533  4.264101          4.454170   \nMALAT1      2.402051              0.226634  5.587235          6.313378   \nIRF7        0.003437              0.257767  0.149566          0.179275   \nID2         0.060887              0.945616  0.682710          0.783333   \nRPL27A      1.185831              0.174752  3.588467          3.971691   \n\n         ctc_std  other_cells_std  variance_check    t_test  p_values  \\\nDUSP2   0.150659         0.908959           False  3.577834  0.000648   \nRPLP1   0.674869         0.391833            True  2.821037  0.004818   \nMALAT1  1.549855         0.476061           False  2.730496  0.009940   \nIRF7    0.058626         0.507707           False  2.178763  0.031405   \nID2     0.246752         0.972428           False  2.194713  0.033179   \nRPL27A  1.088959         0.418033           False  2.050326  0.048080   \n\n        information_gain  \nDUSP2           0.042063  \nRPLP1           0.000000  \nMALAT1          0.007915  \nIRF7            0.062440  \nID2             0.041578  \nRPL27A          0.008283  ",
      "text/html": "<div>\n<style scoped>\n    .dataframe tbody tr th:only-of-type {\n        vertical-align: middle;\n    }\n\n    .dataframe tbody tr th {\n        vertical-align: top;\n    }\n\n    .dataframe thead th {\n        text-align: right;\n    }\n</style>\n<table border=\"1\" class=\"dataframe\">\n  <thead>\n    <tr style=\"text-align: right;\">\n      <th></th>\n      <th>ctc_variance</th>\n      <th>other_cells_variance</th>\n      <th>ctc_mean</th>\n      <th>other_cells_mean</th>\n      <th>ctc_std</th>\n      <th>other_cells_std</th>\n      <th>variance_check</th>\n      <th>t_test</th>\n      <th>p_values</th>\n      <th>information_gain</th>\n    </tr>\n  </thead>\n  <tbody>\n    <tr>\n      <th>DUSP2</th>\n      <td>0.022698</td>\n      <td>0.826206</td>\n      <td>0.719691</td>\n      <td>0.610023</td>\n      <td>0.150659</td>\n      <td>0.908959</td>\n      <td>False</td>\n      <td>3.577834</td>\n      <td>0.000648</td>\n      <td>0.042063</td>\n    </tr>\n    <tr>\n      <th>RPLP1</th>\n      <td>0.455448</td>\n      <td>0.153533</td>\n      <td>4.264101</td>\n      <td>4.454170</td>\n      <td>0.674869</td>\n      <td>0.391833</td>\n      <td>True</td>\n      <td>2.821037</td>\n      <td>0.004818</td>\n      <td>0.000000</td>\n    </tr>\n    <tr>\n      <th>MALAT1</th>\n      <td>2.402051</td>\n      <td>0.226634</td>\n      <td>5.587235</td>\n      <td>6.313378</td>\n      <td>1.549855</td>\n      <td>0.476061</td>\n      <td>False</td>\n      <td>2.730496</td>\n      <td>0.009940</td>\n      <td>0.007915</td>\n    </tr>\n    <tr>\n      <th>IRF7</th>\n      <td>0.003437</td>\n      <td>0.257767</td>\n      <td>0.149566</td>\n      <td>0.179275</td>\n      <td>0.058626</td>\n      <td>0.507707</td>\n      <td>False</td>\n      <td>2.178763</td>\n      <td>0.031405</td>\n      <td>0.062440</td>\n    </tr>\n    <tr>\n      <th>ID2</th>\n      <td>0.060887</td>\n      <td>0.945616</td>\n      <td>0.682710</td>\n      <td>0.783333</td>\n      <td>0.246752</td>\n      <td>0.972428</td>\n      <td>False</td>\n      <td>2.194713</td>\n      <td>0.033179</td>\n      <td>0.041578</td>\n    </tr>\n    <tr>\n      <th>RPL27A</th>\n      <td>1.185831</td>\n      <td>0.174752</td>\n      <td>3.588467</td>\n      <td>3.971691</td>\n      <td>1.088959</td>\n      <td>0.418033</td>\n      <td>False</td>\n      <td>2.050326</td>\n      <td>0.048080</td>\n      <td>0.008283</td>\n    </tr>\n  </tbody>\n</table>\n</div>"
     },
     "execution_count": 15,
     "metadata": {},
     "output_type": "execute_result"
    }
   ],
   "source": [
    "statistics = calculate_statistics(pca_reduced_train_data, train_true_results.values.ravel())\n",
    "statistics = statistics[statistics[\"p_values\"] < 0.05]\n",
    "statistics"
   ],
   "metadata": {
    "collapsed": false
   }
  },
  {
   "cell_type": "markdown",
   "source": [
    "## Logistic regression"
   ],
   "metadata": {
    "collapsed": false
   }
  },
  {
   "cell_type": "code",
   "execution_count": 16,
   "outputs": [
    {
     "data": {
      "text/plain": "          feature_importance_vals\ncol_name                         \nPLAT                     1.147693\nCENPF                    1.006735\nESCO2                    0.837701\nMKI67                    0.637532\nSPDL1                    0.627327\nC15orf48                 0.616605\nSAA1                     0.517257\nKRT18                    0.494190\nHCFC1R1                  0.432873\nCDKN1C                   0.380458\nRANBP2                   0.344423\nTLN1                     0.274559\nUGCG                     0.265941\nADI1                     0.241434\nLCN2                     0.233793\nHIST1H4C                 0.224745\nANXA4                    0.204929\nCXCL1                    0.174163\nMT2A                     0.166585\nPLIN3                    0.155216\nTPX2                     0.145297\nIER3                     0.141132\nTPM2                     0.138143\nCETN3                    0.117941\nSTX7                     0.107446\nPON2                     0.101615\nHIST1H1C                 0.074788\nC12orf75                 0.059423\nSEC14L1                  0.055291\nTPM4                     0.038460\nTUBA4A                   0.036340\nACAT1                    0.026777\nMT1E                     0.019869\nMYDGF                    0.015944\nBASP1                    0.013559\nS100A10                 -0.008357\nANXA2                   -0.015607\nVIM                     -0.017016\nPCNA                    -0.017797\nCALM1                   -0.029104\nNME2                    -0.038366\nCAPG                    -0.060602\nSTMN1                   -0.067236\nTUBA1C                  -0.074624\nLIMS1                   -0.154861\nPAWR                    -0.232258\nHNRNPAB                 -0.296906\nYWHAE                   -0.352553\nMALAT1                  -0.378929\nMYOF                    -1.514795",
      "text/html": "<div>\n<style scoped>\n    .dataframe tbody tr th:only-of-type {\n        vertical-align: middle;\n    }\n\n    .dataframe tbody tr th {\n        vertical-align: top;\n    }\n\n    .dataframe thead th {\n        text-align: right;\n    }\n</style>\n<table border=\"1\" class=\"dataframe\">\n  <thead>\n    <tr style=\"text-align: right;\">\n      <th></th>\n      <th>feature_importance_vals</th>\n    </tr>\n    <tr>\n      <th>col_name</th>\n      <th></th>\n    </tr>\n  </thead>\n  <tbody>\n    <tr>\n      <th>PLAT</th>\n      <td>1.147693</td>\n    </tr>\n    <tr>\n      <th>CENPF</th>\n      <td>1.006735</td>\n    </tr>\n    <tr>\n      <th>ESCO2</th>\n      <td>0.837701</td>\n    </tr>\n    <tr>\n      <th>MKI67</th>\n      <td>0.637532</td>\n    </tr>\n    <tr>\n      <th>SPDL1</th>\n      <td>0.627327</td>\n    </tr>\n    <tr>\n      <th>C15orf48</th>\n      <td>0.616605</td>\n    </tr>\n    <tr>\n      <th>SAA1</th>\n      <td>0.517257</td>\n    </tr>\n    <tr>\n      <th>KRT18</th>\n      <td>0.494190</td>\n    </tr>\n    <tr>\n      <th>HCFC1R1</th>\n      <td>0.432873</td>\n    </tr>\n    <tr>\n      <th>CDKN1C</th>\n      <td>0.380458</td>\n    </tr>\n    <tr>\n      <th>RANBP2</th>\n      <td>0.344423</td>\n    </tr>\n    <tr>\n      <th>TLN1</th>\n      <td>0.274559</td>\n    </tr>\n    <tr>\n      <th>UGCG</th>\n      <td>0.265941</td>\n    </tr>\n    <tr>\n      <th>ADI1</th>\n      <td>0.241434</td>\n    </tr>\n    <tr>\n      <th>LCN2</th>\n      <td>0.233793</td>\n    </tr>\n    <tr>\n      <th>HIST1H4C</th>\n      <td>0.224745</td>\n    </tr>\n    <tr>\n      <th>ANXA4</th>\n      <td>0.204929</td>\n    </tr>\n    <tr>\n      <th>CXCL1</th>\n      <td>0.174163</td>\n    </tr>\n    <tr>\n      <th>MT2A</th>\n      <td>0.166585</td>\n    </tr>\n    <tr>\n      <th>PLIN3</th>\n      <td>0.155216</td>\n    </tr>\n    <tr>\n      <th>TPX2</th>\n      <td>0.145297</td>\n    </tr>\n    <tr>\n      <th>IER3</th>\n      <td>0.141132</td>\n    </tr>\n    <tr>\n      <th>TPM2</th>\n      <td>0.138143</td>\n    </tr>\n    <tr>\n      <th>CETN3</th>\n      <td>0.117941</td>\n    </tr>\n    <tr>\n      <th>STX7</th>\n      <td>0.107446</td>\n    </tr>\n    <tr>\n      <th>PON2</th>\n      <td>0.101615</td>\n    </tr>\n    <tr>\n      <th>HIST1H1C</th>\n      <td>0.074788</td>\n    </tr>\n    <tr>\n      <th>C12orf75</th>\n      <td>0.059423</td>\n    </tr>\n    <tr>\n      <th>SEC14L1</th>\n      <td>0.055291</td>\n    </tr>\n    <tr>\n      <th>TPM4</th>\n      <td>0.038460</td>\n    </tr>\n    <tr>\n      <th>TUBA4A</th>\n      <td>0.036340</td>\n    </tr>\n    <tr>\n      <th>ACAT1</th>\n      <td>0.026777</td>\n    </tr>\n    <tr>\n      <th>MT1E</th>\n      <td>0.019869</td>\n    </tr>\n    <tr>\n      <th>MYDGF</th>\n      <td>0.015944</td>\n    </tr>\n    <tr>\n      <th>BASP1</th>\n      <td>0.013559</td>\n    </tr>\n    <tr>\n      <th>S100A10</th>\n      <td>-0.008357</td>\n    </tr>\n    <tr>\n      <th>ANXA2</th>\n      <td>-0.015607</td>\n    </tr>\n    <tr>\n      <th>VIM</th>\n      <td>-0.017016</td>\n    </tr>\n    <tr>\n      <th>PCNA</th>\n      <td>-0.017797</td>\n    </tr>\n    <tr>\n      <th>CALM1</th>\n      <td>-0.029104</td>\n    </tr>\n    <tr>\n      <th>NME2</th>\n      <td>-0.038366</td>\n    </tr>\n    <tr>\n      <th>CAPG</th>\n      <td>-0.060602</td>\n    </tr>\n    <tr>\n      <th>STMN1</th>\n      <td>-0.067236</td>\n    </tr>\n    <tr>\n      <th>TUBA1C</th>\n      <td>-0.074624</td>\n    </tr>\n    <tr>\n      <th>LIMS1</th>\n      <td>-0.154861</td>\n    </tr>\n    <tr>\n      <th>PAWR</th>\n      <td>-0.232258</td>\n    </tr>\n    <tr>\n      <th>HNRNPAB</th>\n      <td>-0.296906</td>\n    </tr>\n    <tr>\n      <th>YWHAE</th>\n      <td>-0.352553</td>\n    </tr>\n    <tr>\n      <th>MALAT1</th>\n      <td>-0.378929</td>\n    </tr>\n    <tr>\n      <th>MYOF</th>\n      <td>-1.514795</td>\n    </tr>\n  </tbody>\n</table>\n</div>"
     },
     "execution_count": 16,
     "metadata": {},
     "output_type": "execute_result"
    }
   ],
   "source": [
    "logistic_regression_features = pd.read_csv(\"features/logistic_regression.csv\", index_col=0)\n",
    "logistic_regression_features = logistic_regression_features[(logistic_regression_features != 0).all(1)]\n",
    "logistic_regression_features.sort_values(by=\"feature_importance_vals\", ascending=False)"
   ],
   "metadata": {
    "collapsed": false
   }
  },
  {
   "cell_type": "markdown",
   "source": [
    "## PCA"
   ],
   "metadata": {
    "collapsed": false
   }
  },
  {
   "cell_type": "code",
   "execution_count": 17,
   "outputs": [
    {
     "data": {
      "text/plain": "          feature_importance_vals\ncol_name                         \nS100A9               2.397653e-01\nCST3                 2.179769e-01\nCTSS                 1.873466e-01\nLST1                 1.803768e-01\nLGALS1               1.777827e-01\n...                           ...\nNEURL3               1.481562e-06\nTMEM178B             1.138576e-06\nCACNG8               1.076366e-06\nGRID1                5.523284e-07\nSIX3                 5.090958e-07\n\n[1989 rows x 1 columns]",
      "text/html": "<div>\n<style scoped>\n    .dataframe tbody tr th:only-of-type {\n        vertical-align: middle;\n    }\n\n    .dataframe tbody tr th {\n        vertical-align: top;\n    }\n\n    .dataframe thead th {\n        text-align: right;\n    }\n</style>\n<table border=\"1\" class=\"dataframe\">\n  <thead>\n    <tr style=\"text-align: right;\">\n      <th></th>\n      <th>feature_importance_vals</th>\n    </tr>\n    <tr>\n      <th>col_name</th>\n      <th></th>\n    </tr>\n  </thead>\n  <tbody>\n    <tr>\n      <th>S100A9</th>\n      <td>2.397653e-01</td>\n    </tr>\n    <tr>\n      <th>CST3</th>\n      <td>2.179769e-01</td>\n    </tr>\n    <tr>\n      <th>CTSS</th>\n      <td>1.873466e-01</td>\n    </tr>\n    <tr>\n      <th>LST1</th>\n      <td>1.803768e-01</td>\n    </tr>\n    <tr>\n      <th>LGALS1</th>\n      <td>1.777827e-01</td>\n    </tr>\n    <tr>\n      <th>...</th>\n      <td>...</td>\n    </tr>\n    <tr>\n      <th>NEURL3</th>\n      <td>1.481562e-06</td>\n    </tr>\n    <tr>\n      <th>TMEM178B</th>\n      <td>1.138576e-06</td>\n    </tr>\n    <tr>\n      <th>CACNG8</th>\n      <td>1.076366e-06</td>\n    </tr>\n    <tr>\n      <th>GRID1</th>\n      <td>5.523284e-07</td>\n    </tr>\n    <tr>\n      <th>SIX3</th>\n      <td>5.090958e-07</td>\n    </tr>\n  </tbody>\n</table>\n<p>1989 rows × 1 columns</p>\n</div>"
     },
     "execution_count": 17,
     "metadata": {},
     "output_type": "execute_result"
    }
   ],
   "source": [
    "pca_features = pd.read_csv(\"features/pca.csv\", index_col=0)\n",
    "pca_features = pca_features[(pca_features != 0).all(1)]\n",
    "pca_features.sort_values(by=\"feature_importance_vals\", ascending=False)"
   ],
   "metadata": {
    "collapsed": false
   }
  },
  {
   "cell_type": "markdown",
   "source": [
    "## Shap"
   ],
   "metadata": {
    "collapsed": false
   }
  },
  {
   "cell_type": "markdown",
   "source": [
    "### Random forest regular data"
   ],
   "metadata": {
    "collapsed": false
   }
  },
  {
   "cell_type": "code",
   "execution_count": 18,
   "outputs": [
    {
     "data": {
      "text/plain": "          feature_importance_vals\ncol_name                         \nSH2D4A               5.006528e-04\nBIK                  3.646569e-04\nMCM8                 3.257085e-04\nBAIAP2               3.186418e-04\nSHCBP1               3.045842e-04\n...                           ...\nRHOB                 4.050730e-07\nPADI2                4.049146e-07\nTMEM125              3.244357e-07\nHIST3H2A             3.244111e-07\nHDAC6                3.243572e-07\n\n[891 rows x 1 columns]",
      "text/html": "<div>\n<style scoped>\n    .dataframe tbody tr th:only-of-type {\n        vertical-align: middle;\n    }\n\n    .dataframe tbody tr th {\n        vertical-align: top;\n    }\n\n    .dataframe thead th {\n        text-align: right;\n    }\n</style>\n<table border=\"1\" class=\"dataframe\">\n  <thead>\n    <tr style=\"text-align: right;\">\n      <th></th>\n      <th>feature_importance_vals</th>\n    </tr>\n    <tr>\n      <th>col_name</th>\n      <th></th>\n    </tr>\n  </thead>\n  <tbody>\n    <tr>\n      <th>SH2D4A</th>\n      <td>5.006528e-04</td>\n    </tr>\n    <tr>\n      <th>BIK</th>\n      <td>3.646569e-04</td>\n    </tr>\n    <tr>\n      <th>MCM8</th>\n      <td>3.257085e-04</td>\n    </tr>\n    <tr>\n      <th>BAIAP2</th>\n      <td>3.186418e-04</td>\n    </tr>\n    <tr>\n      <th>SHCBP1</th>\n      <td>3.045842e-04</td>\n    </tr>\n    <tr>\n      <th>...</th>\n      <td>...</td>\n    </tr>\n    <tr>\n      <th>RHOB</th>\n      <td>4.050730e-07</td>\n    </tr>\n    <tr>\n      <th>PADI2</th>\n      <td>4.049146e-07</td>\n    </tr>\n    <tr>\n      <th>TMEM125</th>\n      <td>3.244357e-07</td>\n    </tr>\n    <tr>\n      <th>HIST3H2A</th>\n      <td>3.244111e-07</td>\n    </tr>\n    <tr>\n      <th>HDAC6</th>\n      <td>3.243572e-07</td>\n    </tr>\n  </tbody>\n</table>\n<p>891 rows × 1 columns</p>\n</div>"
     },
     "execution_count": 18,
     "metadata": {},
     "output_type": "execute_result"
    }
   ],
   "source": [
    "shap_random_forest_regular_data_features = pd.read_csv(\"features/shap_random_forest_regular_data.csv\", index_col=0)\n",
    "shap_random_forest_regular_data_features = shap_random_forest_regular_data_features[(shap_random_forest_regular_data_features != 0).all(1)]\n",
    "shap_random_forest_regular_data_features.sort_values(by=\"feature_importance_vals\", ascending=False)"
   ],
   "metadata": {
    "collapsed": false
   }
  },
  {
   "cell_type": "markdown",
   "source": [
    "### Random forest scaled data"
   ],
   "metadata": {
    "collapsed": false
   }
  },
  {
   "cell_type": "code",
   "execution_count": 19,
   "outputs": [
    {
     "data": {
      "text/plain": "          feature_importance_vals\ncol_name                         \nSH2D4A               5.006528e-04\nBIK                  3.646569e-04\nMCM8                 3.257085e-04\nBAIAP2               3.186418e-04\nSHCBP1               3.045842e-04\n...                           ...\nRHOB                 4.050730e-07\nPADI2                4.049146e-07\nTMEM125              3.244357e-07\nHIST3H2A             3.244111e-07\nHDAC6                3.243572e-07\n\n[891 rows x 1 columns]",
      "text/html": "<div>\n<style scoped>\n    .dataframe tbody tr th:only-of-type {\n        vertical-align: middle;\n    }\n\n    .dataframe tbody tr th {\n        vertical-align: top;\n    }\n\n    .dataframe thead th {\n        text-align: right;\n    }\n</style>\n<table border=\"1\" class=\"dataframe\">\n  <thead>\n    <tr style=\"text-align: right;\">\n      <th></th>\n      <th>feature_importance_vals</th>\n    </tr>\n    <tr>\n      <th>col_name</th>\n      <th></th>\n    </tr>\n  </thead>\n  <tbody>\n    <tr>\n      <th>SH2D4A</th>\n      <td>5.006528e-04</td>\n    </tr>\n    <tr>\n      <th>BIK</th>\n      <td>3.646569e-04</td>\n    </tr>\n    <tr>\n      <th>MCM8</th>\n      <td>3.257085e-04</td>\n    </tr>\n    <tr>\n      <th>BAIAP2</th>\n      <td>3.186418e-04</td>\n    </tr>\n    <tr>\n      <th>SHCBP1</th>\n      <td>3.045842e-04</td>\n    </tr>\n    <tr>\n      <th>...</th>\n      <td>...</td>\n    </tr>\n    <tr>\n      <th>RHOB</th>\n      <td>4.050730e-07</td>\n    </tr>\n    <tr>\n      <th>PADI2</th>\n      <td>4.049146e-07</td>\n    </tr>\n    <tr>\n      <th>TMEM125</th>\n      <td>3.244357e-07</td>\n    </tr>\n    <tr>\n      <th>HIST3H2A</th>\n      <td>3.244111e-07</td>\n    </tr>\n    <tr>\n      <th>HDAC6</th>\n      <td>3.243572e-07</td>\n    </tr>\n  </tbody>\n</table>\n<p>891 rows × 1 columns</p>\n</div>"
     },
     "execution_count": 19,
     "metadata": {},
     "output_type": "execute_result"
    }
   ],
   "source": [
    "shap_random_forest_scaled_data_features = pd.read_csv(\"features/shap_random_forest_scaled_data.csv\", index_col=0)\n",
    "shap_random_forest_scaled_data_features = shap_random_forest_scaled_data_features[(shap_random_forest_scaled_data_features != 0).all(1)]\n",
    "shap_random_forest_scaled_data_features.sort_values(by=\"feature_importance_vals\", ascending=False)"
   ],
   "metadata": {
    "collapsed": false
   }
  },
  {
   "cell_type": "markdown",
   "source": [
    "### Balanced random forest regular data"
   ],
   "metadata": {
    "collapsed": false
   }
  },
  {
   "cell_type": "code",
   "execution_count": 20,
   "outputs": [
    {
     "data": {
      "text/plain": "          feature_importance_vals\ncol_name                         \nSH2D4A                   0.011207\nGATM                     0.007665\nCD38                     0.006735\nNINJ2                    0.006714\nMCM8                     0.006042\n...                           ...\nFOSL2                    0.000005\nPLEKHF1                  0.000005\nDRD4                     0.000005\nNAGA                     0.000005\nSEC11C                   0.000004\n\n[1085 rows x 1 columns]",
      "text/html": "<div>\n<style scoped>\n    .dataframe tbody tr th:only-of-type {\n        vertical-align: middle;\n    }\n\n    .dataframe tbody tr th {\n        vertical-align: top;\n    }\n\n    .dataframe thead th {\n        text-align: right;\n    }\n</style>\n<table border=\"1\" class=\"dataframe\">\n  <thead>\n    <tr style=\"text-align: right;\">\n      <th></th>\n      <th>feature_importance_vals</th>\n    </tr>\n    <tr>\n      <th>col_name</th>\n      <th></th>\n    </tr>\n  </thead>\n  <tbody>\n    <tr>\n      <th>SH2D4A</th>\n      <td>0.011207</td>\n    </tr>\n    <tr>\n      <th>GATM</th>\n      <td>0.007665</td>\n    </tr>\n    <tr>\n      <th>CD38</th>\n      <td>0.006735</td>\n    </tr>\n    <tr>\n      <th>NINJ2</th>\n      <td>0.006714</td>\n    </tr>\n    <tr>\n      <th>MCM8</th>\n      <td>0.006042</td>\n    </tr>\n    <tr>\n      <th>...</th>\n      <td>...</td>\n    </tr>\n    <tr>\n      <th>FOSL2</th>\n      <td>0.000005</td>\n    </tr>\n    <tr>\n      <th>PLEKHF1</th>\n      <td>0.000005</td>\n    </tr>\n    <tr>\n      <th>DRD4</th>\n      <td>0.000005</td>\n    </tr>\n    <tr>\n      <th>NAGA</th>\n      <td>0.000005</td>\n    </tr>\n    <tr>\n      <th>SEC11C</th>\n      <td>0.000004</td>\n    </tr>\n  </tbody>\n</table>\n<p>1085 rows × 1 columns</p>\n</div>"
     },
     "execution_count": 20,
     "metadata": {},
     "output_type": "execute_result"
    }
   ],
   "source": [
    "shap_balanced_random_forest_regular_data_features = pd.read_csv(\"features/shap_balanced_random_forest_regular_data.csv\", index_col=0)\n",
    "shap_balanced_random_forest_regular_data_features = shap_balanced_random_forest_regular_data_features[(shap_balanced_random_forest_regular_data_features != 0).all(1)]\n",
    "shap_balanced_random_forest_regular_data_features.sort_values(by=\"feature_importance_vals\", ascending=False)"
   ],
   "metadata": {
    "collapsed": false
   }
  },
  {
   "cell_type": "markdown",
   "source": [
    "### Balanced random forest scaled data"
   ],
   "metadata": {
    "collapsed": false
   }
  },
  {
   "cell_type": "code",
   "execution_count": 21,
   "outputs": [
    {
     "data": {
      "text/plain": "          feature_importance_vals\ncol_name                         \nSH2D4A                   0.011207\nGATM                     0.007665\nCD38                     0.006735\nNINJ2                    0.006714\nMCM8                     0.006042\n...                           ...\nFOSL2                    0.000005\nPLEKHF1                  0.000005\nDRD4                     0.000005\nNAGA                     0.000005\nSEC11C                   0.000004\n\n[1085 rows x 1 columns]",
      "text/html": "<div>\n<style scoped>\n    .dataframe tbody tr th:only-of-type {\n        vertical-align: middle;\n    }\n\n    .dataframe tbody tr th {\n        vertical-align: top;\n    }\n\n    .dataframe thead th {\n        text-align: right;\n    }\n</style>\n<table border=\"1\" class=\"dataframe\">\n  <thead>\n    <tr style=\"text-align: right;\">\n      <th></th>\n      <th>feature_importance_vals</th>\n    </tr>\n    <tr>\n      <th>col_name</th>\n      <th></th>\n    </tr>\n  </thead>\n  <tbody>\n    <tr>\n      <th>SH2D4A</th>\n      <td>0.011207</td>\n    </tr>\n    <tr>\n      <th>GATM</th>\n      <td>0.007665</td>\n    </tr>\n    <tr>\n      <th>CD38</th>\n      <td>0.006735</td>\n    </tr>\n    <tr>\n      <th>NINJ2</th>\n      <td>0.006714</td>\n    </tr>\n    <tr>\n      <th>MCM8</th>\n      <td>0.006042</td>\n    </tr>\n    <tr>\n      <th>...</th>\n      <td>...</td>\n    </tr>\n    <tr>\n      <th>FOSL2</th>\n      <td>0.000005</td>\n    </tr>\n    <tr>\n      <th>PLEKHF1</th>\n      <td>0.000005</td>\n    </tr>\n    <tr>\n      <th>DRD4</th>\n      <td>0.000005</td>\n    </tr>\n    <tr>\n      <th>NAGA</th>\n      <td>0.000005</td>\n    </tr>\n    <tr>\n      <th>SEC11C</th>\n      <td>0.000004</td>\n    </tr>\n  </tbody>\n</table>\n<p>1085 rows × 1 columns</p>\n</div>"
     },
     "execution_count": 21,
     "metadata": {},
     "output_type": "execute_result"
    }
   ],
   "source": [
    "shap_balanced_random_forest_scaled_data_features = pd.read_csv(\"features/shap_balanced_random_forest_scaled_data.csv\", index_col=0)\n",
    "shap_balanced_random_forest_scaled_data_features = shap_balanced_random_forest_scaled_data_features[(shap_balanced_random_forest_scaled_data_features != 0).all(1)]\n",
    "shap_balanced_random_forest_scaled_data_features.sort_values(by=\"feature_importance_vals\", ascending=False)"
   ],
   "metadata": {
    "collapsed": false
   }
  },
  {
   "cell_type": "markdown",
   "source": [
    "## XGBoost"
   ],
   "metadata": {
    "collapsed": false
   }
  },
  {
   "cell_type": "code",
   "execution_count": 22,
   "outputs": [
    {
     "data": {
      "text/plain": "          feature_importance_vals\ncol_name                         \nHES1                     0.248787\nIFITM3                   0.237116\nCMC1                     0.097767\nCTSS                     0.080122\nPSAP                     0.071914\nHLA-DQB1                 0.060904\nIFI6                     0.058478\nIRF7                     0.057819\nTMSB4X                   0.057274\nDUSP2                    0.017442\nCXCL8                    0.012378",
      "text/html": "<div>\n<style scoped>\n    .dataframe tbody tr th:only-of-type {\n        vertical-align: middle;\n    }\n\n    .dataframe tbody tr th {\n        vertical-align: top;\n    }\n\n    .dataframe thead th {\n        text-align: right;\n    }\n</style>\n<table border=\"1\" class=\"dataframe\">\n  <thead>\n    <tr style=\"text-align: right;\">\n      <th></th>\n      <th>feature_importance_vals</th>\n    </tr>\n    <tr>\n      <th>col_name</th>\n      <th></th>\n    </tr>\n  </thead>\n  <tbody>\n    <tr>\n      <th>HES1</th>\n      <td>0.248787</td>\n    </tr>\n    <tr>\n      <th>IFITM3</th>\n      <td>0.237116</td>\n    </tr>\n    <tr>\n      <th>CMC1</th>\n      <td>0.097767</td>\n    </tr>\n    <tr>\n      <th>CTSS</th>\n      <td>0.080122</td>\n    </tr>\n    <tr>\n      <th>PSAP</th>\n      <td>0.071914</td>\n    </tr>\n    <tr>\n      <th>HLA-DQB1</th>\n      <td>0.060904</td>\n    </tr>\n    <tr>\n      <th>IFI6</th>\n      <td>0.058478</td>\n    </tr>\n    <tr>\n      <th>IRF7</th>\n      <td>0.057819</td>\n    </tr>\n    <tr>\n      <th>TMSB4X</th>\n      <td>0.057274</td>\n    </tr>\n    <tr>\n      <th>DUSP2</th>\n      <td>0.017442</td>\n    </tr>\n    <tr>\n      <th>CXCL8</th>\n      <td>0.012378</td>\n    </tr>\n  </tbody>\n</table>\n</div>"
     },
     "execution_count": 22,
     "metadata": {},
     "output_type": "execute_result"
    }
   ],
   "source": [
    "pca_reduced_xgboost_features = pd.read_csv(\"features/pca_reduced_xgboost.csv\", index_col=0)\n",
    "pca_reduced_xgboost_features = pca_reduced_xgboost_features[(pca_reduced_xgboost_features != 0).all(1)]\n",
    "pca_reduced_xgboost_features.sort_values(by=\"feature_importance_vals\", ascending=False)"
   ],
   "metadata": {
    "collapsed": false
   }
  },
  {
   "cell_type": "markdown",
   "source": [
    "## LightGBM"
   ],
   "metadata": {
    "collapsed": false
   }
  },
  {
   "cell_type": "code",
   "execution_count": 23,
   "outputs": [
    {
     "data": {
      "text/plain": "          feature_importance_vals\ncol_name                         \nIRF7                          226\nS100A9                        165\nCMC1                          157\nHES1                          132\nPSAP                           77\nFOS                            69\nCXCL8                          63\nACTB                           42\nRPS23                          42\nCST3                           38\nHLA-B                          31\nCYBA                           27\nCTSS                           23\nMT-ATP6                        19\nTMSB4X                         18\nFTL                            14\nIFI6                           13\nHMGB2                          12\nRPL27A                         12\nS100A4                         11\nVCAN                           11\nFTH1                            9\nDUSP2                           8\nJUN                             8\nRPS6                            8\nS100A6                          7\nMALAT1                          7\nRPS18                           6\nLST1                            6\nIL32                            5\nISG15                           5\nGAPDH                           5\nCD74                            5\nSAT1                            5\nHLA-DQB1                        5\nRNASET2                         3\nCOTL1                           3\nID2                             3\nRPL37                           3\nLTB                             3\nSRGN                            3\nVIM                             3\nRPS29                           3\nISG20                           2\nNFKBIA                          2\nNEAT1                           2\nLGALS1                          2\nMT-ND4                          2\nMT-ND2                          2\nPFN1                            1\nLY6E                            1\nIER2                            1\nRPS24                           1\nJUNB                            1\nMT-ND1                          1",
      "text/html": "<div>\n<style scoped>\n    .dataframe tbody tr th:only-of-type {\n        vertical-align: middle;\n    }\n\n    .dataframe tbody tr th {\n        vertical-align: top;\n    }\n\n    .dataframe thead th {\n        text-align: right;\n    }\n</style>\n<table border=\"1\" class=\"dataframe\">\n  <thead>\n    <tr style=\"text-align: right;\">\n      <th></th>\n      <th>feature_importance_vals</th>\n    </tr>\n    <tr>\n      <th>col_name</th>\n      <th></th>\n    </tr>\n  </thead>\n  <tbody>\n    <tr>\n      <th>IRF7</th>\n      <td>226</td>\n    </tr>\n    <tr>\n      <th>S100A9</th>\n      <td>165</td>\n    </tr>\n    <tr>\n      <th>CMC1</th>\n      <td>157</td>\n    </tr>\n    <tr>\n      <th>HES1</th>\n      <td>132</td>\n    </tr>\n    <tr>\n      <th>PSAP</th>\n      <td>77</td>\n    </tr>\n    <tr>\n      <th>FOS</th>\n      <td>69</td>\n    </tr>\n    <tr>\n      <th>CXCL8</th>\n      <td>63</td>\n    </tr>\n    <tr>\n      <th>ACTB</th>\n      <td>42</td>\n    </tr>\n    <tr>\n      <th>RPS23</th>\n      <td>42</td>\n    </tr>\n    <tr>\n      <th>CST3</th>\n      <td>38</td>\n    </tr>\n    <tr>\n      <th>HLA-B</th>\n      <td>31</td>\n    </tr>\n    <tr>\n      <th>CYBA</th>\n      <td>27</td>\n    </tr>\n    <tr>\n      <th>CTSS</th>\n      <td>23</td>\n    </tr>\n    <tr>\n      <th>MT-ATP6</th>\n      <td>19</td>\n    </tr>\n    <tr>\n      <th>TMSB4X</th>\n      <td>18</td>\n    </tr>\n    <tr>\n      <th>FTL</th>\n      <td>14</td>\n    </tr>\n    <tr>\n      <th>IFI6</th>\n      <td>13</td>\n    </tr>\n    <tr>\n      <th>HMGB2</th>\n      <td>12</td>\n    </tr>\n    <tr>\n      <th>RPL27A</th>\n      <td>12</td>\n    </tr>\n    <tr>\n      <th>S100A4</th>\n      <td>11</td>\n    </tr>\n    <tr>\n      <th>VCAN</th>\n      <td>11</td>\n    </tr>\n    <tr>\n      <th>FTH1</th>\n      <td>9</td>\n    </tr>\n    <tr>\n      <th>DUSP2</th>\n      <td>8</td>\n    </tr>\n    <tr>\n      <th>JUN</th>\n      <td>8</td>\n    </tr>\n    <tr>\n      <th>RPS6</th>\n      <td>8</td>\n    </tr>\n    <tr>\n      <th>S100A6</th>\n      <td>7</td>\n    </tr>\n    <tr>\n      <th>MALAT1</th>\n      <td>7</td>\n    </tr>\n    <tr>\n      <th>RPS18</th>\n      <td>6</td>\n    </tr>\n    <tr>\n      <th>LST1</th>\n      <td>6</td>\n    </tr>\n    <tr>\n      <th>IL32</th>\n      <td>5</td>\n    </tr>\n    <tr>\n      <th>ISG15</th>\n      <td>5</td>\n    </tr>\n    <tr>\n      <th>GAPDH</th>\n      <td>5</td>\n    </tr>\n    <tr>\n      <th>CD74</th>\n      <td>5</td>\n    </tr>\n    <tr>\n      <th>SAT1</th>\n      <td>5</td>\n    </tr>\n    <tr>\n      <th>HLA-DQB1</th>\n      <td>5</td>\n    </tr>\n    <tr>\n      <th>RNASET2</th>\n      <td>3</td>\n    </tr>\n    <tr>\n      <th>COTL1</th>\n      <td>3</td>\n    </tr>\n    <tr>\n      <th>ID2</th>\n      <td>3</td>\n    </tr>\n    <tr>\n      <th>RPL37</th>\n      <td>3</td>\n    </tr>\n    <tr>\n      <th>LTB</th>\n      <td>3</td>\n    </tr>\n    <tr>\n      <th>SRGN</th>\n      <td>3</td>\n    </tr>\n    <tr>\n      <th>VIM</th>\n      <td>3</td>\n    </tr>\n    <tr>\n      <th>RPS29</th>\n      <td>3</td>\n    </tr>\n    <tr>\n      <th>ISG20</th>\n      <td>2</td>\n    </tr>\n    <tr>\n      <th>NFKBIA</th>\n      <td>2</td>\n    </tr>\n    <tr>\n      <th>NEAT1</th>\n      <td>2</td>\n    </tr>\n    <tr>\n      <th>LGALS1</th>\n      <td>2</td>\n    </tr>\n    <tr>\n      <th>MT-ND4</th>\n      <td>2</td>\n    </tr>\n    <tr>\n      <th>MT-ND2</th>\n      <td>2</td>\n    </tr>\n    <tr>\n      <th>PFN1</th>\n      <td>1</td>\n    </tr>\n    <tr>\n      <th>LY6E</th>\n      <td>1</td>\n    </tr>\n    <tr>\n      <th>IER2</th>\n      <td>1</td>\n    </tr>\n    <tr>\n      <th>RPS24</th>\n      <td>1</td>\n    </tr>\n    <tr>\n      <th>JUNB</th>\n      <td>1</td>\n    </tr>\n    <tr>\n      <th>MT-ND1</th>\n      <td>1</td>\n    </tr>\n  </tbody>\n</table>\n</div>"
     },
     "execution_count": 23,
     "metadata": {},
     "output_type": "execute_result"
    }
   ],
   "source": [
    "pca_reduced_lightgbm_features = pd.read_csv(\"features/pca_reduced_lightgbm.csv\", index_col=0)\n",
    "pca_reduced_lightgbm_features = pca_reduced_lightgbm_features[(pca_reduced_lightgbm_features != 0).all(1)]\n",
    "pca_reduced_lightgbm_features.sort_values(by=\"feature_importance_vals\", ascending=False)"
   ],
   "metadata": {
    "collapsed": false
   }
  },
  {
   "cell_type": "markdown",
   "source": [
    "## Random forest"
   ],
   "metadata": {
    "collapsed": false
   }
  },
  {
   "cell_type": "markdown",
   "source": [
    "### Regular data"
   ],
   "metadata": {
    "collapsed": false
   }
  },
  {
   "cell_type": "code",
   "execution_count": 24,
   "outputs": [
    {
     "data": {
      "text/plain": "          feature_importance_vals\ncol_name                         \nSH2D4A                   0.022015\nBIK                      0.017004\nMCM8                     0.015523\nDTL                      0.015121\nBAIAP2                   0.014849\n...                           ...\nKIF1C                    0.000020\nTBC1D12                  0.000020\nHSPA1A                   0.000019\nKRT18                    0.000018\nATXN10                   0.000017\n\n[891 rows x 1 columns]",
      "text/html": "<div>\n<style scoped>\n    .dataframe tbody tr th:only-of-type {\n        vertical-align: middle;\n    }\n\n    .dataframe tbody tr th {\n        vertical-align: top;\n    }\n\n    .dataframe thead th {\n        text-align: right;\n    }\n</style>\n<table border=\"1\" class=\"dataframe\">\n  <thead>\n    <tr style=\"text-align: right;\">\n      <th></th>\n      <th>feature_importance_vals</th>\n    </tr>\n    <tr>\n      <th>col_name</th>\n      <th></th>\n    </tr>\n  </thead>\n  <tbody>\n    <tr>\n      <th>SH2D4A</th>\n      <td>0.022015</td>\n    </tr>\n    <tr>\n      <th>BIK</th>\n      <td>0.017004</td>\n    </tr>\n    <tr>\n      <th>MCM8</th>\n      <td>0.015523</td>\n    </tr>\n    <tr>\n      <th>DTL</th>\n      <td>0.015121</td>\n    </tr>\n    <tr>\n      <th>BAIAP2</th>\n      <td>0.014849</td>\n    </tr>\n    <tr>\n      <th>...</th>\n      <td>...</td>\n    </tr>\n    <tr>\n      <th>KIF1C</th>\n      <td>0.000020</td>\n    </tr>\n    <tr>\n      <th>TBC1D12</th>\n      <td>0.000020</td>\n    </tr>\n    <tr>\n      <th>HSPA1A</th>\n      <td>0.000019</td>\n    </tr>\n    <tr>\n      <th>KRT18</th>\n      <td>0.000018</td>\n    </tr>\n    <tr>\n      <th>ATXN10</th>\n      <td>0.000017</td>\n    </tr>\n  </tbody>\n</table>\n<p>891 rows × 1 columns</p>\n</div>"
     },
     "execution_count": 24,
     "metadata": {},
     "output_type": "execute_result"
    }
   ],
   "source": [
    "random_forest_regular_features = pd.read_csv(\"features/regular_random_forest.csv\", index_col=0)\n",
    "random_forest_regular_features = random_forest_regular_features[(random_forest_regular_features != 0).all(1)]\n",
    "random_forest_regular_features.sort_values(by=\"feature_importance_vals\", ascending=False)"
   ],
   "metadata": {
    "collapsed": false
   }
  },
  {
   "cell_type": "markdown",
   "source": [
    "### Scaled data"
   ],
   "metadata": {
    "collapsed": false
   }
  },
  {
   "cell_type": "code",
   "execution_count": 25,
   "outputs": [
    {
     "data": {
      "text/plain": "          feature_importance_vals\ncol_name                         \nSH2D4A                   0.022015\nBIK                      0.017004\nMCM8                     0.015523\nDTL                      0.015121\nBAIAP2                   0.014849\n...                           ...\nKIF1C                    0.000020\nTBC1D12                  0.000020\nHSPA1A                   0.000019\nKRT18                    0.000018\nATXN10                   0.000017\n\n[891 rows x 1 columns]",
      "text/html": "<div>\n<style scoped>\n    .dataframe tbody tr th:only-of-type {\n        vertical-align: middle;\n    }\n\n    .dataframe tbody tr th {\n        vertical-align: top;\n    }\n\n    .dataframe thead th {\n        text-align: right;\n    }\n</style>\n<table border=\"1\" class=\"dataframe\">\n  <thead>\n    <tr style=\"text-align: right;\">\n      <th></th>\n      <th>feature_importance_vals</th>\n    </tr>\n    <tr>\n      <th>col_name</th>\n      <th></th>\n    </tr>\n  </thead>\n  <tbody>\n    <tr>\n      <th>SH2D4A</th>\n      <td>0.022015</td>\n    </tr>\n    <tr>\n      <th>BIK</th>\n      <td>0.017004</td>\n    </tr>\n    <tr>\n      <th>MCM8</th>\n      <td>0.015523</td>\n    </tr>\n    <tr>\n      <th>DTL</th>\n      <td>0.015121</td>\n    </tr>\n    <tr>\n      <th>BAIAP2</th>\n      <td>0.014849</td>\n    </tr>\n    <tr>\n      <th>...</th>\n      <td>...</td>\n    </tr>\n    <tr>\n      <th>KIF1C</th>\n      <td>0.000020</td>\n    </tr>\n    <tr>\n      <th>TBC1D12</th>\n      <td>0.000020</td>\n    </tr>\n    <tr>\n      <th>HSPA1A</th>\n      <td>0.000019</td>\n    </tr>\n    <tr>\n      <th>KRT18</th>\n      <td>0.000018</td>\n    </tr>\n    <tr>\n      <th>ATXN10</th>\n      <td>0.000017</td>\n    </tr>\n  </tbody>\n</table>\n<p>891 rows × 1 columns</p>\n</div>"
     },
     "execution_count": 25,
     "metadata": {},
     "output_type": "execute_result"
    }
   ],
   "source": [
    "random_forest_scaled_features = pd.read_csv(\"features/scaled_random_forest.csv\", index_col=0)\n",
    "random_forest_scaled_features = random_forest_scaled_features[(random_forest_scaled_features != 0).all(1)]\n",
    "random_forest_scaled_features.sort_values(by=\"feature_importance_vals\", ascending=False)"
   ],
   "metadata": {
    "collapsed": false
   }
  },
  {
   "cell_type": "markdown",
   "source": [
    "## Balanced random forest"
   ],
   "metadata": {
    "collapsed": false
   }
  },
  {
   "cell_type": "markdown",
   "source": [
    "### Regular data"
   ],
   "metadata": {
    "collapsed": false
   }
  },
  {
   "cell_type": "code",
   "execution_count": 26,
   "outputs": [
    {
     "data": {
      "text/plain": "          feature_importance_vals\ncol_name                         \nSH2D4A                   0.022168\nGATM                     0.015636\nCD38                     0.013944\nNINJ2                    0.013250\nMCM8                     0.011892\n...                           ...\nTFRC                     0.000016\nACVRL1                   0.000015\nFOXJ1                    0.000014\nISYNA1                   0.000014\nMT-ND1                   0.000013\n\n[1085 rows x 1 columns]",
      "text/html": "<div>\n<style scoped>\n    .dataframe tbody tr th:only-of-type {\n        vertical-align: middle;\n    }\n\n    .dataframe tbody tr th {\n        vertical-align: top;\n    }\n\n    .dataframe thead th {\n        text-align: right;\n    }\n</style>\n<table border=\"1\" class=\"dataframe\">\n  <thead>\n    <tr style=\"text-align: right;\">\n      <th></th>\n      <th>feature_importance_vals</th>\n    </tr>\n    <tr>\n      <th>col_name</th>\n      <th></th>\n    </tr>\n  </thead>\n  <tbody>\n    <tr>\n      <th>SH2D4A</th>\n      <td>0.022168</td>\n    </tr>\n    <tr>\n      <th>GATM</th>\n      <td>0.015636</td>\n    </tr>\n    <tr>\n      <th>CD38</th>\n      <td>0.013944</td>\n    </tr>\n    <tr>\n      <th>NINJ2</th>\n      <td>0.013250</td>\n    </tr>\n    <tr>\n      <th>MCM8</th>\n      <td>0.011892</td>\n    </tr>\n    <tr>\n      <th>...</th>\n      <td>...</td>\n    </tr>\n    <tr>\n      <th>TFRC</th>\n      <td>0.000016</td>\n    </tr>\n    <tr>\n      <th>ACVRL1</th>\n      <td>0.000015</td>\n    </tr>\n    <tr>\n      <th>FOXJ1</th>\n      <td>0.000014</td>\n    </tr>\n    <tr>\n      <th>ISYNA1</th>\n      <td>0.000014</td>\n    </tr>\n    <tr>\n      <th>MT-ND1</th>\n      <td>0.000013</td>\n    </tr>\n  </tbody>\n</table>\n<p>1085 rows × 1 columns</p>\n</div>"
     },
     "execution_count": 26,
     "metadata": {},
     "output_type": "execute_result"
    }
   ],
   "source": [
    "balanced_random_forest_regular_features = pd.read_csv(\"features/regular_balanced_random_forest.csv\", index_col=0)\n",
    "balanced_random_forest_regular_features = balanced_random_forest_regular_features[(balanced_random_forest_regular_features != 0).all(1)]\n",
    "balanced_random_forest_regular_features.sort_values(by=\"feature_importance_vals\", ascending=False)"
   ],
   "metadata": {
    "collapsed": false
   }
  },
  {
   "cell_type": "markdown",
   "source": [
    "### Scaled data"
   ],
   "metadata": {
    "collapsed": false
   }
  },
  {
   "cell_type": "code",
   "execution_count": 27,
   "outputs": [
    {
     "data": {
      "text/plain": "          feature_importance_vals\ncol_name                         \nSH2D4A                   0.022168\nGATM                     0.015636\nCD38                     0.013944\nNINJ2                    0.013250\nMCM8                     0.011892\n...                           ...\nTFRC                     0.000016\nACVRL1                   0.000015\nFOXJ1                    0.000014\nISYNA1                   0.000014\nMT-ND1                   0.000013\n\n[1085 rows x 1 columns]",
      "text/html": "<div>\n<style scoped>\n    .dataframe tbody tr th:only-of-type {\n        vertical-align: middle;\n    }\n\n    .dataframe tbody tr th {\n        vertical-align: top;\n    }\n\n    .dataframe thead th {\n        text-align: right;\n    }\n</style>\n<table border=\"1\" class=\"dataframe\">\n  <thead>\n    <tr style=\"text-align: right;\">\n      <th></th>\n      <th>feature_importance_vals</th>\n    </tr>\n    <tr>\n      <th>col_name</th>\n      <th></th>\n    </tr>\n  </thead>\n  <tbody>\n    <tr>\n      <th>SH2D4A</th>\n      <td>0.022168</td>\n    </tr>\n    <tr>\n      <th>GATM</th>\n      <td>0.015636</td>\n    </tr>\n    <tr>\n      <th>CD38</th>\n      <td>0.013944</td>\n    </tr>\n    <tr>\n      <th>NINJ2</th>\n      <td>0.013250</td>\n    </tr>\n    <tr>\n      <th>MCM8</th>\n      <td>0.011892</td>\n    </tr>\n    <tr>\n      <th>...</th>\n      <td>...</td>\n    </tr>\n    <tr>\n      <th>TFRC</th>\n      <td>0.000016</td>\n    </tr>\n    <tr>\n      <th>ACVRL1</th>\n      <td>0.000015</td>\n    </tr>\n    <tr>\n      <th>FOXJ1</th>\n      <td>0.000014</td>\n    </tr>\n    <tr>\n      <th>ISYNA1</th>\n      <td>0.000014</td>\n    </tr>\n    <tr>\n      <th>MT-ND1</th>\n      <td>0.000013</td>\n    </tr>\n  </tbody>\n</table>\n<p>1085 rows × 1 columns</p>\n</div>"
     },
     "execution_count": 27,
     "metadata": {},
     "output_type": "execute_result"
    }
   ],
   "source": [
    "balanced_random_forest_scaled_features = pd.read_csv(\"features/scaled_balanced_random_forest.csv\", index_col=0)\n",
    "balanced_random_forest_scaled_features = balanced_random_forest_scaled_features[(balanced_random_forest_scaled_features != 0).all(1)]\n",
    "balanced_random_forest_scaled_features.sort_values(by=\"feature_importance_vals\", ascending=False)"
   ],
   "metadata": {
    "collapsed": false
   }
  },
  {
   "cell_type": "markdown",
   "source": [
    "## Autoencoder"
   ],
   "metadata": {
    "collapsed": false
   }
  },
  {
   "cell_type": "code",
   "execution_count": 28,
   "outputs": [
    {
     "data": {
      "text/plain": "           feature_importance_vals\ncol_name                          \nUCHL1                  7407.337425\nDEPDC1                 6589.585338\nFGF2                   3784.241532\nTM4SF1                 3639.104228\nIL1A                   3298.683171\n...                            ...\nTHSD7B                    0.003541\nEPHA10                    0.003272\nLINC01411                 0.002949\nSPANXB1                   0.002738\nEDN2                      0.002698\n\n[2000 rows x 1 columns]",
      "text/html": "<div>\n<style scoped>\n    .dataframe tbody tr th:only-of-type {\n        vertical-align: middle;\n    }\n\n    .dataframe tbody tr th {\n        vertical-align: top;\n    }\n\n    .dataframe thead th {\n        text-align: right;\n    }\n</style>\n<table border=\"1\" class=\"dataframe\">\n  <thead>\n    <tr style=\"text-align: right;\">\n      <th></th>\n      <th>feature_importance_vals</th>\n    </tr>\n    <tr>\n      <th>col_name</th>\n      <th></th>\n    </tr>\n  </thead>\n  <tbody>\n    <tr>\n      <th>UCHL1</th>\n      <td>7407.337425</td>\n    </tr>\n    <tr>\n      <th>DEPDC1</th>\n      <td>6589.585338</td>\n    </tr>\n    <tr>\n      <th>FGF2</th>\n      <td>3784.241532</td>\n    </tr>\n    <tr>\n      <th>TM4SF1</th>\n      <td>3639.104228</td>\n    </tr>\n    <tr>\n      <th>IL1A</th>\n      <td>3298.683171</td>\n    </tr>\n    <tr>\n      <th>...</th>\n      <td>...</td>\n    </tr>\n    <tr>\n      <th>THSD7B</th>\n      <td>0.003541</td>\n    </tr>\n    <tr>\n      <th>EPHA10</th>\n      <td>0.003272</td>\n    </tr>\n    <tr>\n      <th>LINC01411</th>\n      <td>0.002949</td>\n    </tr>\n    <tr>\n      <th>SPANXB1</th>\n      <td>0.002738</td>\n    </tr>\n    <tr>\n      <th>EDN2</th>\n      <td>0.002698</td>\n    </tr>\n  </tbody>\n</table>\n<p>2000 rows × 1 columns</p>\n</div>"
     },
     "execution_count": 28,
     "metadata": {},
     "output_type": "execute_result"
    }
   ],
   "source": [
    "autoencoder_features = pd.read_csv(\"features/autoencoder.csv\", index_col=0)\n",
    "autoencoder_features.sort_values(by=\"feature_importance_vals\", ascending=False)"
   ],
   "metadata": {
    "collapsed": false
   }
  }
 ],
 "metadata": {
  "kernelspec": {
   "display_name": "Python 3",
   "language": "python",
   "name": "python3"
  },
  "language_info": {
   "codemirror_mode": {
    "name": "ipython",
    "version": 2
   },
   "file_extension": ".py",
   "mimetype": "text/x-python",
   "name": "python",
   "nbconvert_exporter": "python",
   "pygments_lexer": "ipython2",
   "version": "2.7.6"
  }
 },
 "nbformat": 4,
 "nbformat_minor": 0
}
