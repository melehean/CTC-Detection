{
 "cells": [
  {
   "cell_type": "code",
   "execution_count": 542,
   "metadata": {
    "pycharm": {
     "name": "#%%\n"
    }
   },
   "outputs": [],
   "source": [
    "from data import Data\n",
    "from dimension_reduction import PCADimensionReduction\n",
    "from simple_ml_models import Model\n",
    "\n",
    "from xgboost import XGBClassifier\n",
    "\n",
    "from sklearn import svm\n",
    "from sklearn import metrics\n",
    "from sklearn.model_selection import train_test_split"
   ]
  },
  {
   "cell_type": "code",
   "execution_count": 543,
   "metadata": {
    "pycharm": {
     "name": "#%%\n"
    }
   },
   "outputs": [],
   "source": [
    "# You can test the other datasets by changing these file names\n",
    "data_filepath = \"data/SC_integration/counts_ctc_simulated_123_5k.tsv\"\n",
    "true_results_filepath = \"data/SC_integration/ids_ctc_simulated_123_5k.tsv\"\n",
    "train_indices_filepath = \"data/SC_integration/train_indices.npy\"\n",
    "test_indices_filepath = \"data/SC_integration/test_indices.npy\"\n",
    "SEED = 42\n",
    "FOLD_NUMBER = 3\n",
    "\n",
    "# You can change these values to work better for models\n",
    "CUT_BY_MAX_THRESHOLD = 4\n",
    "PCA_VARIABLES_AMOUNT = 60\n",
    "\n",
    "# There are 4 data variants to check: regular, scaled, cut by max, pca reduced + cut by max\n",
    "data_object = Data(data_filepath, true_results_filepath)\n",
    "train_data, test_data, train_true_results, test_true_results =  data_object.load_train_test_split(train_indices_filepath, test_indices_filepath)\n",
    "scaled_train_data, scaled_test_data = data_object.get_scaled_train_test_data()"
   ]
  },
  {
   "cell_type": "code",
   "execution_count": 544,
   "metadata": {
    "pycharm": {
     "name": "#%%\n"
    }
   },
   "outputs": [],
   "source": [
    "cut_by_max_train_data, cut_by_max_test_data = data_object.get_cut_by_max_train_test_data(CUT_BY_MAX_THRESHOLD)\n",
    "\n",
    "pca_object = PCADimensionReduction(cut_by_max_train_data, scaled_train_data, train_true_results, SEED)\n",
    "pca_variables = pca_object.get_most_important_variables_from_pc1(PCA_VARIABLES_AMOUNT)\n",
    "pca_reduced_train_data = cut_by_max_train_data[pca_variables.index]\n",
    "pca_reduced_test_data = cut_by_max_test_data[pca_variables.index]"
   ]
  },
  {
   "cell_type": "markdown",
   "metadata": {
    "pycharm": {
     "name": "#%% md\n"
    }
   },
   "source": [
    "## XGBoost"
   ]
  },
  {
   "cell_type": "code",
   "execution_count": 545,
   "metadata": {},
   "outputs": [],
   "source": [
    "# not sure about parameters\n",
    "# needs to be fixed\n",
    "xgb_clf = XGBClassifier(booster='gbtree', # tree-based model\n",
    "                        eta = 0.2,\n",
    "                        min_child_weight=1,\n",
    "                        max_depth=5,\n",
    "                        gamma=0.5\n",
    "                       )"
   ]
  },
  {
   "cell_type": "markdown",
   "metadata": {},
   "source": [
    "### Regular data"
   ]
  },
  {
   "cell_type": "code",
   "execution_count": 546,
   "metadata": {},
   "outputs": [
    {
     "name": "stdout",
     "output_type": "stream",
     "text": [
      "Validation balanced accuracy 0.8434343434343434\n",
      "Training balanced accuracy 1.0\n",
      "\n",
      "Validation roc auc 1.0\n",
      "Training roc auc 1.0\n",
      "\n",
      "Validation precision 1.0\n",
      "Training precision 1.0\n",
      "\n",
      "Validation recall 0.6868686868686869\n",
      "Training recall 1.0\n",
      "\n",
      "Validation f1 0.81203007518797\n",
      "Training f1 1.0\n",
      "\n"
     ]
    }
   ],
   "source": [
    "xgboost_model_object = Model(xgb_clf, train_data, train_true_results, test_data, test_true_results, FOLD_NUMBER)\n",
    "xgboost_model_object.main_cycle()"
   ]
  },
  {
   "cell_type": "code",
   "execution_count": 547,
   "metadata": {
    "pycharm": {
     "name": "#%%\n"
    }
   },
   "outputs": [
    {
     "name": "stdout",
     "output_type": "stream",
     "text": [
      "Test balanced accuracy 0.9222222222222222\n",
      "\n",
      "Test roc auc 0.9222222222222222\n",
      "\n",
      "Test precision 1.0\n",
      "\n",
      "Test recall 0.8444444444444444\n",
      "\n",
      "Test f1 score 0.9116809116809117\n"
     ]
    }
   ],
   "source": [
    "xgboost_model_object.display_test_results()"
   ]
  },
  {
   "cell_type": "markdown",
   "metadata": {},
   "source": [
    "### Scaled data"
   ]
  },
  {
   "cell_type": "code",
   "execution_count": 548,
   "metadata": {
    "pycharm": {
     "name": "#%%\n"
    }
   },
   "outputs": [
    {
     "name": "stdout",
     "output_type": "stream",
     "text": [
      "Validation balanced accuracy 0.8434343434343434\n",
      "Training balanced accuracy 1.0\n",
      "\n",
      "Validation roc auc 1.0\n",
      "Training roc auc 1.0\n",
      "\n",
      "Validation precision 1.0\n",
      "Training precision 1.0\n",
      "\n",
      "Validation recall 0.6868686868686869\n",
      "Training recall 1.0\n",
      "\n",
      "Validation f1 0.81203007518797\n",
      "Training f1 1.0\n",
      "\n"
     ]
    }
   ],
   "source": [
    "xgboost_model_object = Model(xgb_clf, scaled_train_data, train_true_results, scaled_test_data, test_true_results, FOLD_NUMBER)\n",
    "xgboost_model_object.main_cycle()"
   ]
  },
  {
   "cell_type": "code",
   "execution_count": 549,
   "metadata": {},
   "outputs": [
    {
     "name": "stdout",
     "output_type": "stream",
     "text": [
      "Test balanced accuracy 0.9222222222222222\n",
      "\n",
      "Test roc auc 0.9222222222222222\n",
      "\n",
      "Test precision 1.0\n",
      "\n",
      "Test recall 0.8444444444444444\n",
      "\n",
      "Test f1 score 0.9116809116809117\n"
     ]
    }
   ],
   "source": [
    "xgboost_model_object.display_test_results()"
   ]
  },
  {
   "cell_type": "markdown",
   "metadata": {},
   "source": [
    "### Cut by max data"
   ]
  },
  {
   "cell_type": "code",
   "execution_count": 550,
   "metadata": {},
   "outputs": [
    {
     "name": "stdout",
     "output_type": "stream",
     "text": [
      "Validation balanced accuracy 0.9583333333333334\n",
      "Training balanced accuracy 1.0\n",
      "\n",
      "Validation roc auc 1.0\n",
      "Training roc auc 1.0\n",
      "\n",
      "Validation precision 1.0\n",
      "Training precision 1.0\n",
      "\n",
      "Validation recall 0.9166666666666666\n",
      "Training recall 1.0\n",
      "\n",
      "Validation f1 0.9552042160737813\n",
      "Training f1 1.0\n",
      "\n"
     ]
    }
   ],
   "source": [
    "xgboost_model_object = Model(xgb_clf, cut_by_max_train_data, train_true_results, cut_by_max_test_data, test_true_results, FOLD_NUMBER)\n",
    "xgboost_model_object.main_cycle()"
   ]
  },
  {
   "cell_type": "code",
   "execution_count": 551,
   "metadata": {},
   "outputs": [
    {
     "name": "stdout",
     "output_type": "stream",
     "text": [
      "Test balanced accuracy 0.9777777777777779\n",
      "\n",
      "Test roc auc 0.9777777777777779\n",
      "\n",
      "Test precision 1.0\n",
      "\n",
      "Test recall 0.9555555555555556\n",
      "\n",
      "Test f1 score 0.9770114942528737\n"
     ]
    }
   ],
   "source": [
    "xgboost_model_object.display_test_results()"
   ]
  },
  {
   "cell_type": "markdown",
   "metadata": {},
   "source": [
    "### Pca reduced + cut by max data"
   ]
  },
  {
   "cell_type": "code",
   "execution_count": 552,
   "metadata": {},
   "outputs": [
    {
     "name": "stdout",
     "output_type": "stream",
     "text": [
      "Validation balanced accuracy 0.970959595959596\n",
      "Training balanced accuracy 1.0\n",
      "\n",
      "Validation roc auc 0.9999725786991335\n",
      "Training roc auc 1.0\n",
      "\n",
      "Validation precision 1.0\n",
      "Training precision 1.0\n",
      "\n",
      "Validation recall 0.9419191919191919\n",
      "Training recall 1.0\n",
      "\n",
      "Validation f1 0.9696342305037957\n",
      "Training f1 1.0\n",
      "\n"
     ]
    }
   ],
   "source": [
    "xgboost_model_object = Model(xgb_clf, pca_reduced_train_data, train_true_results, pca_reduced_test_data, test_true_results, FOLD_NUMBER)\n",
    "xgboost_model_object.main_cycle()"
   ]
  },
  {
   "cell_type": "code",
   "execution_count": 553,
   "metadata": {},
   "outputs": [
    {
     "name": "stdout",
     "output_type": "stream",
     "text": [
      "Test balanced accuracy 1.0\n",
      "\n",
      "Test roc auc 1.0\n",
      "\n",
      "Test precision 1.0\n",
      "\n",
      "Test recall 1.0\n",
      "\n",
      "Test f1 score 1.0\n"
     ]
    }
   ],
   "source": [
    "xgboost_model_object.display_test_results()"
   ]
  },
  {
   "cell_type": "markdown",
   "metadata": {},
   "source": [
    "## SVM"
   ]
  },
  {
   "cell_type": "code",
   "execution_count": 554,
   "metadata": {
    "pycharm": {
     "name": "#%%\n"
    }
   },
   "outputs": [
    {
     "name": "stdout",
     "output_type": "stream",
     "text": [
      "[0 0 0 0 0 0 0 0 0 0 0 0 0 0 0 0 0 0 0 0 0 0 0 0 0 0 0 0 0 0 0 0 0 0 0 0 0\n",
      " 0 0 0 0 0 0 0 0 0 0 0 0 0 0 0 0 0 0 0 0 0 0 0 0 0 0 0 0 0 0 0 0 0 0 0 0 0\n",
      " 0 0 0 0 0 0 0 0 0 0 0 0 0 0 0 0 0 0 0 0 0 0 0 0 0 0 0 0 0 0 0 0 0 0 0 0 0\n",
      " 0 0 0 0 0 0 0 0 0 0 0 0 0 0 0 0 0 0 0 0 0 0 0 0 0 0 0 0 0 0 0 0 0 0 0 0 0\n",
      " 0 0 0 0 0 0 0 0 0 0 0 0 0 0 0 0 0 0 0 0 0 0 0 0 0 0 0 0 0 0 0 0 0 0 0 0 0\n",
      " 0 0 0 0 0 0 0 0 0 0 0 0 0 0 0 0 0 0 0 0 0 0 0 0 0 0 0 0 0 0 0 0 0 0 0 0 0\n",
      " 0 0 0 0 0 0 0 0 0 0 0 0 0 0 0 0 0 0 0 0 0 0 0 0 0 0 0 0 0 0 0 0 0 0 0 0 0\n",
      " 0 0 0 0 0 0 0 0 0 0 0 0 0 0 0 0 0 0 0 0 0 0 0 0 0 0 0 0 0 0 0 0 0 0 0 0 0\n",
      " 0 0 0 0 0 0 0 0 0 0 0 0 0 0 0 0 0 0 0 0 0 0 0 0 0 0 0 0 0 0 0 0 0 0 0 0 0\n",
      " 0 0 0 0 0 0 0 0 0 0 0 0 0 0 0 0 0 0 0 0 0 0 0 0 0 0 0 0 0 0 0 0 0 0 0 0 0\n",
      " 0 0 0 0 0 0 0 0 0 0 0 0 0 0 0 0 0 0 0 0 0 0 0 0 0 0 0 0 0 0 0 0 0 0 0 0 0\n",
      " 0 0 0 0 0 0 0 0 0 0 0 0 0 0 0 0 0 0 0 0 0 0 0 0 0 0 0 0 0 0 0 0 0 0 0 0 0\n",
      " 0 0 0 0 0 0 0 0 0 0 0 0 0 0 0 0 0 0 0 0 0 0 0 0 0 0 0 0 0 0 0 0 0 0 0 0 0\n",
      " 0 0 0 0 0 0 0 0 0 0 0 0 0 0 0 0 0 0 0 0 0 0 0 0 0 0 0 0 0 0 0 0 0 0 0 0 0\n",
      " 0 0 0 0 0 0 0 0 0 0 0 0 0 0 0 0 0 0 0 0 0 0 0 0 0 0 0 0 0 0 0 0 0 0 0 0 0\n",
      " 0 0 0 0 0 0 0 0 0 0 0 0 0 0 0 0 0 0 0 0 0 0 0 0 0 0 0 0 0 0 0 0 0 0 0 0 0\n",
      " 0 0 0 0 0 0 0 0 0 0 0 0 0 0 0 0 0 0 0 0 0 0 0 0 0 0 0 0 0 0 0 0 0 0 0 0 0\n",
      " 0 0 0 0 0 0 0 0 0 0 0 0 0 0 0 0 0 0 0 0 0 0 0 0 0 0 0 0 0 0 0 0 0 0 0 0 0\n",
      " 0 0 0 0 0 0 0 0 0 0 0 0 0 0 0 0 0 0 0 0 0 0 0 0 0 0 0 0 0 0 0 0 0 0 0 0 0\n",
      " 0 0 0 0 0 0 0 0 0 0 0 0 0 0 0 0 0 0 0 0 0 0 0 0 0 0 0 0 0 0 0 0 0 0 0 0 0\n",
      " 0 0 0 0 0 0 0 0 0 0 0 0 0 0 0 0 0 0 0 0 0 0 0 0 0 0 0 0 0 0 0 0 0 0 0 0 0\n",
      " 0 0 0 0 0 0 0 0 0 0 0 0 0 0 0 0 0 0 0 0 0 0 0 0 0 0 0 0 0 0 0 0 0 0 0 0 0\n",
      " 0 0 0 0 0 0 0 0 0 0 0 0 0 0 0 0 0 0 0 0 0 0 0 0 0 0 0 0 0 0 0 0 0 0 0 0 0\n",
      " 0 0 0 0 0 0 0 0 0 0 0 0 0 0 0 0 0 0 0 0 0 0 0 0 0 0 0 0 0 0 0 0 0 0 0 0 0\n",
      " 0 0 0 0 0 0 0 0 0 0 0 0 0 0 0 0 0 0 0 0 0 0 0 0 0 0 0 0 0 0 0 0 0 0 0]\n"
     ]
    }
   ],
   "source": [
    "X_train, X_test, y_train, y_test = train_test_split(train_data, train_true_results, test_size=0.3,random_state=109)\n",
    "svm_clf = svm.SVC(kernel='linear')\n",
    "svm_clf.fit(X_train, y_train.values.ravel())\n",
    "y_pred = svm_clf.predict(X_test)\n",
    "print(y_pred)"
   ]
  },
  {
   "cell_type": "markdown",
   "metadata": {},
   "source": [
    "### Regular data"
   ]
  },
  {
   "cell_type": "code",
   "execution_count": 555,
   "metadata": {
    "pycharm": {
     "name": "#%%\n"
    }
   },
   "outputs": [
    {
     "name": "stderr",
     "output_type": "stream",
     "text": [
      "C:\\Users\\Laura\\AppData\\Local\\Programs\\Python\\Python310\\lib\\site-packages\\sklearn\\utils\\validation.py:993: DataConversionWarning: A column-vector y was passed when a 1d array was expected. Please change the shape of y to (n_samples, ), for example using ravel().\n",
      "  y = column_or_1d(y, warn=True)\n",
      "C:\\Users\\Laura\\AppData\\Local\\Programs\\Python\\Python310\\lib\\site-packages\\sklearn\\metrics\\_classification.py:1318: UndefinedMetricWarning: Precision is ill-defined and being set to 0.0 due to no predicted samples. Use `zero_division` parameter to control this behavior.\n",
      "  _warn_prf(average, modifier, msg_start, len(result))\n",
      "C:\\Users\\Laura\\AppData\\Local\\Programs\\Python\\Python310\\lib\\site-packages\\sklearn\\utils\\validation.py:993: DataConversionWarning: A column-vector y was passed when a 1d array was expected. Please change the shape of y to (n_samples, ), for example using ravel().\n",
      "  y = column_or_1d(y, warn=True)\n",
      "C:\\Users\\Laura\\AppData\\Local\\Programs\\Python\\Python310\\lib\\site-packages\\sklearn\\metrics\\_classification.py:1318: UndefinedMetricWarning: Precision is ill-defined and being set to 0.0 due to no predicted samples. Use `zero_division` parameter to control this behavior.\n",
      "  _warn_prf(average, modifier, msg_start, len(result))\n",
      "C:\\Users\\Laura\\AppData\\Local\\Programs\\Python\\Python310\\lib\\site-packages\\sklearn\\utils\\validation.py:993: DataConversionWarning: A column-vector y was passed when a 1d array was expected. Please change the shape of y to (n_samples, ), for example using ravel().\n",
      "  y = column_or_1d(y, warn=True)\n",
      "C:\\Users\\Laura\\AppData\\Local\\Programs\\Python\\Python310\\lib\\site-packages\\sklearn\\metrics\\_classification.py:1318: UndefinedMetricWarning: Precision is ill-defined and being set to 0.0 due to no predicted samples. Use `zero_division` parameter to control this behavior.\n",
      "  _warn_prf(average, modifier, msg_start, len(result))\n"
     ]
    },
    {
     "name": "stdout",
     "output_type": "stream",
     "text": [
      "Validation balanced accuracy 0.5\n",
      "Training balanced accuracy 1.0\n",
      "\n",
      "Validation roc auc 0.764034720352588\n",
      "Training roc auc 1.0\n",
      "\n",
      "Validation precision 0.0\n",
      "Training precision 1.0\n",
      "\n",
      "Validation recall 0.0\n",
      "Training recall 1.0\n",
      "\n",
      "Validation f1 0.0\n",
      "Training f1 1.0\n",
      "\n"
     ]
    },
    {
     "name": "stderr",
     "output_type": "stream",
     "text": [
      "C:\\Users\\Laura\\AppData\\Local\\Programs\\Python\\Python310\\lib\\site-packages\\sklearn\\metrics\\_classification.py:1318: UndefinedMetricWarning: Precision is ill-defined and being set to 0.0 due to no predicted samples. Use `zero_division` parameter to control this behavior.\n",
      "  _warn_prf(average, modifier, msg_start, len(result))\n",
      "C:\\Users\\Laura\\AppData\\Local\\Programs\\Python\\Python310\\lib\\site-packages\\sklearn\\metrics\\_classification.py:1318: UndefinedMetricWarning: Precision is ill-defined and being set to 0.0 due to no predicted samples. Use `zero_division` parameter to control this behavior.\n",
      "  _warn_prf(average, modifier, msg_start, len(result))\n",
      "C:\\Users\\Laura\\AppData\\Local\\Programs\\Python\\Python310\\lib\\site-packages\\sklearn\\metrics\\_classification.py:1318: UndefinedMetricWarning: Precision is ill-defined and being set to 0.0 due to no predicted samples. Use `zero_division` parameter to control this behavior.\n",
      "  _warn_prf(average, modifier, msg_start, len(result))\n"
     ]
    }
   ],
   "source": [
    "svm_model_object = Model(svm_clf, train_data, train_true_results, test_data, test_true_results, FOLD_NUMBER)\n",
    "svm_model_object.main_cycle()"
   ]
  },
  {
   "cell_type": "code",
   "execution_count": 556,
   "outputs": [
    {
     "name": "stdout",
     "output_type": "stream",
     "text": [
      "Test balanced accuracy 0.5\n",
      "\n",
      "Test roc auc 0.5\n",
      "\n",
      "Test precision 0.0\n",
      "\n",
      "Test recall 0.0\n",
      "\n",
      "Test f1 score 0.0\n"
     ]
    }
   ],
   "source": [
    "svm_model_object.display_test_results()"
   ],
   "metadata": {
    "collapsed": false,
    "pycharm": {
     "name": "#%%\n"
    }
   }
  },
  {
   "cell_type": "markdown",
   "source": [
    "### Scaled data"
   ],
   "metadata": {
    "collapsed": false
   }
  },
  {
   "cell_type": "code",
   "execution_count": 557,
   "outputs": [
    {
     "name": "stderr",
     "output_type": "stream",
     "text": [
      "C:\\Users\\Laura\\AppData\\Local\\Programs\\Python\\Python310\\lib\\site-packages\\sklearn\\utils\\validation.py:993: DataConversionWarning: A column-vector y was passed when a 1d array was expected. Please change the shape of y to (n_samples, ), for example using ravel().\n",
      "  y = column_or_1d(y, warn=True)\n",
      "C:\\Users\\Laura\\AppData\\Local\\Programs\\Python\\Python310\\lib\\site-packages\\sklearn\\utils\\validation.py:993: DataConversionWarning: A column-vector y was passed when a 1d array was expected. Please change the shape of y to (n_samples, ), for example using ravel().\n",
      "  y = column_or_1d(y, warn=True)\n",
      "C:\\Users\\Laura\\AppData\\Local\\Programs\\Python\\Python310\\lib\\site-packages\\sklearn\\utils\\validation.py:993: DataConversionWarning: A column-vector y was passed when a 1d array was expected. Please change the shape of y to (n_samples, ), for example using ravel().\n",
      "  y = column_or_1d(y, warn=True)\n"
     ]
    },
    {
     "name": "stdout",
     "output_type": "stream",
     "text": [
      "Validation balanced accuracy 0.6742424242424242\n",
      "Training balanced accuracy 1.0\n",
      "\n",
      "Validation roc auc 0.9588356417082972\n",
      "Training roc auc 1.0\n",
      "\n",
      "Validation precision 1.0\n",
      "Training precision 1.0\n",
      "\n",
      "Validation recall 0.34848484848484845\n",
      "Training recall 1.0\n",
      "\n",
      "Validation f1 0.5019607843137255\n",
      "Training f1 1.0\n",
      "\n"
     ]
    }
   ],
   "source": [
    "svm_model_object = Model(svm_clf, scaled_train_data, train_true_results, scaled_test_data, test_true_results, FOLD_NUMBER)\n",
    "svm_model_object.main_cycle()"
   ],
   "metadata": {
    "collapsed": false,
    "pycharm": {
     "name": "#%%\n"
    }
   }
  },
  {
   "cell_type": "code",
   "execution_count": 558,
   "outputs": [
    {
     "name": "stdout",
     "output_type": "stream",
     "text": [
      "Test balanced accuracy 0.6105994713055342\n",
      "\n",
      "Test roc auc 0.6105994713055342\n",
      "\n",
      "Test precision 0.6523809523809524\n",
      "\n",
      "Test recall 0.22222222222222224\n",
      "\n",
      "Test f1 score 0.32103386809269163\n"
     ]
    }
   ],
   "source": [
    "svm_model_object.display_test_results()"
   ],
   "metadata": {
    "collapsed": false,
    "pycharm": {
     "name": "#%%\n"
    }
   }
  },
  {
   "cell_type": "markdown",
   "source": [
    "### Cut by max data"
   ],
   "metadata": {
    "collapsed": false
   }
  },
  {
   "cell_type": "code",
   "execution_count": 560,
   "outputs": [
    {
     "name": "stderr",
     "output_type": "stream",
     "text": [
      "C:\\Users\\Laura\\AppData\\Local\\Programs\\Python\\Python310\\lib\\site-packages\\sklearn\\utils\\validation.py:993: DataConversionWarning: A column-vector y was passed when a 1d array was expected. Please change the shape of y to (n_samples, ), for example using ravel().\n",
      "  y = column_or_1d(y, warn=True)\n",
      "C:\\Users\\Laura\\AppData\\Local\\Programs\\Python\\Python310\\lib\\site-packages\\sklearn\\utils\\validation.py:993: DataConversionWarning: A column-vector y was passed when a 1d array was expected. Please change the shape of y to (n_samples, ), for example using ravel().\n",
      "  y = column_or_1d(y, warn=True)\n",
      "C:\\Users\\Laura\\AppData\\Local\\Programs\\Python\\Python310\\lib\\site-packages\\sklearn\\utils\\validation.py:993: DataConversionWarning: A column-vector y was passed when a 1d array was expected. Please change the shape of y to (n_samples, ), for example using ravel().\n",
      "  y = column_or_1d(y, warn=True)\n"
     ]
    },
    {
     "name": "stdout",
     "output_type": "stream",
     "text": [
      "Validation balanced accuracy 0.5845959595959596\n",
      "Training balanced accuracy 0.7134661835748792\n",
      "\n",
      "Validation roc auc 0.5554134633601563\n",
      "Training roc auc 0.8250106704627284\n",
      "\n",
      "Validation precision 1.0\n",
      "Training precision 1.0\n",
      "\n",
      "Validation recall 0.1691919191919192\n",
      "Training recall 0.42693236714975846\n",
      "\n",
      "Validation f1 0.2735042735042735\n",
      "Training f1 0.5818532818532818\n",
      "\n"
     ]
    }
   ],
   "source": [
    "svm_model_object = Model(svm_clf, cut_by_max_train_data, train_true_results, cut_by_max_test_data, test_true_results, FOLD_NUMBER)\n",
    "svm_model_object.main_cycle()"
   ],
   "metadata": {
    "collapsed": false,
    "pycharm": {
     "name": "#%%\n"
    }
   }
  },
  {
   "cell_type": "code",
   "execution_count": 561,
   "outputs": [
    {
     "name": "stdout",
     "output_type": "stream",
     "text": [
      "Test balanced accuracy 0.6328216935277564\n",
      "\n",
      "Test roc auc 0.6328216935277564\n",
      "\n",
      "Test precision 0.75\n",
      "\n",
      "Test recall 0.26666666666666666\n",
      "\n",
      "Test f1 score 0.3909774436090226\n"
     ]
    }
   ],
   "source": [
    "svm_model_object.display_test_results()"
   ],
   "metadata": {
    "collapsed": false,
    "pycharm": {
     "name": "#%%\n"
    }
   }
  },
  {
   "cell_type": "markdown",
   "source": [
    "### Pca reduced + cut by max data"
   ],
   "metadata": {
    "collapsed": false
   }
  },
  {
   "cell_type": "code",
   "execution_count": 563,
   "outputs": [
    {
     "name": "stderr",
     "output_type": "stream",
     "text": [
      "C:\\Users\\Laura\\AppData\\Local\\Programs\\Python\\Python310\\lib\\site-packages\\sklearn\\utils\\validation.py:993: DataConversionWarning: A column-vector y was passed when a 1d array was expected. Please change the shape of y to (n_samples, ), for example using ravel().\n",
      "  y = column_or_1d(y, warn=True)\n",
      "C:\\Users\\Laura\\AppData\\Local\\Programs\\Python\\Python310\\lib\\site-packages\\sklearn\\utils\\validation.py:993: DataConversionWarning: A column-vector y was passed when a 1d array was expected. Please change the shape of y to (n_samples, ), for example using ravel().\n",
      "  y = column_or_1d(y, warn=True)\n",
      "C:\\Users\\Laura\\AppData\\Local\\Programs\\Python\\Python310\\lib\\site-packages\\sklearn\\utils\\validation.py:993: DataConversionWarning: A column-vector y was passed when a 1d array was expected. Please change the shape of y to (n_samples, ), for example using ravel().\n",
      "  y = column_or_1d(y, warn=True)\n"
     ]
    },
    {
     "name": "stdout",
     "output_type": "stream",
     "text": [
      "Validation balanced accuracy 0.5858585858585857\n",
      "Training balanced accuracy 0.6422101449275363\n",
      "\n",
      "Validation roc auc 0.47476991035727467\n",
      "Training roc auc 0.7321493292511362\n",
      "\n",
      "Validation precision 1.0\n",
      "Training precision 1.0\n",
      "\n",
      "Validation recall 0.1717171717171717\n",
      "Training recall 0.28442028985507245\n",
      "\n",
      "Validation f1 0.2871794871794872\n",
      "Training f1 0.43879683534855946\n",
      "\n"
     ]
    }
   ],
   "source": [
    "svm_model_object = Model(svm_clf, pca_reduced_train_data, train_true_results, pca_reduced_test_data, test_true_results, FOLD_NUMBER)\n",
    "svm_model_object.main_cycle()"
   ],
   "metadata": {
    "collapsed": false,
    "pycharm": {
     "name": "#%%\n"
    }
   }
  },
  {
   "cell_type": "code",
   "execution_count": 564,
   "outputs": [
    {
     "name": "stdout",
     "output_type": "stream",
     "text": [
      "Test balanced accuracy 0.6555555555555556\n",
      "\n",
      "Test roc auc 0.6555555555555556\n",
      "\n",
      "Test precision 1.0\n",
      "\n",
      "Test recall 0.3111111111111111\n",
      "\n",
      "Test f1 score 0.4635832004253057\n"
     ]
    }
   ],
   "source": [
    "svm_model_object.display_test_results()\n"
   ],
   "metadata": {
    "collapsed": false,
    "pycharm": {
     "name": "#%%\n"
    }
   }
  }
 ],
 "metadata": {
  "kernelspec": {
   "display_name": "Python 3 (ipykernel)",
   "language": "python",
   "name": "python3"
  },
  "language_info": {
   "codemirror_mode": {
    "name": "ipython",
    "version": 3
   },
   "file_extension": ".py",
   "mimetype": "text/x-python",
   "name": "python",
   "nbconvert_exporter": "python",
   "pygments_lexer": "ipython3",
   "version": "3.10.0"
  }
 },
 "nbformat": 4,
 "nbformat_minor": 1
}