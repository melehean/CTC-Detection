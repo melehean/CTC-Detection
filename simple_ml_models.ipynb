{
 "cells": [
  {
   "cell_type": "code",
   "execution_count": 1,
   "metadata": {
    "pycharm": {
     "name": "#%%\n"
    }
   },
   "outputs": [],
   "source": [
    "from data import Data\n",
    "from dimension_reduction import PCADimensionReduction\n",
    "from simple_ml_models import Model\n",
    "\n",
    "from xgboost import XGBClassifier\n",
    "from lightgbm import LGBMClassifier"
   ]
  },
  {
   "cell_type": "code",
   "execution_count": 2,
   "metadata": {
    "pycharm": {
     "name": "#%%\n"
    }
   },
   "outputs": [],
   "source": [
    "# You can test the other datasets by changing these file names\n",
    "data_filepath = \"data/SC_integration/counts_ctc_simulated_123_5k.tsv\"\n",
    "true_results_filepath = \"data/SC_integration/ids_ctc_simulated_123_5k.tsv\"\n",
    "train_indices_filepath = \"data/SC_integration/train_indices.npy\"\n",
    "test_indices_filepath = \"data/SC_integration/test_indices.npy\"\n",
    "SEED = 42\n",
    "FOLD_NUMBER = 3\n",
    "\n",
    "# You can change these values to work better for models\n",
    "CUT_BY_MAX_THRESHOLD = 4\n",
    "PCA_VARIABLES_AMOUNT = 60\n",
    "\n",
    "# There are 4 data variants to check: regular, scaled, cut by max, pca reduced + cut by max\n",
    "data_object = Data(data_filepath, true_results_filepath)\n",
    "train_data, test_data, train_true_results, test_true_results =  data_object.load_train_test_split(train_indices_filepath, test_indices_filepath)\n",
    "scaled_train_data, scaled_test_data = data_object.get_scaled_train_test_data()"
   ]
  },
  {
   "cell_type": "code",
   "execution_count": 3,
   "metadata": {
    "pycharm": {
     "name": "#%%\n"
    }
   },
   "outputs": [],
   "source": [
    "cut_by_max_train_data, cut_by_max_test_data = data_object.get_cut_by_max_train_test_data(CUT_BY_MAX_THRESHOLD)\n",
    "\n",
    "pca_object = PCADimensionReduction(cut_by_max_train_data, scaled_train_data, train_true_results, SEED)\n",
    "pca_variables = pca_object.get_most_important_variables_from_pc1(PCA_VARIABLES_AMOUNT)\n",
    "pca_reduced_train_data = cut_by_max_train_data[pca_variables.index]\n",
    "pca_reduced_test_data = cut_by_max_test_data[pca_variables.index]"
   ]
  },
  {
   "cell_type": "markdown",
   "metadata": {
    "pycharm": {
     "name": "#%% md\n"
    }
   },
   "source": [
    "## XGBoost"
   ]
  },
  {
   "cell_type": "code",
   "execution_count": 4,
   "metadata": {},
   "outputs": [],
   "source": [
    "# not sure about parameters\n",
    "# needs to be fixed\n",
    "xgb_clf = XGBClassifier(booster='gbtree', # tree-based model\n",
    "                        eta = 0.2,\n",
    "                        min_child_weight=1,\n",
    "                        max_depth=5,\n",
    "                        gamma=0.5\n",
    "                       )"
   ]
  },
  {
   "cell_type": "markdown",
   "metadata": {},
   "source": [
    "### Regular data"
   ]
  },
  {
   "cell_type": "code",
   "execution_count": 5,
   "metadata": {},
   "outputs": [
    {
     "name": "stdout",
     "output_type": "stream",
     "text": [
      "Validation balanced accuracy 0.8434343434343434\n",
      "Training balanced accuracy 1.0\n",
      "\n",
      "Validation roc auc 1.0\n",
      "Training roc auc 1.0\n",
      "\n",
      "Validation precision 1.0\n",
      "Training precision 1.0\n",
      "\n",
      "Validation recall 0.6868686868686869\n",
      "Training recall 1.0\n",
      "\n",
      "Validation f1 0.81203007518797\n",
      "Training f1 1.0\n",
      "\n"
     ]
    }
   ],
   "source": [
    "xgboost_model_object = Model(xgb_clf, train_data, train_true_results, test_data, test_true_results, FOLD_NUMBER)\n",
    "xgboost_model_object.main_cycle()"
   ]
  },
  {
   "cell_type": "code",
   "execution_count": 6,
   "metadata": {
    "pycharm": {
     "name": "#%%\n"
    }
   },
   "outputs": [
    {
     "name": "stdout",
     "output_type": "stream",
     "text": [
      "Test balanced accuracy 0.9222222222222222\n",
      "\n",
      "Test roc auc 0.9222222222222222\n",
      "\n",
      "Test precision 1.0\n",
      "\n",
      "Test recall 0.8444444444444444\n",
      "\n",
      "Test f1 score 0.9116809116809117\n"
     ]
    }
   ],
   "source": [
    "xgboost_model_object.display_test_results()"
   ]
  },
  {
   "cell_type": "markdown",
   "metadata": {},
   "source": [
    "### Scaled data"
   ]
  },
  {
   "cell_type": "code",
   "execution_count": 7,
   "metadata": {
    "pycharm": {
     "name": "#%%\n"
    }
   },
   "outputs": [
    {
     "name": "stdout",
     "output_type": "stream",
     "text": [
      "Validation balanced accuracy 0.8434343434343434\n",
      "Training balanced accuracy 1.0\n",
      "\n",
      "Validation roc auc 1.0\n",
      "Training roc auc 1.0\n",
      "\n",
      "Validation precision 1.0\n",
      "Training precision 1.0\n",
      "\n",
      "Validation recall 0.6868686868686869\n",
      "Training recall 1.0\n",
      "\n",
      "Validation f1 0.81203007518797\n",
      "Training f1 1.0\n",
      "\n"
     ]
    }
   ],
   "source": [
    "xgboost_model_object = Model(xgb_clf, scaled_train_data, train_true_results, scaled_test_data, test_true_results, FOLD_NUMBER)\n",
    "xgboost_model_object.main_cycle()"
   ]
  },
  {
   "cell_type": "code",
   "execution_count": 8,
   "metadata": {},
   "outputs": [
    {
     "name": "stdout",
     "output_type": "stream",
     "text": [
      "Test balanced accuracy 0.9222222222222222\n",
      "\n",
      "Test roc auc 0.9222222222222222\n",
      "\n",
      "Test precision 1.0\n",
      "\n",
      "Test recall 0.8444444444444444\n",
      "\n",
      "Test f1 score 0.9116809116809117\n"
     ]
    }
   ],
   "source": [
    "xgboost_model_object.display_test_results()"
   ]
  },
  {
   "cell_type": "markdown",
   "metadata": {},
   "source": [
    "### Cut by max data"
   ]
  },
  {
   "cell_type": "code",
   "execution_count": 9,
   "metadata": {},
   "outputs": [
    {
     "name": "stdout",
     "output_type": "stream",
     "text": [
      "Validation balanced accuracy 0.9583333333333334\n",
      "Training balanced accuracy 1.0\n",
      "\n",
      "Validation roc auc 1.0\n",
      "Training roc auc 1.0\n",
      "\n",
      "Validation precision 1.0\n",
      "Training precision 1.0\n",
      "\n",
      "Validation recall 0.9166666666666666\n",
      "Training recall 1.0\n",
      "\n",
      "Validation f1 0.9552042160737813\n",
      "Training f1 1.0\n",
      "\n"
     ]
    }
   ],
   "source": [
    "xgboost_model_object = Model(xgb_clf, cut_by_max_train_data, train_true_results, cut_by_max_test_data, test_true_results, FOLD_NUMBER)\n",
    "xgboost_model_object.main_cycle()"
   ]
  },
  {
   "cell_type": "code",
   "execution_count": 10,
   "metadata": {},
   "outputs": [
    {
     "name": "stdout",
     "output_type": "stream",
     "text": [
      "Test balanced accuracy 0.9777777777777779\n",
      "\n",
      "Test roc auc 0.9777777777777779\n",
      "\n",
      "Test precision 1.0\n",
      "\n",
      "Test recall 0.9555555555555556\n",
      "\n",
      "Test f1 score 0.9770114942528737\n"
     ]
    }
   ],
   "source": [
    "xgboost_model_object.display_test_results()"
   ]
  },
  {
   "cell_type": "markdown",
   "metadata": {},
   "source": [
    "### Pca reduced + cut by max data"
   ]
  },
  {
   "cell_type": "code",
   "execution_count": 11,
   "metadata": {},
   "outputs": [
    {
     "name": "stdout",
     "output_type": "stream",
     "text": [
      "Validation balanced accuracy 0.970959595959596\n",
      "Training balanced accuracy 1.0\n",
      "\n",
      "Validation roc auc 0.9999725786991335\n",
      "Training roc auc 1.0\n",
      "\n",
      "Validation precision 1.0\n",
      "Training precision 1.0\n",
      "\n",
      "Validation recall 0.9419191919191919\n",
      "Training recall 1.0\n",
      "\n",
      "Validation f1 0.9696342305037957\n",
      "Training f1 1.0\n",
      "\n"
     ]
    }
   ],
   "source": [
    "xgboost_model_object = Model(xgb_clf, pca_reduced_train_data, train_true_results, pca_reduced_test_data, test_true_results, FOLD_NUMBER)\n",
    "xgboost_model_object.main_cycle()"
   ]
  },
  {
   "cell_type": "code",
   "execution_count": 12,
   "metadata": {},
   "outputs": [
    {
     "name": "stdout",
     "output_type": "stream",
     "text": [
      "Test balanced accuracy 1.0\n",
      "\n",
      "Test roc auc 1.0\n",
      "\n",
      "Test precision 1.0\n",
      "\n",
      "Test recall 1.0\n",
      "\n",
      "Test f1 score 1.0\n"
     ]
    }
   ],
   "source": [
    "xgboost_model_object.display_test_results()"
   ]
  },
  {
   "cell_type": "markdown",
   "source": [
    "## LightGBM"
   ],
   "metadata": {
    "collapsed": false,
    "pycharm": {
     "name": "#%% md\n"
    }
   }
  },
  {
   "cell_type": "code",
   "execution_count": 22,
   "outputs": [],
   "source": [
    "lightgbm_clf = LGBMClassifier()"
   ],
   "metadata": {
    "collapsed": false,
    "pycharm": {
     "name": "#%%\n"
    }
   }
  },
  {
   "cell_type": "markdown",
   "source": [
    "### Regular data"
   ],
   "metadata": {
    "collapsed": false,
    "pycharm": {
     "name": "#%% md\n"
    }
   }
  },
  {
   "cell_type": "code",
   "execution_count": 23,
   "outputs": [
    {
     "name": "stdout",
     "output_type": "stream",
     "text": [
      "Validation balanced accuracy 0.8434343434343434\n",
      "Training balanced accuracy 1.0\n",
      "\n",
      "Validation roc auc 1.0\n",
      "Training roc auc 1.0\n",
      "\n",
      "Validation precision 1.0\n",
      "Training precision 1.0\n",
      "\n",
      "Validation recall 0.6868686868686869\n",
      "Training recall 1.0\n",
      "\n",
      "Validation f1 0.81203007518797\n",
      "Training f1 1.0\n",
      "\n"
     ]
    }
   ],
   "source": [
    "lightgbm_model_object = Model(lightgbm_clf, train_data, train_true_results.values.ravel(), test_data, test_true_results.values.ravel(), FOLD_NUMBER)\n",
    "lightgbm_model_object.main_cycle()"
   ],
   "metadata": {
    "collapsed": false,
    "pycharm": {
     "name": "#%%\n"
    }
   }
  },
  {
   "cell_type": "code",
   "execution_count": 24,
   "outputs": [
    {
     "name": "stdout",
     "output_type": "stream",
     "text": [
      "Test balanced accuracy 0.9444444444444445\n",
      "\n",
      "Test roc auc 0.9444444444444445\n",
      "\n",
      "Test precision 1.0\n",
      "\n",
      "Test recall 0.888888888888889\n",
      "\n",
      "Test f1 score 0.9391534391534392\n"
     ]
    }
   ],
   "source": [
    "lightgbm_model_object.display_test_results()"
   ],
   "metadata": {
    "collapsed": false,
    "pycharm": {
     "name": "#%%\n"
    }
   }
  },
  {
   "cell_type": "markdown",
   "source": [
    "### Scaled data"
   ],
   "metadata": {
    "collapsed": false,
    "pycharm": {
     "name": "#%% md\n"
    }
   }
  },
  {
   "cell_type": "code",
   "execution_count": 25,
   "outputs": [
    {
     "name": "stdout",
     "output_type": "stream",
     "text": [
      "Validation balanced accuracy 0.912878787878788\n",
      "Training balanced accuracy 1.0\n",
      "\n",
      "Validation roc auc 1.0\n",
      "Training roc auc 1.0\n",
      "\n",
      "Validation precision 1.0\n",
      "Training precision 1.0\n",
      "\n",
      "Validation recall 0.8257575757575758\n",
      "Training recall 1.0\n",
      "\n",
      "Validation f1 0.899749373433584\n",
      "Training f1 1.0\n",
      "\n"
     ]
    }
   ],
   "source": [
    "lightgbm_model_object = Model(lightgbm_clf, scaled_train_data, train_true_results.values.ravel(), scaled_test_data, test_true_results.values.ravel(), FOLD_NUMBER)\n",
    "lightgbm_model_object.main_cycle()"
   ],
   "metadata": {
    "collapsed": false,
    "pycharm": {
     "name": "#%%\n"
    }
   }
  },
  {
   "cell_type": "code",
   "execution_count": 26,
   "outputs": [
    {
     "name": "stdout",
     "output_type": "stream",
     "text": [
      "Test balanced accuracy 0.9666666666666667\n",
      "\n",
      "Test roc auc 0.9666666666666667\n",
      "\n",
      "Test precision 1.0\n",
      "\n",
      "Test recall 0.9333333333333332\n",
      "\n",
      "Test f1 score 0.964696223316913\n"
     ]
    }
   ],
   "source": [
    "lightgbm_model_object.display_test_results()"
   ],
   "metadata": {
    "collapsed": false,
    "pycharm": {
     "name": "#%%\n"
    }
   }
  },
  {
   "cell_type": "markdown",
   "source": [
    "### Cut by max data"
   ],
   "metadata": {
    "collapsed": false,
    "pycharm": {
     "name": "#%% md\n"
    }
   }
  },
  {
   "cell_type": "code",
   "execution_count": 27,
   "outputs": [
    {
     "name": "stdout",
     "output_type": "stream",
     "text": [
      "Validation balanced accuracy 0.9583333333333334\n",
      "Training balanced accuracy 1.0\n",
      "\n",
      "Validation roc auc 1.0\n",
      "Training roc auc 1.0\n",
      "\n",
      "Validation precision 1.0\n",
      "Training precision 1.0\n",
      "\n",
      "Validation recall 0.9166666666666666\n",
      "Training recall 1.0\n",
      "\n",
      "Validation f1 0.9523809523809524\n",
      "Training f1 1.0\n",
      "\n"
     ]
    }
   ],
   "source": [
    "lightgbm_model_object = Model(lightgbm_clf, cut_by_max_train_data, train_true_results.values.ravel(), cut_by_max_test_data, test_true_results.values.ravel(), FOLD_NUMBER)\n",
    "lightgbm_model_object.main_cycle()"
   ],
   "metadata": {
    "collapsed": false,
    "pycharm": {
     "name": "#%%\n"
    }
   }
  },
  {
   "cell_type": "code",
   "execution_count": 28,
   "outputs": [
    {
     "name": "stdout",
     "output_type": "stream",
     "text": [
      "Test balanced accuracy 0.9888888888888889\n",
      "\n",
      "Test roc auc 0.9888888888888889\n",
      "\n",
      "Test precision 1.0\n",
      "\n",
      "Test recall 0.9777777777777779\n",
      "\n",
      "Test f1 score 0.9885057471264368\n"
     ]
    }
   ],
   "source": [
    "lightgbm_model_object.display_test_results()"
   ],
   "metadata": {
    "collapsed": false,
    "pycharm": {
     "name": "#%%\n"
    }
   }
  },
  {
   "cell_type": "markdown",
   "source": [
    "### Pca reduced + cut by max data"
   ],
   "metadata": {
    "collapsed": false,
    "pycharm": {
     "name": "#%% md\n"
    }
   }
  },
  {
   "cell_type": "code",
   "execution_count": 29,
   "outputs": [
    {
     "name": "stdout",
     "output_type": "stream",
     "text": [
      "Validation balanced accuracy 0.986111111111111\n",
      "Training balanced accuracy 1.0\n",
      "\n",
      "Validation roc auc 1.0\n",
      "Training roc auc 1.0\n",
      "\n",
      "Validation precision 1.0\n",
      "Training precision 1.0\n",
      "\n",
      "Validation recall 0.9722222222222222\n",
      "Training recall 1.0\n",
      "\n",
      "Validation f1 0.9855072463768115\n",
      "Training f1 1.0\n",
      "\n"
     ]
    }
   ],
   "source": [
    "lightgbm_model_object = Model(lightgbm_clf, pca_reduced_train_data, train_true_results.values.ravel(), pca_reduced_test_data, test_true_results.values.ravel(), FOLD_NUMBER)\n",
    "lightgbm_model_object.main_cycle()"
   ],
   "metadata": {
    "collapsed": false,
    "pycharm": {
     "name": "#%%\n"
    }
   }
  },
  {
   "cell_type": "code",
   "execution_count": 30,
   "outputs": [
    {
     "name": "stdout",
     "output_type": "stream",
     "text": [
      "Test balanced accuracy 1.0\n",
      "\n",
      "Test roc auc 1.0\n",
      "\n",
      "Test precision 1.0\n",
      "\n",
      "Test recall 1.0\n",
      "\n",
      "Test f1 score 1.0\n"
     ]
    }
   ],
   "source": [
    "lightgbm_model_object.display_test_results()"
   ],
   "metadata": {
    "collapsed": false,
    "pycharm": {
     "name": "#%%\n"
    }
   }
  }
 ],
 "metadata": {
  "kernelspec": {
   "display_name": "Python 3 (ipykernel)",
   "language": "python",
   "name": "python3"
  },
  "language_info": {
   "codemirror_mode": {
    "name": "ipython",
    "version": 3
   },
   "file_extension": ".py",
   "mimetype": "text/x-python",
   "name": "python",
   "nbconvert_exporter": "python",
   "pygments_lexer": "ipython3",
   "version": "3.9.7"
  }
 },
 "nbformat": 4,
 "nbformat_minor": 1
}