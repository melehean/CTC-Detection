{
 "cells": [
  {
   "cell_type": "code",
   "execution_count": 153,
   "outputs": [],
   "source": [
    "from data import Data\n",
    "from dimension_reduction import PCADimensionReduction\n",
    "from simple_ml_models import Model\n",
    "\n",
    "from xgboost import XGBClassifier\n",
    "from sklearn.ensemble import IsolationForest\n",
    "from sklearn.neighbors import KNeighborsClassifier\n",
    "\n",
    "from sklearn import svm\n",
    "from sklearn import metrics\n",
    "from sklearn.model_selection import train_test_split\n",
    "\n",
    "import warnings\n",
    "warnings.filterwarnings('ignore')"
   ],
   "metadata": {
    "collapsed": false,
    "pycharm": {
     "name": "#%%\n"
    }
   }
  },
  {
   "cell_type": "code",
   "execution_count": 154,
   "outputs": [],
   "source": [
    "# You can test the other datasets by changing these file names\n",
    "data_filepath = \"data/SC_integration/counts_ctc_simulated_123_5k.tsv\"\n",
    "true_results_filepath = \"data/SC_integration/ids_ctc_simulated_123_5k.tsv\"\n",
    "train_indices_filepath = \"data/SC_integration/train_indices.npy\"\n",
    "test_indices_filepath = \"data/SC_integration/test_indices.npy\"\n",
    "SEED = 42\n",
    "FOLD_NUMBER = 3\n",
    "\n",
    "# You can change these values to work better for models\n",
    "CUT_BY_MAX_THRESHOLD = 4\n",
    "PCA_VARIABLES_AMOUNT = 60\n",
    "\n",
    "# There are 4 data variants to check: regular, scaled, cut by max, pca reduced + cut by max\n",
    "data_object = Data(data_filepath, true_results_filepath)\n",
    "train_data, test_data, train_true_results, test_true_results =  data_object.load_train_test_split(train_indices_filepath, test_indices_filepath)\n",
    "scaled_train_data, scaled_test_data = data_object.get_scaled_train_test_data()"
   ],
   "metadata": {
    "collapsed": false,
    "pycharm": {
     "name": "#%%\n"
    }
   }
  },
  {
   "cell_type": "code",
   "execution_count": 155,
   "outputs": [],
   "source": [
    "cut_by_max_train_data, cut_by_max_test_data = data_object.get_cut_by_max_train_test_data(CUT_BY_MAX_THRESHOLD)\n",
    "\n",
    "pca_object = PCADimensionReduction(cut_by_max_train_data, scaled_train_data, train_true_results, SEED)\n",
    "pca_variables = pca_object.get_most_important_variables_from_pc1(PCA_VARIABLES_AMOUNT)\n",
    "pca_reduced_train_data = cut_by_max_train_data[pca_variables.index]\n",
    "pca_reduced_test_data = cut_by_max_test_data[pca_variables.index]"
   ],
   "metadata": {
    "collapsed": false,
    "pycharm": {
     "name": "#%%\n"
    }
   }
  },
  {
   "cell_type": "markdown",
   "source": [
    "## XGBoost"
   ],
   "metadata": {
    "collapsed": false
   }
  },
  {
   "cell_type": "code",
   "execution_count": 156,
   "outputs": [],
   "source": [
    "# not sure about parameters\n",
    "# needs to be fixed\n",
    "xgb_clf = XGBClassifier(booster='gbtree', # tree-based model\n",
    "                        eta = 0.2,\n",
    "                        min_child_weight=1,\n",
    "                        max_depth=5,\n",
    "                        gamma=0.5\n",
    "                       )"
   ],
   "metadata": {
    "collapsed": false,
    "pycharm": {
     "name": "#%%\n"
    }
   }
  },
  {
   "cell_type": "markdown",
   "source": [
    "### Regular data"
   ],
   "metadata": {
    "collapsed": false
   }
  },
  {
   "cell_type": "code",
   "execution_count": 157,
   "outputs": [
    {
     "name": "stdout",
     "output_type": "stream",
     "text": [
      "Validation balanced accuracy 0.8434343434343434\n",
      "Training balanced accuracy 1.0\n",
      "\n",
      "Validation roc auc 1.0\n",
      "Training roc auc 1.0\n",
      "\n",
      "Validation precision 1.0\n",
      "Training precision 1.0\n",
      "\n",
      "Validation recall 0.6868686868686869\n",
      "Training recall 1.0\n",
      "\n",
      "Validation f1 0.81203007518797\n",
      "Training f1 1.0\n",
      "\n",
      "Validation balanced accuracy 0.8434343434343434\n",
      "Training balanced accuracy 1.0\n",
      "\n",
      "Validation roc auc 1.0\n",
      "Training roc auc 1.0\n",
      "\n",
      "Validation precision 1.0\n",
      "Training precision 1.0\n",
      "\n",
      "Validation recall 0.6868686868686869\n",
      "Training recall 1.0\n",
      "\n",
      "Validation f1 0.81203007518797\n",
      "Training f1 1.0\n",
      "\n"
     ]
    }
   ],
   "source": [
    "xgboost_model_object = Model(xgb_clf, train_data, train_true_results, test_data, test_true_results, FOLD_NUMBER)\n",
    "xgboost_model_object.main_cycle()"
   ],
   "metadata": {
    "collapsed": false,
    "pycharm": {
     "name": "#%%\n"
    }
   }
  },
  {
   "cell_type": "code",
   "execution_count": 158,
   "outputs": [
    {
     "name": "stdout",
     "output_type": "stream",
     "text": [
      "Test balanced accuracy 0.9222222222222222\n",
      "\n",
      "Test roc auc 0.9222222222222222\n",
      "\n",
      "Test precision 1.0\n",
      "\n",
      "Test recall 0.8444444444444444\n",
      "\n",
      "Test f1 score 0.9116809116809117\n",
      "Test balanced accuracy 0.9222222222222222\n",
      "\n",
      "Test roc auc 0.9222222222222222\n",
      "\n",
      "Test precision 1.0\n",
      "\n",
      "Test recall 0.8444444444444444\n",
      "\n",
      "Test f1 score 0.9116809116809117\n"
     ]
    }
   ],
   "source": [
    "xgboost_model_object.display_test_results()"
   ],
   "metadata": {
    "collapsed": false,
    "pycharm": {
     "name": "#%%\n"
    }
   }
  },
  {
   "cell_type": "markdown",
   "source": [
    "### Scaled data"
   ],
   "metadata": {
    "collapsed": false
   }
  },
  {
   "cell_type": "code",
   "execution_count": 159,
   "outputs": [
    {
     "name": "stdout",
     "output_type": "stream",
     "text": [
      "Validation balanced accuracy 0.8434343434343434\n",
      "Training balanced accuracy 1.0\n",
      "\n",
      "Validation roc auc 1.0\n",
      "Training roc auc 1.0\n",
      "\n",
      "Validation precision 1.0\n",
      "Training precision 1.0\n",
      "\n",
      "Validation recall 0.6868686868686869\n",
      "Training recall 1.0\n",
      "\n",
      "Validation f1 0.81203007518797\n",
      "Training f1 1.0\n",
      "\n",
      "Validation balanced accuracy 0.8434343434343434\n",
      "Training balanced accuracy 1.0\n",
      "\n",
      "Validation roc auc 1.0\n",
      "Training roc auc 1.0\n",
      "\n",
      "Validation precision 1.0\n",
      "Training precision 1.0\n",
      "\n",
      "Validation recall 0.6868686868686869\n",
      "Training recall 1.0\n",
      "\n",
      "Validation f1 0.81203007518797\n",
      "Training f1 1.0\n",
      "\n"
     ]
    }
   ],
   "source": [
    "xgboost_model_object = Model(xgb_clf, scaled_train_data, train_true_results, scaled_test_data, test_true_results, FOLD_NUMBER)\n",
    "xgboost_model_object.main_cycle()"
   ],
   "metadata": {
    "collapsed": false,
    "pycharm": {
     "name": "#%%\n"
    }
   }
  },
  {
   "cell_type": "code",
   "execution_count": 160,
   "outputs": [
    {
     "name": "stdout",
     "output_type": "stream",
     "text": [
      "Test balanced accuracy 0.9222222222222222\n",
      "\n",
      "Test roc auc 0.9222222222222222\n",
      "\n",
      "Test precision 1.0\n",
      "\n",
      "Test recall 0.8444444444444444\n",
      "\n",
      "Test f1 score 0.9116809116809117\n",
      "Test balanced accuracy 0.9222222222222222\n",
      "\n",
      "Test roc auc 0.9222222222222222\n",
      "\n",
      "Test precision 1.0\n",
      "\n",
      "Test recall 0.8444444444444444\n",
      "\n",
      "Test f1 score 0.9116809116809117\n"
     ]
    }
   ],
   "source": [
    "xgboost_model_object.display_test_results()"
   ],
   "metadata": {
    "collapsed": false,
    "pycharm": {
     "name": "#%%\n"
    }
   }
  },
  {
   "cell_type": "markdown",
   "source": [
    "### Cut by max data"
   ],
   "metadata": {
    "collapsed": false
   }
  },
  {
   "cell_type": "code",
   "execution_count": 161,
   "outputs": [
    {
     "name": "stdout",
     "output_type": "stream",
     "text": [
      "Validation balanced accuracy 0.9583333333333334\n",
      "Training balanced accuracy 1.0\n",
      "\n",
      "Validation roc auc 1.0\n",
      "Training roc auc 1.0\n",
      "\n",
      "Validation precision 1.0\n",
      "Training precision 1.0\n",
      "\n",
      "Validation recall 0.9166666666666666\n",
      "Training recall 1.0\n",
      "\n",
      "Validation f1 0.9552042160737813\n",
      "Training f1 1.0\n",
      "\n",
      "Validation balanced accuracy 0.9583333333333334\n",
      "Training balanced accuracy 1.0\n",
      "\n",
      "Validation roc auc 1.0\n",
      "Training roc auc 1.0\n",
      "\n",
      "Validation precision 1.0\n",
      "Training precision 1.0\n",
      "\n",
      "Validation recall 0.9166666666666666\n",
      "Training recall 1.0\n",
      "\n",
      "Validation f1 0.9552042160737813\n",
      "Training f1 1.0\n",
      "\n"
     ]
    }
   ],
   "source": [
    "xgboost_model_object = Model(xgb_clf, cut_by_max_train_data, train_true_results, cut_by_max_test_data, test_true_results, FOLD_NUMBER)\n",
    "xgboost_model_object.main_cycle()"
   ],
   "metadata": {
    "collapsed": false,
    "pycharm": {
     "name": "#%%\n"
    }
   }
  },
  {
   "cell_type": "code",
   "execution_count": 162,
   "outputs": [
    {
     "name": "stdout",
     "output_type": "stream",
     "text": [
      "Test balanced accuracy 0.9777777777777779\n",
      "\n",
      "Test roc auc 0.9777777777777779\n",
      "\n",
      "Test precision 1.0\n",
      "\n",
      "Test recall 0.9555555555555556\n",
      "\n",
      "Test f1 score 0.9770114942528737\n",
      "Test balanced accuracy 0.9777777777777779\n",
      "\n",
      "Test roc auc 0.9777777777777779\n",
      "\n",
      "Test precision 1.0\n",
      "\n",
      "Test recall 0.9555555555555556\n",
      "\n",
      "Test f1 score 0.9770114942528737\n"
     ]
    }
   ],
   "source": [
    "xgboost_model_object.display_test_results()"
   ],
   "metadata": {
    "collapsed": false,
    "pycharm": {
     "name": "#%%\n"
    }
   }
  },
  {
   "cell_type": "markdown",
   "source": [
    "### Pca reduced + cut by max data"
   ],
   "metadata": {
    "collapsed": false
   }
  },
  {
   "cell_type": "code",
   "execution_count": 163,
   "outputs": [
    {
     "name": "stdout",
     "output_type": "stream",
     "text": [
      "Validation balanced accuracy 0.970959595959596\n",
      "Training balanced accuracy 1.0\n",
      "\n",
      "Validation roc auc 0.9999725786991335\n",
      "Training roc auc 1.0\n",
      "\n",
      "Validation precision 1.0\n",
      "Training precision 1.0\n",
      "\n",
      "Validation recall 0.9419191919191919\n",
      "Training recall 1.0\n",
      "\n",
      "Validation f1 0.9696342305037957\n",
      "Training f1 1.0\n",
      "\n",
      "Validation balanced accuracy 0.970959595959596\n",
      "Training balanced accuracy 1.0\n",
      "\n",
      "Validation roc auc 0.9999725786991335\n",
      "Training roc auc 1.0\n",
      "\n",
      "Validation precision 1.0\n",
      "Training precision 1.0\n",
      "\n",
      "Validation recall 0.9419191919191919\n",
      "Training recall 1.0\n",
      "\n",
      "Validation f1 0.9696342305037957\n",
      "Training f1 1.0\n",
      "\n"
     ]
    }
   ],
   "source": [
    "xgboost_model_object = Model(xgb_clf, pca_reduced_train_data, train_true_results, pca_reduced_test_data, test_true_results, FOLD_NUMBER)\n",
    "xgboost_model_object.main_cycle()"
   ],
   "metadata": {
    "collapsed": false,
    "pycharm": {
     "name": "#%%\n"
    }
   }
  },
  {
   "cell_type": "code",
   "execution_count": 164,
   "outputs": [
    {
     "name": "stdout",
     "output_type": "stream",
     "text": [
      "Test balanced accuracy 1.0\n",
      "\n",
      "Test roc auc 1.0\n",
      "\n",
      "Test precision 1.0\n",
      "\n",
      "Test recall 1.0\n",
      "\n",
      "Test f1 score 1.0\n",
      "Test balanced accuracy 1.0\n",
      "\n",
      "Test roc auc 1.0\n",
      "\n",
      "Test precision 1.0\n",
      "\n",
      "Test recall 1.0\n",
      "\n",
      "Test f1 score 1.0\n"
     ]
    }
   ],
   "source": [
    "xgboost_model_object.display_test_results()"
   ],
   "metadata": {
    "collapsed": false,
    "pycharm": {
     "name": "#%%\n"
    }
   }
  },
  {
   "cell_type": "markdown",
   "source": [
    "## K-nearest neighbors\n",
    "KNN provides four search algorithms: 'ball_tree', 'kd_tree', 'brute' and 'auto' (the algorithm attempts to determine the best approach from the training data) and two weight types: 'uniform' (default value) and 'distance' (it generated better results than 'uniform' for above data). KNN did not turn out to be a sufficient model for the problem.\n",
    "\n",
    "### KNN regular data\n",
    "Precision and recall for regular data were 0.0 for all algorithm and weight types."
   ],
   "metadata": {
    "collapsed": false
   }
  },
  {
   "cell_type": "code",
   "execution_count": 127,
   "outputs": [
    {
     "name": "stdout",
     "output_type": "stream",
     "text": [
      "Validation balanced accuracy 0.5\n",
      "Training balanced accuracy 1.0\n",
      "\n",
      "Validation roc auc 0.5\n",
      "Training roc auc 1.0\n",
      "\n",
      "Validation precision 0.0\n",
      "Training precision 1.0\n",
      "\n",
      "Validation recall 0.0\n",
      "Training recall 1.0\n",
      "\n",
      "Validation f1 0.0\n",
      "Training f1 1.0\n",
      "\n"
     ]
    }
   ],
   "source": [
    "import warnings\n",
    "warnings.filterwarnings('ignore')\n",
    "\n",
    "knn = KNeighborsClassifier(n_neighbors=5, algorithm='kd_tree', weights='distance')\n",
    "knn_model = Model(knn,\n",
    "                  train_data,\n",
    "                  train_true_results,\n",
    "                  test_data,\n",
    "                  test_true_results,\n",
    "                  FOLD_NUMBER)\n",
    "knn_model.main_cycle()"
   ],
   "metadata": {
    "collapsed": false,
    "pycharm": {
     "name": "#%%\n"
    }
   }
  },
  {
   "cell_type": "code",
   "execution_count": 128,
   "outputs": [
    {
     "name": "stdout",
     "output_type": "stream",
     "text": [
      "Test balanced accuracy 0.5\n",
      "\n",
      "Test roc auc 0.5\n",
      "\n",
      "Test precision 0.0\n",
      "\n",
      "Test recall 0.0\n",
      "\n",
      "Test f1 score 0.0\n"
     ]
    }
   ],
   "source": [
    "knn_model.display_test_results()"
   ],
   "metadata": {
    "collapsed": false,
    "pycharm": {
     "name": "#%%\n"
    }
   }
  },
  {
   "cell_type": "markdown",
   "source": [
    "### KNN Scaled Data"
   ],
   "metadata": {
    "collapsed": false
   }
  },
  {
   "cell_type": "code",
   "execution_count": 129,
   "outputs": [
    {
     "name": "stdout",
     "output_type": "stream",
     "text": [
      "Validation balanced accuracy 0.5\n",
      "Training balanced accuracy 1.0\n",
      "\n",
      "Validation roc auc 0.5\n",
      "Training roc auc 1.0\n",
      "\n",
      "Validation precision 0.0\n",
      "Training precision 1.0\n",
      "\n",
      "Validation recall 0.0\n",
      "Training recall 1.0\n",
      "\n",
      "Validation f1 0.0\n",
      "Training f1 1.0\n",
      "\n"
     ]
    }
   ],
   "source": [
    "knn = KNeighborsClassifier(n_neighbors=5, algorithm='kd_tree', weights='distance')\n",
    "knn_model = Model(knn,\n",
    "                  scaled_train_data,\n",
    "                  train_true_results,\n",
    "                  scaled_test_data,\n",
    "                  test_true_results,\n",
    "                  FOLD_NUMBER)\n",
    "knn_model.main_cycle()"
   ],
   "metadata": {
    "collapsed": false,
    "pycharm": {
     "name": "#%%\n"
    }
   }
  },
  {
   "cell_type": "code",
   "execution_count": 130,
   "outputs": [
    {
     "name": "stdout",
     "output_type": "stream",
     "text": [
      "Test balanced accuracy 0.5\n",
      "\n",
      "Test roc auc 0.5\n",
      "\n",
      "Test precision 0.0\n",
      "\n",
      "Test recall 0.0\n",
      "\n",
      "Test f1 score 0.0\n"
     ]
    }
   ],
   "source": [
    "knn_model.display_test_results()"
   ],
   "metadata": {
    "collapsed": false,
    "pycharm": {
     "name": "#%%\n"
    }
   }
  },
  {
   "cell_type": "markdown",
   "source": [
    "### KNN Cut by max data"
   ],
   "metadata": {
    "collapsed": false
   }
  },
  {
   "cell_type": "code",
   "execution_count": 131,
   "outputs": [
    {
     "name": "stdout",
     "output_type": "stream",
     "text": [
      "Validation balanced accuracy 0.5\n",
      "Training balanced accuracy 1.0\n",
      "\n",
      "Validation roc auc 0.6688927777279208\n",
      "Training roc auc 1.0\n",
      "\n",
      "Validation precision 0.0\n",
      "Training precision 1.0\n",
      "\n",
      "Validation recall 0.0\n",
      "Training recall 1.0\n",
      "\n",
      "Validation f1 0.0\n",
      "Training f1 1.0\n",
      "\n"
     ]
    }
   ],
   "source": [
    "knn = KNeighborsClassifier(n_neighbors=5, algorithm='kd_tree', weights='distance')\n",
    "knn_model = Model(knn,\n",
    "                  cut_by_max_train_data,\n",
    "                  train_true_results,\n",
    "                  cut_by_max_test_data,\n",
    "                  test_true_results,\n",
    "                  FOLD_NUMBER)\n",
    "knn_model.main_cycle()"
   ],
   "metadata": {
    "collapsed": false,
    "pycharm": {
     "name": "#%%\n"
    }
   }
  },
  {
   "cell_type": "code",
   "execution_count": 132,
   "outputs": [
    {
     "name": "stdout",
     "output_type": "stream",
     "text": [
      "Test balanced accuracy 0.5222222222222223\n",
      "\n",
      "Test roc auc 0.5222222222222223\n",
      "\n",
      "Test precision 0.6666666666666666\n",
      "\n",
      "Test recall 0.044444444444444446\n",
      "\n",
      "Test f1 score 0.08333333333333333\n"
     ]
    }
   ],
   "source": [
    "knn_model.display_test_results()"
   ],
   "metadata": {
    "collapsed": false,
    "pycharm": {
     "name": "#%%\n"
    }
   }
  },
  {
   "cell_type": "markdown",
   "source": [
    "## KNN PCA reduced + cut by max data\n",
    "This is the only data where validation precision and recall have values other than zero but still less than 0.5. Therefore, those results are not acceptable.\n"
   ],
   "metadata": {
    "collapsed": false
   }
  },
  {
   "cell_type": "code",
   "execution_count": 133,
   "outputs": [
    {
     "name": "stdout",
     "output_type": "stream",
     "text": [
      "Validation balanced accuracy 0.5151515151515151\n",
      "Training balanced accuracy 1.0\n",
      "\n",
      "Validation roc auc 0.6839046935295702\n",
      "Training roc auc 1.0\n",
      "\n",
      "Validation precision 0.3333333333333333\n",
      "Training precision 1.0\n",
      "\n",
      "Validation recall 0.030303030303030304\n",
      "Training recall 1.0\n",
      "\n",
      "Validation f1 0.05555555555555556\n",
      "Training f1 1.0\n",
      "\n"
     ]
    }
   ],
   "source": [
    "knn = KNeighborsClassifier(n_neighbors=5, algorithm='ball_tree', weights='distance')\n",
    "knn_model = Model(knn,\n",
    "                  pca_reduced_train_data,\n",
    "                  train_true_results,\n",
    "                  pca_reduced_test_data,\n",
    "                  test_true_results,\n",
    "                  FOLD_NUMBER)\n",
    "knn_model.main_cycle()"
   ],
   "metadata": {
    "collapsed": false,
    "pycharm": {
     "name": "#%%\n"
    }
   }
  },
  {
   "cell_type": "code",
   "execution_count": 134,
   "outputs": [
    {
     "name": "stdout",
     "output_type": "stream",
     "text": [
      "Test balanced accuracy 0.5555555555555555\n",
      "\n",
      "Test roc auc 0.5555555555555555\n",
      "\n",
      "Test precision 1.0\n",
      "\n",
      "Test recall 0.1111111111111111\n",
      "\n",
      "Test f1 score 0.19444444444444445\n"
     ]
    }
   ],
   "source": [
    "knn_model.display_test_results()"
   ],
   "metadata": {
    "collapsed": false,
    "pycharm": {
     "name": "#%%\n"
    }
   }
  },
  {
   "cell_type": "markdown",
   "source": [
    "## Isolation Forest"
   ],
   "metadata": {
    "collapsed": false
   }
  },
  {
   "cell_type": "code",
   "execution_count": 135,
   "outputs": [],
   "source": [
    "isolation_forest = IsolationForest(max_features=1, n_estimators=1000, bootstrap=True, max_samples=1000, n_jobs=12, random_state=SEED)"
   ],
   "metadata": {
    "collapsed": false,
    "pycharm": {
     "name": "#%%\n"
    }
   }
  },
  {
   "cell_type": "markdown",
   "source": [
    "### Regular data"
   ],
   "metadata": {
    "collapsed": false
   }
  },
  {
   "cell_type": "code",
   "execution_count": 136,
   "outputs": [
    {
     "name": "stdout",
     "output_type": "stream",
     "text": [
      "Validation balanced accuracy 1.0\n",
      "Training balanced accuracy 1.0\n",
      "\n",
      "Validation roc auc 1.0\n",
      "Training roc auc 1.0\n",
      "\n",
      "Validation precision 1.0\n",
      "Training precision 1.0\n",
      "\n",
      "Validation recall 1.0\n",
      "Training recall 1.0\n",
      "\n",
      "Validation f1 1.0\n",
      "Training f1 1.0\n",
      "\n"
     ]
    }
   ],
   "source": [
    "isolation_forest_model_object = Model(isolation_forest,\n",
    "                                      train_data,\n",
    "                                      train_true_results,\n",
    "                                      test_data,\n",
    "                                      test_true_results,\n",
    "                                      FOLD_NUMBER,\n",
    "                                      minus_one_one_values=True)\n",
    "isolation_forest_model_object.main_cycle()"
   ],
   "metadata": {
    "collapsed": false,
    "pycharm": {
     "name": "#%%\n"
    }
   }
  },
  {
   "cell_type": "code",
   "execution_count": 137,
   "outputs": [
    {
     "name": "stdout",
     "output_type": "stream",
     "text": [
      "Test balanced accuracy 1.0\n",
      "\n",
      "Test roc auc 1.0\n",
      "\n",
      "Test precision 1.0\n",
      "\n",
      "Test recall 1.0\n",
      "\n",
      "Test f1 score 1.0\n"
     ]
    }
   ],
   "source": [
    "isolation_forest_model_object.display_test_results()"
   ],
   "metadata": {
    "collapsed": false,
    "pycharm": {
     "name": "#%%\n"
    }
   }
  },
  {
   "cell_type": "markdown",
   "source": [
    "## Scaled data"
   ],
   "metadata": {
    "collapsed": false
   }
  },
  {
   "cell_type": "code",
   "execution_count": 138,
   "outputs": [
    {
     "name": "stdout",
     "output_type": "stream",
     "text": [
      "Validation balanced accuracy 1.0\n",
      "Training balanced accuracy 1.0\n",
      "\n",
      "Validation roc auc 1.0\n",
      "Training roc auc 1.0\n",
      "\n",
      "Validation precision 1.0\n",
      "Training precision 1.0\n",
      "\n",
      "Validation recall 1.0\n",
      "Training recall 1.0\n",
      "\n",
      "Validation f1 1.0\n",
      "Training f1 1.0\n",
      "\n"
     ]
    }
   ],
   "source": [
    "isolation_forest_model_object = Model(isolation_forest,\n",
    "                                      scaled_train_data,\n",
    "                                      train_true_results,\n",
    "                                      scaled_test_data,\n",
    "                                      test_true_results,\n",
    "                                      FOLD_NUMBER,\n",
    "                                      minus_one_one_values=True)\n",
    "isolation_forest_model_object.main_cycle()"
   ],
   "metadata": {
    "collapsed": false,
    "pycharm": {
     "name": "#%%\n"
    }
   }
  },
  {
   "cell_type": "code",
   "execution_count": 139,
   "outputs": [
    {
     "name": "stdout",
     "output_type": "stream",
     "text": [
      "Test balanced accuracy 1.0\n",
      "\n",
      "Test roc auc 1.0\n",
      "\n",
      "Test precision 1.0\n",
      "\n",
      "Test recall 1.0\n",
      "\n",
      "Test f1 score 1.0\n"
     ]
    }
   ],
   "source": [
    "isolation_forest_model_object.display_test_results()"
   ],
   "metadata": {
    "collapsed": false,
    "pycharm": {
     "name": "#%%\n"
    }
   }
  },
  {
   "cell_type": "markdown",
   "source": [
    "### Cut by max data"
   ],
   "metadata": {
    "collapsed": false
   }
  },
  {
   "cell_type": "code",
   "execution_count": 140,
   "outputs": [
    {
     "name": "stdout",
     "output_type": "stream",
     "text": [
      "Validation balanced accuracy 0.9861638262523312\n",
      "Training balanced accuracy 0.9897208546474147\n",
      "\n",
      "Validation roc auc 0.9999481131545108\n",
      "Training roc auc 0.9999690230734117\n",
      "\n",
      "Validation precision 1.0\n",
      "Training precision 1.0\n",
      "\n",
      "Validation recall 0.9723276525046622\n",
      "Training recall 0.9794417092948294\n",
      "\n",
      "Validation f1 0.9859117316625624\n",
      "Training f1 0.9895972343546561\n",
      "\n"
     ]
    }
   ],
   "source": [
    "isolation_forest_model_object = Model(isolation_forest,\n",
    "                                      cut_by_max_train_data,\n",
    "                                      train_true_results,\n",
    "                                      cut_by_max_test_data,\n",
    "                                      test_true_results,\n",
    "                                      FOLD_NUMBER,\n",
    "                                      minus_one_one_values=True)\n",
    "isolation_forest_model_object.main_cycle()"
   ],
   "metadata": {
    "collapsed": false,
    "pycharm": {
     "name": "#%%\n"
    }
   }
  },
  {
   "cell_type": "code",
   "execution_count": 141,
   "outputs": [
    {
     "name": "stdout",
     "output_type": "stream",
     "text": [
      "Test balanced accuracy 0.9809414172422614\n",
      "\n",
      "Test roc auc 0.9809414172422614\n",
      "\n",
      "Test precision 1.0\n",
      "\n",
      "Test recall 0.9618828344845229\n",
      "\n",
      "Test f1 score 0.9805246975324273\n"
     ]
    }
   ],
   "source": [
    "isolation_forest_model_object.display_test_results()"
   ],
   "metadata": {
    "collapsed": false,
    "pycharm": {
     "name": "#%%\n"
    }
   }
  },
  {
   "cell_type": "markdown",
   "source": [
    "### Pca reduced + cut by max data"
   ],
   "metadata": {
    "collapsed": false
   }
  },
  {
   "cell_type": "code",
   "execution_count": 142,
   "outputs": [
    {
     "name": "stdout",
     "output_type": "stream",
     "text": [
      "Validation balanced accuracy 0.9568658687654407\n",
      "Training balanced accuracy 0.9690732823930205\n",
      "\n",
      "Validation roc auc 0.9998971359714065\n",
      "Training roc auc 0.9999106113045735\n",
      "\n",
      "Validation precision 1.0\n",
      "Training precision 1.0\n",
      "\n",
      "Validation recall 0.9137317375308814\n",
      "Training recall 0.9381465647860412\n",
      "\n",
      "Validation f1 0.9547187918412904\n",
      "Training f1 0.9680664905338991\n",
      "\n"
     ]
    }
   ],
   "source": [
    "isolation_forest_model_object = Model(isolation_forest,\n",
    "                                      pca_reduced_train_data,\n",
    "                                      train_true_results,\n",
    "                                      pca_reduced_test_data,\n",
    "                                      test_true_results,\n",
    "                                      FOLD_NUMBER,\n",
    "                                      minus_one_one_values=True)\n",
    "isolation_forest_model_object.main_cycle()"
   ],
   "metadata": {
    "collapsed": false,
    "pycharm": {
     "name": "#%%\n"
    }
   }
  },
  {
   "cell_type": "code",
   "execution_count": 143,
   "outputs": [
    {
     "name": "stdout",
     "output_type": "stream",
     "text": [
      "Test balanced accuracy 0.9556152468662061\n",
      "\n",
      "Test roc auc 0.9556152468662061\n",
      "\n",
      "Test precision 1.0\n",
      "\n",
      "Test recall 0.9112304937324124\n",
      "\n",
      "Test f1 score 0.9534893621271526\n"
     ]
    }
   ],
   "source": [
    "isolation_forest_model_object.display_test_results()"
   ],
   "metadata": {
    "collapsed": false,
    "pycharm": {
     "name": "#%%\n"
    }
   }
  },
  {
   "cell_type": "markdown",
   "source": [
    "## SVM"
   ],
   "metadata": {
    "collapsed": false
   }
  },
  {
   "cell_type": "code",
   "execution_count": 144,
   "outputs": [],
   "source": [
    "X_train, X_test, y_train, y_test = train_test_split(train_data, train_true_results, test_size=0.3, random_state=109)\n",
    "svm_clf = svm.SVC(kernel='linear', class_weight='balanced')\n",
    "svm_clf.fit(X_train, y_train.values.ravel())\n",
    "y_pred = svm_clf.predict(X_test)"
   ],
   "metadata": {
    "collapsed": false,
    "pycharm": {
     "name": "#%%\n"
    }
   }
  },
  {
   "cell_type": "markdown",
   "source": [
    "### Regular data"
   ],
   "metadata": {
    "collapsed": false
   }
  },
  {
   "cell_type": "code",
   "execution_count": 145,
   "outputs": [
    {
     "name": "stdout",
     "output_type": "stream",
     "text": [
      "Validation balanced accuracy 0.5\n",
      "Training balanced accuracy 1.0\n",
      "\n",
      "Validation roc auc 0.764034720352588\n",
      "Training roc auc 1.0\n",
      "\n",
      "Validation precision 0.0\n",
      "Training precision 1.0\n",
      "\n",
      "Validation recall 0.0\n",
      "Training recall 1.0\n",
      "\n",
      "Validation f1 0.0\n",
      "Training f1 1.0\n",
      "\n"
     ]
    }
   ],
   "source": [
    "svm_model_object = Model(svm_clf, train_data, train_true_results.values.ravel(), test_data, test_true_results, FOLD_NUMBER)\n",
    "svm_model_object.main_cycle()"
   ],
   "metadata": {
    "collapsed": false,
    "pycharm": {
     "name": "#%%\n"
    }
   }
  },
  {
   "cell_type": "code",
   "execution_count": 146,
   "outputs": [
    {
     "name": "stdout",
     "output_type": "stream",
     "text": [
      "Test balanced accuracy 0.5\n",
      "\n",
      "Test roc auc 0.5\n",
      "\n",
      "Test precision 0.0\n",
      "\n",
      "Test recall 0.0\n",
      "\n",
      "Test f1 score 0.0\n"
     ]
    }
   ],
   "source": [
    "svm_model_object.display_test_results()"
   ],
   "metadata": {
    "collapsed": false,
    "pycharm": {
     "name": "#%%\n"
    }
   }
  },
  {
   "cell_type": "markdown",
   "source": [
    "### Scaled data"
   ],
   "metadata": {
    "collapsed": false
   }
  },
  {
   "cell_type": "code",
   "execution_count": 147,
   "outputs": [
    {
     "name": "stdout",
     "output_type": "stream",
     "text": [
      "Validation balanced accuracy 0.6742424242424242\n",
      "Training balanced accuracy 1.0\n",
      "\n",
      "Validation roc auc 0.9588356417082972\n",
      "Training roc auc 1.0\n",
      "\n",
      "Validation precision 1.0\n",
      "Training precision 1.0\n",
      "\n",
      "Validation recall 0.34848484848484845\n",
      "Training recall 1.0\n",
      "\n",
      "Validation f1 0.5019607843137255\n",
      "Training f1 1.0\n",
      "\n"
     ]
    }
   ],
   "source": [
    "svm_model_object = Model(svm_clf, scaled_train_data, train_true_results.values.ravel(), scaled_test_data, test_true_results, FOLD_NUMBER)\n",
    "svm_model_object.main_cycle()"
   ],
   "metadata": {
    "collapsed": false,
    "pycharm": {
     "name": "#%%\n"
    }
   }
  },
  {
   "cell_type": "code",
   "execution_count": 148,
   "outputs": [
    {
     "name": "stdout",
     "output_type": "stream",
     "text": [
      "Test balanced accuracy 0.6105994713055342\n",
      "\n",
      "Test roc auc 0.6105994713055342\n",
      "\n",
      "Test precision 0.6523809523809524\n",
      "\n",
      "Test recall 0.22222222222222224\n",
      "\n",
      "Test f1 score 0.32103386809269163\n"
     ]
    }
   ],
   "source": [
    "svm_model_object.display_test_results()"
   ],
   "metadata": {
    "collapsed": false,
    "pycharm": {
     "name": "#%%\n"
    }
   }
  },
  {
   "cell_type": "markdown",
   "source": [
    "### Cut by max data"
   ],
   "metadata": {
    "collapsed": false
   }
  },
  {
   "cell_type": "code",
   "execution_count": 149,
   "outputs": [
    {
     "name": "stdout",
     "output_type": "stream",
     "text": [
      "Validation balanced accuracy 0.5444511751273843\n",
      "Training balanced accuracy 0.96964461994077\n",
      "\n",
      "Validation roc auc 0.4991698824374047\n",
      "Training roc auc 0.9694854571726971\n",
      "\n",
      "Validation precision 0.0241277384134527\n",
      "Training precision 0.16294121426912034\n",
      "\n",
      "Validation recall 0.1691919191919192\n",
      "Training recall 1.0\n",
      "\n",
      "Validation f1 0.04218657159833631\n",
      "Training f1 0.2795178197064989\n",
      "\n"
     ]
    }
   ],
   "source": [
    "svm_model_object = Model(svm_clf, cut_by_max_train_data, train_true_results.values.ravel(), cut_by_max_test_data, test_true_results, FOLD_NUMBER)\n",
    "svm_model_object.main_cycle()"
   ],
   "metadata": {
    "collapsed": false,
    "pycharm": {
     "name": "#%%\n"
    }
   }
  },
  {
   "cell_type": "code",
   "execution_count": 150,
   "outputs": [
    {
     "name": "stdout",
     "output_type": "stream",
     "text": [
      "Test balanced accuracy 0.6953440777692504\n",
      "\n",
      "Test roc auc 0.6953440777692504\n",
      "\n",
      "Test precision 0.06495364334347385\n",
      "\n",
      "Test recall 0.4666666666666666\n",
      "\n",
      "Test f1 score 0.1139547331497796\n"
     ]
    }
   ],
   "source": [
    "svm_model_object.display_test_results()"
   ],
   "metadata": {
    "collapsed": false,
    "pycharm": {
     "name": "#%%\n"
    }
   }
  },
  {
   "cell_type": "markdown",
   "source": [
    "### Pca reduced + cut by max data"
   ],
   "metadata": {
    "collapsed": false
   }
  },
  {
   "cell_type": "code",
   "execution_count": 151,
   "outputs": [
    {
     "name": "stdout",
     "output_type": "stream",
     "text": [
      "Validation balanced accuracy 0.5478937948088984\n",
      "Training balanced accuracy 0.9355051003619611\n",
      "\n",
      "Validation roc auc 0.39497641768125485\n",
      "Training roc auc 0.9323510546470759\n",
      "\n",
      "Validation precision 0.0185936555060751\n",
      "Training precision 0.08428295055010648\n",
      "\n",
      "Validation recall 0.255050505050505\n",
      "Training recall 1.0\n",
      "\n",
      "Validation f1 0.0345044280094672\n",
      "Training f1 0.1551574039647551\n",
      "\n"
     ]
    }
   ],
   "source": [
    "svm_model_object = Model(svm_clf, pca_reduced_train_data, train_true_results.values.ravel(), pca_reduced_test_data, test_true_results, FOLD_NUMBER)\n",
    "svm_model_object.main_cycle()"
   ],
   "metadata": {
    "collapsed": false,
    "pycharm": {
     "name": "#%%\n"
    }
   }
  },
  {
   "cell_type": "code",
   "execution_count": 152,
   "outputs": [
    {
     "name": "stdout",
     "output_type": "stream",
     "text": [
      "Test balanced accuracy 0.6697450328302209\n",
      "\n",
      "Test roc auc 0.6697450328302209\n",
      "\n",
      "Test precision 0.03858712049217183\n",
      "\n",
      "Test recall 0.48888888888888893\n",
      "\n",
      "Test f1 score 0.07131542407814785\n"
     ]
    }
   ],
   "source": [
    "svm_model_object.display_test_results()\n"
   ],
   "metadata": {
    "collapsed": false,
    "pycharm": {
     "name": "#%%\n"
    }
   }
  },
  {
   "cell_type": "code",
   "execution_count": 152,
   "outputs": [],
   "source": [],
   "metadata": {
    "collapsed": false,
    "pycharm": {
     "name": "#%%\n"
    }
   }
  }
 ],
 "metadata": {
  "kernelspec": {
   "display_name": "Python 3 (ipykernel)",
   "language": "python",
   "name": "python3"
  },
  "language_info": {
   "codemirror_mode": {
    "name": "ipython",
    "version": 3
   },
   "file_extension": ".py",
   "mimetype": "text/x-python",
   "name": "python",
   "nbconvert_exporter": "python",
   "pygments_lexer": "ipython3",
   "version": "3.10.0"
  }
 },
 "nbformat": 4,
 "nbformat_minor": 1
}