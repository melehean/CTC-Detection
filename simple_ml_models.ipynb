{
 "cells": [
  {
   "cell_type": "code",
   "execution_count": 10,
   "metadata": {
    "pycharm": {
     "name": "#%%\n"
    }
   },
   "outputs": [],
   "source": [
    "from data import Data\n",
    "from dimension_reduction import PCADimensionReduction\n",
    "from simple_ml_models import Model\n",
    "\n",
    "from xgboost import XGBClassifier\n",
    "from sklearn.ensemble import IsolationForest\n",
    "from sklearn.neighbors import KNeighborsClassifier"
   ]
  },
  {
   "cell_type": "code",
   "execution_count": 11,
   "metadata": {
    "pycharm": {
     "name": "#%%\n"
    }
   },
   "outputs": [],
   "source": [
    "# You can test the other datasets by changing these file names\n",
    "data_filepath = \"data/SC_integration/counts_ctc_simulated_123_5k.tsv\"\n",
    "true_results_filepath = \"data/SC_integration/ids_ctc_simulated_123_5k.tsv\"\n",
    "train_indices_filepath = \"data/SC_integration/train_indices.npy\"\n",
    "test_indices_filepath = \"data/SC_integration/test_indices.npy\"\n",
    "SEED = 42\n",
    "FOLD_NUMBER = 3\n",
    "\n",
    "# You can change these values to work better for models\n",
    "CUT_BY_MAX_THRESHOLD = 4\n",
    "PCA_VARIABLES_AMOUNT = 60\n",
    "\n",
    "# There are 4 data variants to check: regular, scaled, cut by max, pca reduced + cut by max\n",
    "data_object = Data(data_filepath, true_results_filepath)\n",
    "train_data, test_data, train_true_results, test_true_results =  data_object.load_train_test_split(train_indices_filepath, test_indices_filepath)\n",
    "scaled_train_data, scaled_test_data = data_object.get_scaled_train_test_data()"
   ]
  },
  {
   "cell_type": "code",
   "execution_count": 12,
   "metadata": {
    "pycharm": {
     "name": "#%%\n"
    }
   },
   "outputs": [],
   "source": [
    "cut_by_max_train_data, cut_by_max_test_data = data_object.get_cut_by_max_train_test_data(CUT_BY_MAX_THRESHOLD)\n",
    "\n",
    "pca_object = PCADimensionReduction(cut_by_max_train_data, scaled_train_data, train_true_results, SEED)\n",
    "pca_variables = pca_object.get_most_important_variables_from_pc1(PCA_VARIABLES_AMOUNT)\n",
    "pca_reduced_train_data = cut_by_max_train_data[pca_variables.index]\n",
    "pca_reduced_test_data = cut_by_max_test_data[pca_variables.index]"
   ]
  },
  {
   "cell_type": "markdown",
   "metadata": {
    "pycharm": {
     "name": "#%% md\n"
    }
   },
   "source": [
    "## XGBoost"
   ]
  },
  {
   "cell_type": "code",
   "execution_count": 4,
   "metadata": {
    "pycharm": {
     "name": "#%%\n"
    }
   },
   "outputs": [],
   "source": [
    "# not sure about parameters\n",
    "# needs to be fixed\n",
    "xgb_clf = XGBClassifier(booster='gbtree', # tree-based model\n",
    "                        eta = 0.2,\n",
    "                        min_child_weight=1,\n",
    "                        max_depth=5,\n",
    "                        gamma=0.5\n",
    "                       )"
   ]
  },
  {
   "cell_type": "markdown",
   "metadata": {
    "pycharm": {
     "name": "#%% md\n"
    }
   },
   "source": [
    "### Regular data"
   ]
  },
  {
   "cell_type": "code",
   "execution_count": 5,
   "metadata": {
    "pycharm": {
     "name": "#%%\n"
    }
   },
   "outputs": [
    {
     "name": "stdout",
     "output_type": "stream",
     "text": [
      "Validation balanced accuracy 0.8434343434343434\n",
      "Training balanced accuracy 1.0\n",
      "\n",
      "Validation roc auc 1.0\n",
      "Training roc auc 1.0\n",
      "\n",
      "Validation precision 1.0\n",
      "Training precision 1.0\n",
      "\n",
      "Validation recall 0.6868686868686869\n",
      "Training recall 1.0\n",
      "\n",
      "Validation f1 0.81203007518797\n",
      "Training f1 1.0\n",
      "\n"
     ]
    }
   ],
   "source": [
    "xgboost_model_object = Model(xgb_clf, train_data, train_true_results, test_data, test_true_results, FOLD_NUMBER)\n",
    "xgboost_model_object.main_cycle()"
   ]
  },
  {
   "cell_type": "code",
   "execution_count": 6,
   "metadata": {
    "pycharm": {
     "name": "#%%\n"
    }
   },
   "outputs": [
    {
     "name": "stdout",
     "output_type": "stream",
     "text": [
      "Test balanced accuracy 0.9222222222222222\n",
      "\n",
      "Test roc auc 0.9222222222222222\n",
      "\n",
      "Test precision 1.0\n",
      "\n",
      "Test recall 0.8444444444444444\n",
      "\n",
      "Test f1 score 0.9116809116809117\n"
     ]
    }
   ],
   "source": [
    "xgboost_model_object.display_test_results()"
   ]
  },
  {
   "cell_type": "markdown",
   "metadata": {
    "pycharm": {
     "name": "#%% md\n"
    }
   },
   "source": [
    "### Scaled data"
   ]
  },
  {
   "cell_type": "code",
   "execution_count": 7,
   "metadata": {
    "pycharm": {
     "name": "#%%\n"
    }
   },
   "outputs": [
    {
     "name": "stdout",
     "output_type": "stream",
     "text": [
      "Validation balanced accuracy 0.8434343434343434\n",
      "Training balanced accuracy 1.0\n",
      "\n",
      "Validation roc auc 1.0\n",
      "Training roc auc 1.0\n",
      "\n",
      "Validation precision 1.0\n",
      "Training precision 1.0\n",
      "\n",
      "Validation recall 0.6868686868686869\n",
      "Training recall 1.0\n",
      "\n",
      "Validation f1 0.81203007518797\n",
      "Training f1 1.0\n",
      "\n"
     ]
    }
   ],
   "source": [
    "xgboost_model_object = Model(xgb_clf, scaled_train_data, train_true_results, scaled_test_data, test_true_results, FOLD_NUMBER)\n",
    "xgboost_model_object.main_cycle()"
   ]
  },
  {
   "cell_type": "code",
   "execution_count": 8,
   "metadata": {
    "pycharm": {
     "name": "#%%\n"
    }
   },
   "outputs": [
    {
     "name": "stdout",
     "output_type": "stream",
     "text": [
      "Test balanced accuracy 0.9222222222222222\n",
      "\n",
      "Test roc auc 0.9222222222222222\n",
      "\n",
      "Test precision 1.0\n",
      "\n",
      "Test recall 0.8444444444444444\n",
      "\n",
      "Test f1 score 0.9116809116809117\n"
     ]
    }
   ],
   "source": [
    "xgboost_model_object.display_test_results()"
   ]
  },
  {
   "cell_type": "markdown",
   "metadata": {
    "pycharm": {
     "name": "#%% md\n"
    }
   },
   "source": [
    "### Cut by max data"
   ]
  },
  {
   "cell_type": "code",
   "execution_count": 9,
   "metadata": {
    "pycharm": {
     "name": "#%%\n"
    }
   },
   "outputs": [
    {
     "name": "stdout",
     "output_type": "stream",
     "text": [
      "Validation balanced accuracy 0.9583333333333334\n",
      "Training balanced accuracy 1.0\n",
      "\n",
      "Validation roc auc 1.0\n",
      "Training roc auc 1.0\n",
      "\n",
      "Validation precision 1.0\n",
      "Training precision 1.0\n",
      "\n",
      "Validation recall 0.9166666666666666\n",
      "Training recall 1.0\n",
      "\n",
      "Validation f1 0.9552042160737813\n",
      "Training f1 1.0\n",
      "\n"
     ]
    }
   ],
   "source": [
    "xgboost_model_object = Model(xgb_clf, cut_by_max_train_data, train_true_results, cut_by_max_test_data, test_true_results, FOLD_NUMBER)\n",
    "xgboost_model_object.main_cycle()"
   ]
  },
  {
   "cell_type": "code",
   "execution_count": 10,
   "metadata": {
    "pycharm": {
     "name": "#%%\n"
    }
   },
   "outputs": [
    {
     "name": "stdout",
     "output_type": "stream",
     "text": [
      "Test balanced accuracy 0.9777777777777779\n",
      "\n",
      "Test roc auc 0.9777777777777779\n",
      "\n",
      "Test precision 1.0\n",
      "\n",
      "Test recall 0.9555555555555556\n",
      "\n",
      "Test f1 score 0.9770114942528737\n"
     ]
    }
   ],
   "source": [
    "xgboost_model_object.display_test_results()"
   ]
  },
  {
   "cell_type": "markdown",
   "metadata": {
    "pycharm": {
     "name": "#%% md\n"
    }
   },
   "source": [
    "### Pca reduced + cut by max data"
   ]
  },
  {
   "cell_type": "code",
   "execution_count": 11,
   "metadata": {
    "pycharm": {
     "name": "#%%\n"
    }
   },
   "outputs": [
    {
     "name": "stdout",
     "output_type": "stream",
     "text": [
      "Validation balanced accuracy 0.970959595959596\n",
      "Training balanced accuracy 1.0\n",
      "\n",
      "Validation roc auc 0.9999725786991335\n",
      "Training roc auc 1.0\n",
      "\n",
      "Validation precision 1.0\n",
      "Training precision 1.0\n",
      "\n",
      "Validation recall 0.9419191919191919\n",
      "Training recall 1.0\n",
      "\n",
      "Validation f1 0.9696342305037957\n",
      "Training f1 1.0\n",
      "\n"
     ]
    }
   ],
   "source": [
    "xgboost_model_object = Model(xgb_clf, pca_reduced_train_data, train_true_results, pca_reduced_test_data, test_true_results, FOLD_NUMBER)\n",
    "xgboost_model_object.main_cycle()"
   ]
  },
  {
   "cell_type": "code",
   "execution_count": 12,
   "metadata": {
    "pycharm": {
     "name": "#%%\n"
    }
   },
   "outputs": [
    {
     "name": "stdout",
     "output_type": "stream",
     "text": [
      "Test balanced accuracy 1.0\n",
      "\n",
      "Test roc auc 1.0\n",
      "\n",
      "Test precision 1.0\n",
      "\n",
      "Test recall 1.0\n",
      "\n",
      "Test f1 score 1.0\n"
     ]
    }
   ],
   "source": [
    "xgboost_model_object.display_test_results()"
   ]
  },
  {
   "cell_type": "markdown",
   "source": [
    "## K-nearest neighbors"
   ],
   "metadata": {
    "collapsed": false,
    "pycharm": {
     "name": "#%% md\n"
    }
   }
  },
  {
   "cell_type": "markdown",
   "source": [
    "KNN provides four search algorithms: 'ball_tree', 'kd_tree', 'brute' and 'auto' (the algorithm attempts to determine the best approach from the training data) and two weight types: 'uniform' (default value) and 'distance' (it generated better results than 'uniform' for above data). KNN did not turn out to be a sufficient model for the problem."
   ],
   "metadata": {
    "collapsed": false,
    "pycharm": {
     "name": "#%% md\n"
    }
   }
  },
  {
   "cell_type": "markdown",
   "source": [
    "### KNN regular data"
   ],
   "metadata": {
    "collapsed": false,
    "pycharm": {
     "name": "#%% md\n"
    }
   }
  },
  {
   "cell_type": "markdown",
   "source": [
    "Precision and recall for regular data were 0.0 for all algorithm and weight types."
   ],
   "metadata": {
    "collapsed": false,
    "pycharm": {
     "name": "#%% md\n"
    }
   }
  },
  {
   "cell_type": "code",
   "execution_count": 13,
   "outputs": [
    {
     "name": "stdout",
     "output_type": "stream",
     "text": [
      "Validation balanced accuracy 0.5\n",
      "Training balanced accuracy 1.0\n",
      "\n",
      "Validation roc auc 0.5\n",
      "Training roc auc 1.0\n",
      "\n",
      "Validation precision 0.0\n",
      "Training precision 1.0\n",
      "\n",
      "Validation recall 0.0\n",
      "Training recall 1.0\n",
      "\n",
      "Validation f1 0.0\n",
      "Training f1 1.0\n",
      "\n"
     ]
    }
   ],
   "source": [
    "import warnings\n",
    "warnings.filterwarnings('ignore')\n",
    "\n",
    "knn = KNeighborsClassifier(n_neighbors=5, algorithm='kd_tree', weights='distance')\n",
    "knn_model = Model(knn, train_data, train_true_results, test_data, test_true_results, FOLD_NUMBER)\n",
    "knn_model.main_cycle()"
   ],
   "metadata": {
    "collapsed": false,
    "pycharm": {
     "name": "#%%\n"
    }
   }
  },
  {
   "cell_type": "code",
   "execution_count": 14,
   "outputs": [
    {
     "name": "stdout",
     "output_type": "stream",
     "text": [
      "Test balanced accuracy 0.5\n",
      "\n",
      "Test roc auc 0.5\n",
      "\n",
      "Test precision 0.0\n",
      "\n",
      "Test recall 0.0\n",
      "\n",
      "Test f1 score 0.0\n"
     ]
    }
   ],
   "source": [
    "knn_model.display_test_results()"
   ],
   "metadata": {
    "collapsed": false,
    "pycharm": {
     "name": "#%%\n"
    }
   }
  },
  {
   "cell_type": "markdown",
   "source": [
    "### KNN Scaled data"
   ],
   "metadata": {
    "collapsed": false,
    "pycharm": {
     "name": "#%% md\n"
    }
   }
  },
  {
   "cell_type": "code",
   "execution_count": 15,
   "outputs": [
    {
     "name": "stdout",
     "output_type": "stream",
     "text": [
      "Validation balanced accuracy 0.5\n",
      "Training balanced accuracy 1.0\n",
      "\n",
      "Validation roc auc 0.5\n",
      "Training roc auc 1.0\n",
      "\n",
      "Validation precision 0.0\n",
      "Training precision 1.0\n",
      "\n",
      "Validation recall 0.0\n",
      "Training recall 1.0\n",
      "\n",
      "Validation f1 0.0\n",
      "Training f1 1.0\n",
      "\n"
     ]
    }
   ],
   "source": [
    "knn = KNeighborsClassifier(n_neighbors=5, algorithm='kd_tree', weights='distance')\n",
    "knn_model = Model(knn, scaled_train_data, train_true_results, scaled_test_data, test_true_results, FOLD_NUMBER)\n",
    "knn_model.main_cycle()"
   ],
   "metadata": {
    "collapsed": false,
    "pycharm": {
     "name": "#%%\n"
    }
   }
  },
  {
   "cell_type": "code",
   "execution_count": 16,
   "outputs": [
    {
     "name": "stdout",
     "output_type": "stream",
     "text": [
      "Test balanced accuracy 0.5\n",
      "\n",
      "Test roc auc 0.5\n",
      "\n",
      "Test precision 0.0\n",
      "\n",
      "Test recall 0.0\n",
      "\n",
      "Test f1 score 0.0\n"
     ]
    }
   ],
   "source": [
    "knn_model.display_test_results()"
   ],
   "metadata": {
    "collapsed": false,
    "pycharm": {
     "name": "#%%\n"
    }
   }
  },
  {
   "cell_type": "markdown",
   "source": [
    "### KNN Cut by max data"
   ],
   "metadata": {
    "collapsed": false,
    "pycharm": {
     "name": "#%% md\n"
    }
   }
  },
  {
   "cell_type": "code",
   "execution_count": 17,
   "outputs": [
    {
     "name": "stdout",
     "output_type": "stream",
     "text": [
      "Validation balanced accuracy 0.5\n",
      "Training balanced accuracy 1.0\n",
      "\n",
      "Validation roc auc 0.6688927777279208\n",
      "Training roc auc 1.0\n",
      "\n",
      "Validation precision 0.0\n",
      "Training precision 1.0\n",
      "\n",
      "Validation recall 0.0\n",
      "Training recall 1.0\n",
      "\n",
      "Validation f1 0.0\n",
      "Training f1 1.0\n",
      "\n"
     ]
    }
   ],
   "source": [
    "knn = KNeighborsClassifier(n_neighbors=5, algorithm='kd_tree', weights='distance')\n",
    "knn_model = Model(knn, cut_by_max_train_data, train_true_results, cut_by_max_test_data, test_true_results, FOLD_NUMBER)\n",
    "knn_model.main_cycle()"
   ],
   "metadata": {
    "collapsed": false,
    "pycharm": {
     "name": "#%%\n"
    }
   }
  },
  {
   "cell_type": "code",
   "execution_count": 18,
   "outputs": [
    {
     "name": "stdout",
     "output_type": "stream",
     "text": [
      "Test balanced accuracy 0.5222222222222223\n",
      "\n",
      "Test roc auc 0.5222222222222223\n",
      "\n",
      "Test precision 0.6666666666666666\n",
      "\n",
      "Test recall 0.044444444444444446\n",
      "\n",
      "Test f1 score 0.08333333333333333\n"
     ]
    }
   ],
   "source": [
    "knn_model.display_test_results()"
   ],
   "metadata": {
    "collapsed": false,
    "pycharm": {
     "name": "#%%\n"
    }
   }
  },
  {
   "cell_type": "markdown",
   "source": [
    "### KNN PCA reduced + cut by max data"
   ],
   "metadata": {
    "collapsed": false,
    "pycharm": {
     "name": "#%% md\n"
    }
   }
  },
  {
   "cell_type": "markdown",
   "source": [
    "This is the only data where validation precision and recall have values other than zero but still less than 0.5. Therefore, those results are not acceptable."
   ],
   "metadata": {
    "collapsed": false,
    "pycharm": {
     "name": "#%% md\n"
    }
   }
  },
  {
   "cell_type": "code",
   "execution_count": 19,
   "outputs": [
    {
     "name": "stdout",
     "output_type": "stream",
     "text": [
      "Validation balanced accuracy 0.5151515151515151\n",
      "Training balanced accuracy 1.0\n",
      "\n",
      "Validation roc auc 0.6839046935295702\n",
      "Training roc auc 1.0\n",
      "\n",
      "Validation precision 0.3333333333333333\n",
      "Training precision 1.0\n",
      "\n",
      "Validation recall 0.030303030303030304\n",
      "Training recall 1.0\n",
      "\n",
      "Validation f1 0.05555555555555556\n",
      "Training f1 1.0\n",
      "\n"
     ]
    }
   ],
   "source": [
    "knn = KNeighborsClassifier(n_neighbors=5, algorithm='ball_tree', weights='distance')\n",
    "knn_model = Model(knn, pca_reduced_train_data, train_true_results, pca_reduced_test_data, test_true_results, FOLD_NUMBER)\n",
    "knn_model.main_cycle()"
   ],
   "metadata": {
    "collapsed": false,
    "pycharm": {
     "name": "#%%\n"
    }
   }
  },
  {
   "cell_type": "code",
   "execution_count": 20,
   "outputs": [
    {
     "name": "stdout",
     "output_type": "stream",
     "text": [
      "Test balanced accuracy 0.5555555555555555\n",
      "\n",
      "Test roc auc 0.5555555555555555\n",
      "\n",
      "Test precision 1.0\n",
      "\n",
      "Test recall 0.1111111111111111\n",
      "\n",
      "Test f1 score 0.19444444444444445\n"
     ]
    }
   ],
   "source": [
    "knn_model.display_test_results()"
   ],
   "metadata": {
    "collapsed": false,
    "pycharm": {
     "name": "#%%\n"
    }
   }
  },
  {
   "cell_type": "markdown",
   "source": [
    "## Isolation Forest"
   ],
   "metadata": {
    "collapsed": false,
    "pycharm": {
     "name": "#%% md\n"
    }
   }
  },
  {
   "cell_type": "code",
   "execution_count": 234,
   "outputs": [],
   "source": [
    "isolation_forest = IsolationForest(max_features=1, n_estimators=1000, bootstrap=True, max_samples=1000, n_jobs=12, random_state=SEED)"
   ],
   "metadata": {
    "collapsed": false,
    "pycharm": {
     "name": "#%%\n"
    }
   }
  },
  {
   "cell_type": "markdown",
   "source": [
    "### Regular data"
   ],
   "metadata": {
    "collapsed": false,
    "pycharm": {
     "name": "#%% md\n"
    }
   }
  },
  {
   "cell_type": "code",
   "execution_count": 235,
   "outputs": [
    {
     "name": "stdout",
     "output_type": "stream",
     "text": [
      "Validation balanced accuracy 1.0\n",
      "Training balanced accuracy 1.0\n",
      "\n",
      "Validation roc auc 1.0\n",
      "Training roc auc 1.0\n",
      "\n",
      "Validation precision 1.0\n",
      "Training precision 1.0\n",
      "\n",
      "Validation recall 1.0\n",
      "Training recall 1.0\n",
      "\n",
      "Validation f1 1.0\n",
      "Training f1 1.0\n",
      "\n"
     ]
    }
   ],
   "source": [
    "isolation_forest_model_object = Model(isolation_forest, train_data, train_true_results, test_data, test_true_results, FOLD_NUMBER, minus_one_one_values=True)\n",
    "isolation_forest_model_object.main_cycle()"
   ],
   "metadata": {
    "collapsed": false,
    "pycharm": {
     "name": "#%%\n"
    }
   }
  },
  {
   "cell_type": "code",
   "execution_count": 236,
   "outputs": [
    {
     "name": "stdout",
     "output_type": "stream",
     "text": [
      "Test balanced accuracy 1.0\n",
      "\n",
      "Test roc auc 1.0\n",
      "\n",
      "Test precision 1.0\n",
      "\n",
      "Test recall 1.0\n",
      "\n",
      "Test f1 score 1.0\n"
     ]
    }
   ],
   "source": [
    "isolation_forest_model_object.display_test_results()"
   ],
   "metadata": {
    "collapsed": false,
    "pycharm": {
     "name": "#%%\n"
    }
   }
  },
  {
   "cell_type": "markdown",
   "source": [
    "### Scaled data"
   ],
   "metadata": {
    "collapsed": false,
    "pycharm": {
     "name": "#%% md\n"
    }
   }
  },
  {
   "cell_type": "code",
   "execution_count": 237,
   "outputs": [
    {
     "name": "stdout",
     "output_type": "stream",
     "text": [
      "Validation balanced accuracy 1.0\n",
      "Training balanced accuracy 1.0\n",
      "\n",
      "Validation roc auc 1.0\n",
      "Training roc auc 1.0\n",
      "\n",
      "Validation precision 1.0\n",
      "Training precision 1.0\n",
      "\n",
      "Validation recall 1.0\n",
      "Training recall 1.0\n",
      "\n",
      "Validation f1 1.0\n",
      "Training f1 1.0\n",
      "\n"
     ]
    }
   ],
   "source": [
    "isolation_forest_model_object = Model(isolation_forest, scaled_train_data, train_true_results, scaled_test_data, test_true_results, FOLD_NUMBER, minus_one_one_values=True)\n",
    "isolation_forest_model_object.main_cycle()"
   ],
   "metadata": {
    "collapsed": false,
    "pycharm": {
     "name": "#%%\n"
    }
   }
  },
  {
   "cell_type": "code",
   "execution_count": 238,
   "outputs": [
    {
     "name": "stdout",
     "output_type": "stream",
     "text": [
      "Test balanced accuracy 1.0\n",
      "\n",
      "Test roc auc 1.0\n",
      "\n",
      "Test precision 1.0\n",
      "\n",
      "Test recall 1.0\n",
      "\n",
      "Test f1 score 1.0\n"
     ]
    }
   ],
   "source": [
    "isolation_forest_model_object.display_test_results()"
   ],
   "metadata": {
    "collapsed": false,
    "pycharm": {
     "name": "#%%\n"
    }
   }
  },
  {
   "cell_type": "markdown",
   "source": [
    "### Cut by max data"
   ],
   "metadata": {
    "collapsed": false,
    "pycharm": {
     "name": "#%% md\n"
    }
   }
  },
  {
   "cell_type": "code",
   "execution_count": 239,
   "outputs": [
    {
     "name": "stdout",
     "output_type": "stream",
     "text": [
      "Validation balanced accuracy 0.9861638262523312\n",
      "Training balanced accuracy 0.9897208546474147\n",
      "\n",
      "Validation roc auc 0.9999481131545108\n",
      "Training roc auc 0.9999690230734117\n",
      "\n",
      "Validation precision 1.0\n",
      "Training precision 1.0\n",
      "\n",
      "Validation recall 0.9723276525046622\n",
      "Training recall 0.9794417092948294\n",
      "\n",
      "Validation f1 0.9859117316625624\n",
      "Training f1 0.9895972343546561\n",
      "\n"
     ]
    }
   ],
   "source": [
    "isolation_forest_model_object = Model(isolation_forest, cut_by_max_train_data, train_true_results, cut_by_max_test_data, test_true_results, FOLD_NUMBER, minus_one_one_values=True)\n",
    "isolation_forest_model_object.main_cycle()"
   ],
   "metadata": {
    "collapsed": false,
    "pycharm": {
     "name": "#%%\n"
    }
   }
  },
  {
   "cell_type": "code",
   "execution_count": 240,
   "outputs": [
    {
     "name": "stdout",
     "output_type": "stream",
     "text": [
      "Test balanced accuracy 0.9809414172422614\n",
      "\n",
      "Test roc auc 0.9809414172422614\n",
      "\n",
      "Test precision 1.0\n",
      "\n",
      "Test recall 0.9618828344845229\n",
      "\n",
      "Test f1 score 0.9805246975324273\n"
     ]
    }
   ],
   "source": [
    "isolation_forest_model_object.display_test_results()"
   ],
   "metadata": {
    "collapsed": false,
    "pycharm": {
     "name": "#%%\n"
    }
   }
  },
  {
   "cell_type": "markdown",
   "source": [
    "### Pca reduced + cut by max data"
   ],
   "metadata": {
    "collapsed": false,
    "pycharm": {
     "name": "#%% md\n"
    }
   }
  },
  {
   "cell_type": "code",
   "execution_count": 241,
   "outputs": [
    {
     "name": "stdout",
     "output_type": "stream",
     "text": [
      "Validation balanced accuracy 0.9568658687654407\n",
      "Training balanced accuracy 0.9690732823930205\n",
      "\n",
      "Validation roc auc 0.9998971359714065\n",
      "Training roc auc 0.9999106113045735\n",
      "\n",
      "Validation precision 1.0\n",
      "Training precision 1.0\n",
      "\n",
      "Validation recall 0.9137317375308814\n",
      "Training recall 0.9381465647860412\n",
      "\n",
      "Validation f1 0.9547187918412904\n",
      "Training f1 0.9680664905338991\n",
      "\n"
     ]
    }
   ],
   "source": [
    "isolation_forest_model_object = Model(isolation_forest, pca_reduced_train_data, train_true_results, pca_reduced_test_data, test_true_results, FOLD_NUMBER, minus_one_one_values=True)\n",
    "isolation_forest_model_object.main_cycle()"
   ],
   "metadata": {
    "collapsed": false,
    "pycharm": {
     "name": "#%%\n"
    }
   }
  },
  {
   "cell_type": "code",
   "execution_count": 242,
   "outputs": [
    {
     "name": "stdout",
     "output_type": "stream",
     "text": [
      "Test balanced accuracy 0.9556152468662061\n",
      "\n",
      "Test roc auc 0.9556152468662061\n",
      "\n",
      "Test precision 1.0\n",
      "\n",
      "Test recall 0.9112304937324124\n",
      "\n",
      "Test f1 score 0.9534893621271526\n"
     ]
    }
   ],
   "source": [
    "isolation_forest_model_object.display_test_results()"
   ],
   "metadata": {
    "collapsed": false,
    "pycharm": {
     "name": "#%%\n"
    }
   }
  }
 ],
 "metadata": {
  "kernelspec": {
   "display_name": "Python 3 (ipykernel)",
   "language": "python",
   "name": "python3"
  },
  "language_info": {
   "codemirror_mode": {
    "name": "ipython",
    "version": 3
   },
   "file_extension": ".py",
   "mimetype": "text/x-python",
   "name": "python",
   "nbconvert_exporter": "python",
   "pygments_lexer": "ipython3",
   "version": "3.9.7"
  }
 },
 "nbformat": 4,
 "nbformat_minor": 1
}