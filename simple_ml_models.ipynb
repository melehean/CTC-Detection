{
 "cells": [
  {
   "cell_type": "code",
   "execution_count": 1,
   "metadata": {},
   "outputs": [
    {
     "name": "stderr",
     "output_type": "stream",
     "text": [
      "2022-12-28 00:23:57.501091: I tensorflow/core/platform/cpu_feature_guard.cc:193] This TensorFlow binary is optimized with oneAPI Deep Neural Network Library (oneDNN) to use the following CPU instructions in performance-critical operations:  SSE4.1 SSE4.2 AVX AVX2 FMA\n",
      "To enable them in other operations, rebuild TensorFlow with the appropriate compiler flags.\n"
     ]
    }
   ],
   "source": [
    "from data import Data\n",
    "from dimension_reduction import PCADimensionReduction\n",
    "from simple_ml_models import Model\n",
    "\n",
    "from sklearn.linear_model import LogisticRegression\n",
    "from xgboost import XGBClassifier\n",
    "from lightgbm import LGBMClassifier\n",
    "from sklearn.ensemble import IsolationForest, RandomForestClassifier\n",
    "from sklearn.neighbors import KNeighborsClassifier\n",
    "\n",
    "from sklearn import svm\n",
    "from sklearn.model_selection import train_test_split\n",
    "from imblearn.ensemble import BalancedRandomForestClassifier\n",
    "\n",
    "import warnings\n",
    "warnings.filterwarnings('ignore')"
   ]
  },
  {
   "cell_type": "code",
   "execution_count": 2,
   "metadata": {},
   "outputs": [],
   "source": [
    "# You can test the other datasets by changing these file names\n",
    "data_filepath = \"data/SC_integration/counts_ctc_simulated_123_5k.tsv\"\n",
    "true_results_filepath = \"data/SC_integration/ids_ctc_simulated_123_5k.tsv\"\n",
    "train_indices_filepath = \"data/SC_integration/train_indices.npy\"\n",
    "test_indices_filepath = \"data/SC_integration/test_indices.npy\"\n",
    "SEED = 42\n",
    "FOLD_NUMBER = 3\n",
    "\n",
    "# You can change these values to work better for models\n",
    "CUT_BY_MAX_THRESHOLD = 4\n",
    "PCA_VARIABLES_AMOUNT = 60\n",
    "\n",
    "# There are 4 data variants to check: regular, scaled, cut by max, pca reduced + cut by max\n",
    "data_object = Data(data_filepath, true_results_filepath)\n",
    "#data_object.generate_train_test_split() #generate train and test split indices' files in the main folder\n",
    "train_data, test_data, train_true_results, test_true_results =  data_object.load_train_test_split(train_indices_filepath, test_indices_filepath)\n",
    "scaled_train_data, scaled_test_data = data_object.get_scaled_train_test_data()"
   ]
  },
  {
   "cell_type": "code",
   "execution_count": 3,
   "metadata": {},
   "outputs": [],
   "source": [
    "cut_by_max_train_data, cut_by_max_test_data = data_object.get_cut_by_max_train_test_data(CUT_BY_MAX_THRESHOLD)\n",
    "\n",
    "pca_object = PCADimensionReduction(cut_by_max_train_data, scaled_train_data, train_true_results, SEED)\n",
    "pca_variables = pca_object.get_most_important_variables_from_pc1(PCA_VARIABLES_AMOUNT)\n",
    "pca_reduced_train_data = cut_by_max_train_data[pca_variables.index]\n",
    "pca_reduced_test_data = cut_by_max_test_data[pca_variables.index]"
   ]
  },
  {
   "cell_type": "markdown",
   "metadata": {},
   "source": [
    "## Logistic Regression"
   ]
  },
  {
   "cell_type": "markdown",
   "metadata": {},
   "source": [
    "### Regular data"
   ]
  },
  {
   "cell_type": "code",
   "execution_count": 4,
   "metadata": {},
   "outputs": [],
   "source": [
    "log_clf = LogisticRegression(random_state=SEED, class_weight='balanced', penalty='l1', C=50,\n",
    "                                 solver='liblinear')\n",
    "logistic_regression_model_object = Model(log_clf, train_data, train_true_results, test_data, test_true_results, FOLD_NUMBER)\n",
    "logistic_regression_model_object.main_cycle()"
   ]
  },
  {
   "cell_type": "code",
   "execution_count": 5,
   "metadata": {
    "scrolled": true
   },
   "outputs": [
    {
     "name": "stdout",
     "output_type": "stream",
     "text": [
      "Test balanced accuracy 0.622094312270828\n",
      "\n",
      "Test roc auc 0.5923936215570904\n",
      "\n",
      "Test precision 0.8888888888888888\n",
      "\n",
      "Test recall 0.24444444444444446\n",
      "\n",
      "Test f1 score 0.37566137566137564\n"
     ]
    }
   ],
   "source": [
    "logistic_regression_model_object.display_test_results()"
   ]
  },
  {
   "cell_type": "markdown",
   "metadata": {},
   "source": [
    "### Scaled data"
   ]
  },
  {
   "cell_type": "code",
   "execution_count": 6,
   "metadata": {
    "scrolled": true
   },
   "outputs": [],
   "source": [
    "log_clf = LogisticRegression(random_state=SEED, class_weight='balanced', penalty='l1', C=0.0005,\n",
    "                                 solver='liblinear')\n",
    "logistic_regression_model_object = Model(log_clf, scaled_train_data, train_true_results, scaled_test_data, test_true_results, FOLD_NUMBER)\n",
    "logistic_regression_model_object.main_cycle()"
   ]
  },
  {
   "cell_type": "code",
   "execution_count": 7,
   "metadata": {
    "scrolled": true
   },
   "outputs": [
    {
     "name": "stdout",
     "output_type": "stream",
     "text": [
      "Test balanced accuracy 0.9666666666666667\n",
      "\n",
      "Test roc auc 0.9334186066342628\n",
      "\n",
      "Test precision 1.0\n",
      "\n",
      "Test recall 0.9333333333333332\n",
      "\n",
      "Test f1 score 0.9655172413793104\n"
     ]
    }
   ],
   "source": [
    "logistic_regression_model_object.display_test_results()"
   ]
  },
  {
   "cell_type": "markdown",
   "metadata": {},
   "source": [
    "### Cut by max data"
   ]
  },
  {
   "cell_type": "code",
   "execution_count": 8,
   "metadata": {},
   "outputs": [],
   "source": [
    "log_clf = LogisticRegression(random_state=SEED, class_weight='balanced', penalty='l1', C=50,\n",
    "                                 solver='liblinear')\n",
    "logistic_regression_model_object = Model(log_clf, cut_by_max_train_data, train_true_results, cut_by_max_test_data, test_true_results, FOLD_NUMBER)\n",
    "logistic_regression_model_object.main_cycle()"
   ]
  },
  {
   "cell_type": "code",
   "execution_count": 9,
   "metadata": {
    "scrolled": true
   },
   "outputs": [
    {
     "name": "stdout",
     "output_type": "stream",
     "text": [
      "Test balanced accuracy 0.663161933998465\n",
      "\n",
      "Test roc auc 0.7018845399505415\n",
      "\n",
      "Test precision 0.05925925925925926\n",
      "\n",
      "Test recall 0.4000000000000001\n",
      "\n",
      "Test f1 score 0.10293819655521781\n"
     ]
    }
   ],
   "source": [
    "logistic_regression_model_object.display_test_results()"
   ]
  },
  {
   "cell_type": "markdown",
   "metadata": {},
   "source": [
    "### Pca reduced + cut by max data"
   ]
  },
  {
   "cell_type": "code",
   "execution_count": 10,
   "metadata": {},
   "outputs": [],
   "source": [
    "log_clf = LogisticRegression(random_state=SEED, class_weight='balanced', penalty='l1', C=50,\n",
    "                                 solver='liblinear')\n",
    "logistic_regression_model_object = Model(log_clf, pca_reduced_train_data, train_true_results, pca_reduced_test_data, test_true_results, FOLD_NUMBER)\n",
    "logistic_regression_model_object.main_cycle()"
   ]
  },
  {
   "cell_type": "code",
   "execution_count": 11,
   "metadata": {
    "scrolled": true
   },
   "outputs": [
    {
     "name": "stdout",
     "output_type": "stream",
     "text": [
      "Test balanced accuracy 0.6735823313720474\n",
      "\n",
      "Test roc auc 0.7002814018930673\n",
      "\n",
      "Test precision 0.039240962195023654\n",
      "\n",
      "Test recall 0.48888888888888893\n",
      "\n",
      "Test f1 score 0.07246937747523302\n"
     ]
    }
   ],
   "source": [
    "logistic_regression_model_object.display_test_results()"
   ]
  },
  {
   "cell_type": "markdown",
   "metadata": {},
   "source": [
    "## XGBoost"
   ]
  },
  {
   "cell_type": "code",
   "execution_count": 12,
   "metadata": {},
   "outputs": [],
   "source": [
    "# not sure about parameters\n",
    "# needs to be fixed\n",
    "xgb_clf = XGBClassifier(booster='gbtree', # tree-based model\n",
    "                        eta = 0.2,\n",
    "                        min_child_weight=1,\n",
    "                        max_depth=5,\n",
    "                        gamma=0.5,\n",
    "                        random_state=SEED)"
   ]
  },
  {
   "cell_type": "markdown",
   "metadata": {},
   "source": [
    "### Regular data"
   ]
  },
  {
   "cell_type": "code",
   "execution_count": 13,
   "metadata": {},
   "outputs": [],
   "source": [
    "xgboost_model_object = Model(xgb_clf, train_data, train_true_results, test_data, test_true_results, FOLD_NUMBER)\n",
    "xgboost_model_object.main_cycle()"
   ]
  },
  {
   "cell_type": "code",
   "execution_count": 14,
   "metadata": {
    "scrolled": true
   },
   "outputs": [
    {
     "name": "stdout",
     "output_type": "stream",
     "text": [
      "Test balanced accuracy 0.9222222222222222\n",
      "\n",
      "Test roc auc 1.0\n",
      "\n",
      "Test precision 1.0\n",
      "\n",
      "Test recall 0.8444444444444444\n",
      "\n",
      "Test f1 score 0.9116809116809117\n"
     ]
    }
   ],
   "source": [
    "xgboost_model_object.display_test_results()"
   ]
  },
  {
   "cell_type": "markdown",
   "metadata": {},
   "source": [
    "### Scaled data"
   ]
  },
  {
   "cell_type": "code",
   "execution_count": 15,
   "metadata": {
    "scrolled": true
   },
   "outputs": [],
   "source": [
    "xgboost_model_object = Model(xgb_clf, scaled_train_data, train_true_results, scaled_test_data, test_true_results, FOLD_NUMBER)\n",
    "xgboost_model_object.main_cycle()"
   ]
  },
  {
   "cell_type": "code",
   "execution_count": 16,
   "metadata": {
    "scrolled": true
   },
   "outputs": [
    {
     "name": "stdout",
     "output_type": "stream",
     "text": [
      "Test balanced accuracy 0.9222222222222222\n",
      "\n",
      "Test roc auc 1.0\n",
      "\n",
      "Test precision 1.0\n",
      "\n",
      "Test recall 0.8444444444444444\n",
      "\n",
      "Test f1 score 0.9116809116809117\n"
     ]
    }
   ],
   "source": [
    "xgboost_model_object.display_test_results()"
   ]
  },
  {
   "cell_type": "markdown",
   "metadata": {},
   "source": [
    "### Cut by max data"
   ]
  },
  {
   "cell_type": "code",
   "execution_count": 17,
   "metadata": {},
   "outputs": [],
   "source": [
    "xgboost_model_object = Model(xgb_clf, cut_by_max_train_data, train_true_results, cut_by_max_test_data, test_true_results, FOLD_NUMBER)\n",
    "xgboost_model_object.main_cycle()"
   ]
  },
  {
   "cell_type": "code",
   "execution_count": 18,
   "metadata": {
    "scrolled": true
   },
   "outputs": [
    {
     "name": "stdout",
     "output_type": "stream",
     "text": [
      "Test balanced accuracy 0.9777777777777779\n",
      "\n",
      "Test roc auc 1.0\n",
      "\n",
      "Test precision 1.0\n",
      "\n",
      "Test recall 0.9555555555555556\n",
      "\n",
      "Test f1 score 0.9770114942528737\n"
     ]
    }
   ],
   "source": [
    "xgboost_model_object.display_test_results()"
   ]
  },
  {
   "cell_type": "markdown",
   "metadata": {},
   "source": [
    "### Pca reduced + cut by max data"
   ]
  },
  {
   "cell_type": "code",
   "execution_count": 19,
   "metadata": {},
   "outputs": [],
   "source": [
    "xgboost_model_object = Model(xgb_clf, pca_reduced_train_data, train_true_results, pca_reduced_test_data, test_true_results, FOLD_NUMBER)\n",
    "xgboost_model_object.main_cycle()"
   ]
  },
  {
   "cell_type": "code",
   "execution_count": 20,
   "metadata": {
    "scrolled": true
   },
   "outputs": [
    {
     "name": "stdout",
     "output_type": "stream",
     "text": [
      "Test balanced accuracy 1.0\n",
      "\n",
      "Test roc auc 1.0\n",
      "\n",
      "Test precision 1.0\n",
      "\n",
      "Test recall 1.0\n",
      "\n",
      "Test f1 score 1.0\n"
     ]
    }
   ],
   "source": [
    "xgboost_model_object.display_test_results()"
   ]
  },
  {
   "cell_type": "markdown",
   "metadata": {},
   "source": [
    "## K-nearest neighbors\n",
    "KNN provides four search algorithms: 'ball_tree', 'kd_tree', 'brute' and 'auto' (the algorithm attempts to determine the best approach from the training data) and two weight types: 'uniform' (default value) and 'distance' (it generated better results than 'uniform' for above data). KNN did not turn out to be a sufficient model for the problem.\n",
    "\n",
    "### KNN regular data\n",
    "Precision and recall for regular data were 0.0 for all algorithm and weight types."
   ]
  },
  {
   "cell_type": "code",
   "execution_count": 21,
   "metadata": {},
   "outputs": [],
   "source": [
    "import warnings\n",
    "warnings.filterwarnings('ignore')\n",
    "\n",
    "knn = KNeighborsClassifier(n_neighbors=5, algorithm='kd_tree', weights='distance')\n",
    "knn_model = Model(knn,\n",
    "                  train_data,\n",
    "                  train_true_results,                       \n",
    "                  test_data,\n",
    "                  test_true_results,\n",
    "                  FOLD_NUMBER)\n",
    "knn_model.main_cycle()"
   ]
  },
  {
   "cell_type": "code",
   "execution_count": 22,
   "metadata": {},
   "outputs": [
    {
     "name": "stdout",
     "output_type": "stream",
     "text": [
      "Test balanced accuracy 0.5\n",
      "\n",
      "Test roc auc 0.5\n",
      "\n",
      "Test precision 0.0\n",
      "\n",
      "Test recall 0.0\n",
      "\n",
      "Test f1 score 0.0\n"
     ]
    }
   ],
   "source": [
    "knn_model.display_test_results()"
   ]
  },
  {
   "cell_type": "markdown",
   "metadata": {},
   "source": [
    "### KNN Scaled Data"
   ]
  },
  {
   "cell_type": "code",
   "execution_count": 23,
   "metadata": {},
   "outputs": [],
   "source": [
    "knn = KNeighborsClassifier(n_neighbors=5, algorithm='kd_tree', weights='distance')\n",
    "knn_model = Model(knn,\n",
    "                  scaled_train_data,\n",
    "                  train_true_results,\n",
    "                  scaled_test_data,\n",
    "                  test_true_results,\n",
    "                  FOLD_NUMBER)\n",
    "knn_model.main_cycle()"
   ]
  },
  {
   "cell_type": "code",
   "execution_count": 24,
   "metadata": {},
   "outputs": [
    {
     "name": "stdout",
     "output_type": "stream",
     "text": [
      "Test balanced accuracy 0.5\n",
      "\n",
      "Test roc auc 0.4994883601944231\n",
      "\n",
      "Test precision 0.0\n",
      "\n",
      "Test recall 0.0\n",
      "\n",
      "Test f1 score 0.0\n"
     ]
    }
   ],
   "source": [
    "knn_model.display_test_results()"
   ]
  },
  {
   "cell_type": "markdown",
   "metadata": {},
   "source": [
    "### KNN Cut by max data"
   ]
  },
  {
   "cell_type": "code",
   "execution_count": 25,
   "metadata": {},
   "outputs": [],
   "source": [
    "knn = KNeighborsClassifier(n_neighbors=5, algorithm='kd_tree', weights='distance')\n",
    "knn_model = Model(knn,\n",
    "                  cut_by_max_train_data,\n",
    "                  train_true_results,\n",
    "                  cut_by_max_test_data,\n",
    "                  test_true_results,\n",
    "                  FOLD_NUMBER)\n",
    "knn_model.main_cycle()"
   ]
  },
  {
   "cell_type": "code",
   "execution_count": 26,
   "metadata": {},
   "outputs": [
    {
     "name": "stdout",
     "output_type": "stream",
     "text": [
      "Test balanced accuracy 0.5222222222222223\n",
      "\n",
      "Test roc auc 0.7426366504647396\n",
      "\n",
      "Test precision 0.6666666666666666\n",
      "\n",
      "Test recall 0.044444444444444446\n",
      "\n",
      "Test f1 score 0.08333333333333333\n"
     ]
    }
   ],
   "source": [
    "knn_model.display_test_results()"
   ]
  },
  {
   "cell_type": "markdown",
   "metadata": {},
   "source": [
    "## KNN PCA reduced + cut by max data\n",
    "This is the only data where validation precision and recall have values other than zero but still less than 0.5. Therefore, those results are not acceptable.\n"
   ]
  },
  {
   "cell_type": "code",
   "execution_count": 27,
   "metadata": {},
   "outputs": [],
   "source": [
    "knn = KNeighborsClassifier(n_neighbors=5, algorithm='ball_tree', weights='distance')\n",
    "knn_model = Model(knn,\n",
    "                  pca_reduced_train_data,\n",
    "                  train_true_results,\n",
    "                  pca_reduced_test_data,\n",
    "                  test_true_results,\n",
    "                  FOLD_NUMBER)\n",
    "knn_model.main_cycle()"
   ]
  },
  {
   "cell_type": "code",
   "execution_count": 28,
   "metadata": {},
   "outputs": [
    {
     "name": "stdout",
     "output_type": "stream",
     "text": [
      "Test balanced accuracy 0.5555555555555555\n",
      "\n",
      "Test roc auc 0.8093630084420568\n",
      "\n",
      "Test precision 1.0\n",
      "\n",
      "Test recall 0.1111111111111111\n",
      "\n",
      "Test f1 score 0.19444444444444445\n"
     ]
    }
   ],
   "source": [
    "knn_model.display_test_results()"
   ]
  },
  {
   "cell_type": "markdown",
   "metadata": {},
   "source": [
    "## Isolation Forest"
   ]
  },
  {
   "cell_type": "code",
   "execution_count": 29,
   "metadata": {},
   "outputs": [],
   "source": [
    "isolation_forest = IsolationForest(max_features=1, n_estimators=1000, bootstrap=True, max_samples=1000, n_jobs=12, random_state=SEED)"
   ]
  },
  {
   "cell_type": "markdown",
   "metadata": {},
   "source": [
    "### Regular data"
   ]
  },
  {
   "cell_type": "code",
   "execution_count": 30,
   "metadata": {},
   "outputs": [],
   "source": [
    "isolation_forest_model_object = Model(isolation_forest,\n",
    "                                      train_data,\n",
    "                                      train_true_results,\n",
    "                                      test_data,\n",
    "                                      test_true_results,\n",
    "                                      FOLD_NUMBER,\n",
    "                                      minus_one_one_values=True)\n",
    "isolation_forest_model_object.main_cycle()"
   ]
  },
  {
   "cell_type": "code",
   "execution_count": 31,
   "metadata": {},
   "outputs": [
    {
     "name": "stdout",
     "output_type": "stream",
     "text": [
      "Test balanced accuracy 1.0\n",
      "\n",
      "Test roc auc 1.0\n",
      "\n",
      "Test precision 1.0\n",
      "\n",
      "Test recall 1.0\n",
      "\n",
      "Test f1 score 1.0\n"
     ]
    }
   ],
   "source": [
    "isolation_forest_model_object.display_test_results()"
   ]
  },
  {
   "cell_type": "markdown",
   "metadata": {},
   "source": [
    "## Scaled data"
   ]
  },
  {
   "cell_type": "code",
   "execution_count": 32,
   "metadata": {},
   "outputs": [],
   "source": [
    "isolation_forest_model_object = Model(isolation_forest,\n",
    "                                      scaled_train_data,\n",
    "                                      train_true_results,\n",
    "                                      scaled_test_data,\n",
    "                                      test_true_results,\n",
    "                                      FOLD_NUMBER,\n",
    "                                      minus_one_one_values=True)\n",
    "isolation_forest_model_object.main_cycle()"
   ]
  },
  {
   "cell_type": "code",
   "execution_count": 33,
   "metadata": {},
   "outputs": [
    {
     "name": "stdout",
     "output_type": "stream",
     "text": [
      "Test balanced accuracy 1.0\n",
      "\n",
      "Test roc auc 1.0\n",
      "\n",
      "Test precision 1.0\n",
      "\n",
      "Test recall 1.0\n",
      "\n",
      "Test f1 score 1.0\n"
     ]
    }
   ],
   "source": [
    "isolation_forest_model_object.display_test_results()"
   ]
  },
  {
   "cell_type": "markdown",
   "metadata": {},
   "source": [
    "### Cut by max data"
   ]
  },
  {
   "cell_type": "code",
   "execution_count": 34,
   "metadata": {},
   "outputs": [],
   "source": [
    "isolation_forest_model_object = Model(isolation_forest,\n",
    "                                      cut_by_max_train_data,\n",
    "                                      train_true_results,\n",
    "                                      cut_by_max_test_data,\n",
    "                                      test_true_results,\n",
    "                                      FOLD_NUMBER,\n",
    "                                      minus_one_one_values=True)\n",
    "isolation_forest_model_object.main_cycle()"
   ]
  },
  {
   "cell_type": "code",
   "execution_count": 35,
   "metadata": {},
   "outputs": [
    {
     "name": "stdout",
     "output_type": "stream",
     "text": [
      "Test balanced accuracy 0.9809414172422614\n",
      "\n",
      "Test roc auc 0.9999658906796283\n",
      "\n",
      "Test precision 1.0\n",
      "\n",
      "Test recall 0.9618828344845229\n",
      "\n",
      "Test f1 score 0.9805246975324273\n"
     ]
    }
   ],
   "source": [
    "isolation_forest_model_object.display_test_results()"
   ]
  },
  {
   "cell_type": "markdown",
   "metadata": {},
   "source": [
    "### Pca reduced + cut by max data"
   ]
  },
  {
   "cell_type": "code",
   "execution_count": 36,
   "metadata": {},
   "outputs": [],
   "source": [
    "isolation_forest_model_object = Model(isolation_forest,\n",
    "                                      pca_reduced_train_data,\n",
    "                                      train_true_results,\n",
    "                                      pca_reduced_test_data,\n",
    "                                      test_true_results,\n",
    "                                      FOLD_NUMBER,\n",
    "                                      minus_one_one_values=True)\n",
    "isolation_forest_model_object.main_cycle()"
   ]
  },
  {
   "cell_type": "code",
   "execution_count": 37,
   "metadata": {},
   "outputs": [
    {
     "name": "stdout",
     "output_type": "stream",
     "text": [
      "Test balanced accuracy 0.9556152468662061\n",
      "\n",
      "Test roc auc 0.9998806173786988\n",
      "\n",
      "Test precision 1.0\n",
      "\n",
      "Test recall 0.9112304937324124\n",
      "\n",
      "Test f1 score 0.9534893621271526\n"
     ]
    }
   ],
   "source": [
    "isolation_forest_model_object.display_test_results()"
   ]
  },
  {
   "cell_type": "markdown",
   "metadata": {},
   "source": [
    "## SVM"
   ]
  },
  {
   "cell_type": "code",
   "execution_count": 38,
   "metadata": {},
   "outputs": [],
   "source": [
    "X_train, X_test, y_train, y_test = train_test_split(train_data, train_true_results, test_size=0.3, random_state=109)\n",
    "svm_clf = svm.SVC(kernel='linear', class_weight='balanced', probability=True, random_state=SEED)\n",
    "svm_clf.fit(X_train, y_train.values.ravel())\n",
    "y_pred = svm_clf.predict(X_test)"
   ]
  },
  {
   "cell_type": "markdown",
   "metadata": {},
   "source": [
    "### Regular data"
   ]
  },
  {
   "cell_type": "code",
   "execution_count": 39,
   "metadata": {},
   "outputs": [],
   "source": [
    "svm_model_object = Model(svm_clf, train_data, train_true_results.values.ravel(), test_data, test_true_results, FOLD_NUMBER)\n",
    "svm_model_object.main_cycle()"
   ]
  },
  {
   "cell_type": "code",
   "execution_count": 40,
   "metadata": {},
   "outputs": [
    {
     "name": "stdout",
     "output_type": "stream",
     "text": [
      "Test balanced accuracy 0.5\n",
      "\n",
      "Test roc auc 0.8064466615502686\n",
      "\n",
      "Test precision 0.0\n",
      "\n",
      "Test recall 0.0\n",
      "\n",
      "Test f1 score 0.0\n"
     ]
    }
   ],
   "source": [
    "svm_model_object.display_test_results()"
   ]
  },
  {
   "cell_type": "markdown",
   "metadata": {},
   "source": [
    "### Scaled data"
   ]
  },
  {
   "cell_type": "code",
   "execution_count": 41,
   "metadata": {},
   "outputs": [],
   "source": [
    "svm_model_object = Model(svm_clf, scaled_train_data, train_true_results.values.ravel(), scaled_test_data, test_true_results, FOLD_NUMBER)\n",
    "svm_model_object.main_cycle()"
   ]
  },
  {
   "cell_type": "code",
   "execution_count": 42,
   "metadata": {},
   "outputs": [
    {
     "name": "stdout",
     "output_type": "stream",
     "text": [
      "Test balanced accuracy 0.6105994713055342\n",
      "\n",
      "Test roc auc 0.7757994371962139\n",
      "\n",
      "Test precision 0.6523809523809524\n",
      "\n",
      "Test recall 0.22222222222222224\n",
      "\n",
      "Test f1 score 0.32103386809269163\n"
     ]
    }
   ],
   "source": [
    "svm_model_object.display_test_results()"
   ]
  },
  {
   "cell_type": "markdown",
   "metadata": {},
   "source": [
    "### Cut by max data"
   ]
  },
  {
   "cell_type": "code",
   "execution_count": 43,
   "metadata": {},
   "outputs": [],
   "source": [
    "svm_model_object = Model(svm_clf, cut_by_max_train_data, train_true_results.values.ravel(), cut_by_max_test_data, test_true_results, FOLD_NUMBER)\n",
    "svm_model_object.main_cycle()"
   ]
  },
  {
   "cell_type": "code",
   "execution_count": 44,
   "metadata": {},
   "outputs": [
    {
     "name": "stdout",
     "output_type": "stream",
     "text": [
      "Test balanced accuracy 0.6953440777692504\n",
      "\n",
      "Test roc auc 0.7097979022767973\n",
      "\n",
      "Test precision 0.06495364334347385\n",
      "\n",
      "Test recall 0.4666666666666666\n",
      "\n",
      "Test f1 score 0.1139547331497796\n"
     ]
    }
   ],
   "source": [
    "svm_model_object.display_test_results()"
   ]
  },
  {
   "cell_type": "markdown",
   "metadata": {},
   "source": [
    "### Pca reduced + cut by max data"
   ]
  },
  {
   "cell_type": "code",
   "execution_count": 45,
   "metadata": {},
   "outputs": [],
   "source": [
    "svm_model_object = Model(svm_clf, pca_reduced_train_data, train_true_results.values.ravel(), pca_reduced_test_data, test_true_results, FOLD_NUMBER)\n",
    "svm_model_object.main_cycle()"
   ]
  },
  {
   "cell_type": "code",
   "execution_count": 46,
   "metadata": {},
   "outputs": [
    {
     "name": "stdout",
     "output_type": "stream",
     "text": [
      "Test balanced accuracy 0.6697450328302209\n",
      "\n",
      "Test roc auc 0.47251641511042886\n",
      "\n",
      "Test precision 0.03858712049217183\n",
      "\n",
      "Test recall 0.48888888888888893\n",
      "\n",
      "Test f1 score 0.07131542407814785\n"
     ]
    }
   ],
   "source": [
    "svm_model_object.display_test_results()\n"
   ]
  },
  {
   "cell_type": "markdown",
   "metadata": {
    "collapsed": false
   },
   "source": [
    "## LightGBM"
   ]
  },
  {
   "cell_type": "code",
   "execution_count": 47,
   "metadata": {
    "collapsed": false
   },
   "outputs": [],
   "source": [
    "lightgbm_clf = LGBMClassifier(\n",
    "    boosting_type='gbdt',\n",
    "    min_child_weight=0.001,\n",
    "    max_depth=10,\n",
    "    random_state=SEED)"
   ]
  },
  {
   "cell_type": "markdown",
   "metadata": {
    "collapsed": false
   },
   "source": [
    "### Regular data"
   ]
  },
  {
   "cell_type": "code",
   "execution_count": 48,
   "metadata": {
    "collapsed": false
   },
   "outputs": [],
   "source": [
    "lightgbm_model_object = Model(lightgbm_clf, train_data, train_true_results.values.ravel(), test_data, test_true_results.values.ravel(), FOLD_NUMBER)\n",
    "lightgbm_model_object.main_cycle()"
   ]
  },
  {
   "cell_type": "code",
   "execution_count": 49,
   "metadata": {
    "collapsed": false
   },
   "outputs": [
    {
     "name": "stdout",
     "output_type": "stream",
     "text": [
      "Test balanced accuracy 0.9444444444444445\n",
      "\n",
      "Test roc auc 1.0\n",
      "\n",
      "Test precision 1.0\n",
      "\n",
      "Test recall 0.888888888888889\n",
      "\n",
      "Test f1 score 0.9391534391534392\n"
     ]
    }
   ],
   "source": [
    "lightgbm_model_object.display_test_results()"
   ]
  },
  {
   "cell_type": "markdown",
   "metadata": {
    "collapsed": false
   },
   "source": [
    "### Scaled data"
   ]
  },
  {
   "cell_type": "code",
   "execution_count": 50,
   "metadata": {
    "collapsed": false
   },
   "outputs": [],
   "source": [
    "lightgbm_model_object = Model(lightgbm_clf, scaled_train_data, train_true_results.values.ravel(), scaled_test_data, test_true_results.values.ravel(), FOLD_NUMBER)\n",
    "lightgbm_model_object.main_cycle()"
   ]
  },
  {
   "cell_type": "code",
   "execution_count": 51,
   "metadata": {
    "collapsed": false
   },
   "outputs": [
    {
     "name": "stdout",
     "output_type": "stream",
     "text": [
      "Test balanced accuracy 0.9666666666666667\n",
      "\n",
      "Test roc auc 1.0\n",
      "\n",
      "Test precision 1.0\n",
      "\n",
      "Test recall 0.9333333333333332\n",
      "\n",
      "Test f1 score 0.964696223316913\n"
     ]
    }
   ],
   "source": [
    "lightgbm_model_object.display_test_results()"
   ]
  },
  {
   "cell_type": "markdown",
   "metadata": {
    "collapsed": false
   },
   "source": [
    "### Cut by max data"
   ]
  },
  {
   "cell_type": "code",
   "execution_count": 52,
   "metadata": {
    "collapsed": false
   },
   "outputs": [],
   "source": [
    "lightgbm_model_object = Model(lightgbm_clf, cut_by_max_train_data, train_true_results.values.ravel(), cut_by_max_test_data, test_true_results.values.ravel(), FOLD_NUMBER)\n",
    "lightgbm_model_object.main_cycle()"
   ]
  },
  {
   "cell_type": "code",
   "execution_count": 53,
   "metadata": {
    "collapsed": false
   },
   "outputs": [
    {
     "name": "stdout",
     "output_type": "stream",
     "text": [
      "Test balanced accuracy 0.9888888888888889\n",
      "\n",
      "Test roc auc 1.0\n",
      "\n",
      "Test precision 1.0\n",
      "\n",
      "Test recall 0.9777777777777779\n",
      "\n",
      "Test f1 score 0.9885057471264368\n"
     ]
    }
   ],
   "source": [
    "lightgbm_model_object.display_test_results()"
   ]
  },
  {
   "cell_type": "markdown",
   "metadata": {
    "collapsed": false
   },
   "source": [
    "### Pca reduced + cut by max data"
   ]
  },
  {
   "cell_type": "code",
   "execution_count": 54,
   "metadata": {
    "collapsed": false
   },
   "outputs": [],
   "source": [
    "lightgbm_model_object = Model(lightgbm_clf, pca_reduced_train_data, train_true_results.values.ravel(), pca_reduced_test_data, test_true_results.values.ravel(), FOLD_NUMBER)\n",
    "lightgbm_model_object.main_cycle()"
   ]
  },
  {
   "cell_type": "code",
   "execution_count": 55,
   "metadata": {
    "collapsed": false
   },
   "outputs": [
    {
     "name": "stdout",
     "output_type": "stream",
     "text": [
      "Test balanced accuracy 1.0\n",
      "\n",
      "Test roc auc 1.0\n",
      "\n",
      "Test precision 1.0\n",
      "\n",
      "Test recall 1.0\n",
      "\n",
      "Test f1 score 1.0\n"
     ]
    }
   ],
   "source": [
    "lightgbm_model_object.display_test_results()"
   ]
  },
  {
   "cell_type": "markdown",
   "metadata": {
    "collapsed": false
   },
   "source": [
    "## Random Forest"
   ]
  },
  {
   "cell_type": "code",
   "execution_count": 56,
   "metadata": {
    "collapsed": false
   },
   "outputs": [],
   "source": [
    "random_forest_model = RandomForestClassifier(random_state=SEED, n_estimators=2000, criterion=\"log_loss\")"
   ]
  },
  {
   "cell_type": "markdown",
   "metadata": {
    "collapsed": false
   },
   "source": [
    "### Regular data"
   ]
  },
  {
   "cell_type": "code",
   "execution_count": 57,
   "metadata": {
    "collapsed": false
   },
   "outputs": [],
   "source": [
    "random_forest_object = Model(random_forest_model, train_data, train_true_results, test_data, test_true_results, FOLD_NUMBER)\n",
    "random_forest_object.main_cycle()"
   ]
  },
  {
   "cell_type": "code",
   "execution_count": 58,
   "metadata": {
    "collapsed": false
   },
   "outputs": [
    {
     "name": "stdout",
     "output_type": "stream",
     "text": [
      "Test balanced accuracy 1.0\n",
      "\n",
      "Test roc auc 1.0\n",
      "\n",
      "Test precision 1.0\n",
      "\n",
      "Test recall 1.0\n",
      "\n",
      "Test f1 score 1.0\n"
     ]
    }
   ],
   "source": [
    "random_forest_object.display_test_results()"
   ]
  },
  {
   "cell_type": "markdown",
   "metadata": {
    "collapsed": false
   },
   "source": [
    "### Scaled data"
   ]
  },
  {
   "cell_type": "code",
   "execution_count": 59,
   "metadata": {
    "collapsed": false
   },
   "outputs": [],
   "source": [
    "random_forest_object = Model(random_forest_model, scaled_train_data, train_true_results, scaled_test_data, test_true_results, FOLD_NUMBER)\n",
    "random_forest_object.main_cycle()"
   ]
  },
  {
   "cell_type": "code",
   "execution_count": 60,
   "metadata": {
    "collapsed": false
   },
   "outputs": [
    {
     "name": "stdout",
     "output_type": "stream",
     "text": [
      "Test balanced accuracy 1.0\n",
      "\n",
      "Test roc auc 1.0\n",
      "\n",
      "Test precision 1.0\n",
      "\n",
      "Test recall 1.0\n",
      "\n",
      "Test f1 score 1.0\n"
     ]
    }
   ],
   "source": [
    "random_forest_object.display_test_results()"
   ]
  },
  {
   "cell_type": "markdown",
   "metadata": {
    "collapsed": false
   },
   "source": [
    "### Cut by max data"
   ]
  },
  {
   "cell_type": "code",
   "execution_count": 61,
   "metadata": {
    "collapsed": false
   },
   "outputs": [],
   "source": [
    "random_forest_object = Model(random_forest_model, cut_by_max_train_data, train_true_results, cut_by_max_test_data, test_true_results, FOLD_NUMBER)\n",
    "random_forest_object.main_cycle()"
   ]
  },
  {
   "cell_type": "code",
   "execution_count": 62,
   "metadata": {
    "collapsed": false
   },
   "outputs": [
    {
     "name": "stdout",
     "output_type": "stream",
     "text": [
      "Test balanced accuracy 0.9444444444444443\n",
      "\n",
      "Test roc auc 1.0\n",
      "\n",
      "Test precision 1.0\n",
      "\n",
      "Test recall 0.888888888888889\n",
      "\n",
      "Test f1 score 0.9408866995073891\n"
     ]
    }
   ],
   "source": [
    "random_forest_object.display_test_results()"
   ]
  },
  {
   "cell_type": "markdown",
   "metadata": {
    "collapsed": false
   },
   "source": [
    "### Pca reduced + cut by max data"
   ]
  },
  {
   "cell_type": "code",
   "execution_count": 63,
   "metadata": {
    "collapsed": false
   },
   "outputs": [],
   "source": [
    "random_forest_object = Model(random_forest_model, pca_reduced_train_data, train_true_results, pca_reduced_test_data, test_true_results, FOLD_NUMBER)\n",
    "random_forest_object.main_cycle()"
   ]
  },
  {
   "cell_type": "code",
   "execution_count": 64,
   "metadata": {
    "collapsed": false
   },
   "outputs": [
    {
     "name": "stdout",
     "output_type": "stream",
     "text": [
      "Test balanced accuracy 0.9555555555555556\n",
      "\n",
      "Test roc auc 1.0\n",
      "\n",
      "Test precision 1.0\n",
      "\n",
      "Test recall 0.9111111111111111\n",
      "\n",
      "Test f1 score 0.9523809523809524\n"
     ]
    }
   ],
   "source": [
    "random_forest_object.display_test_results()"
   ]
  },
  {
   "cell_type": "markdown",
   "metadata": {
    "collapsed": false
   },
   "source": [
    "## Balanced Random Forest"
   ]
  },
  {
   "cell_type": "code",
   "execution_count": 65,
   "metadata": {
    "collapsed": false
   },
   "outputs": [],
   "source": [
    "balanced_random_forest_model = BalancedRandomForestClassifier(random_state=SEED,  n_estimators=2000)"
   ]
  },
  {
   "cell_type": "markdown",
   "metadata": {
    "collapsed": false
   },
   "source": [
    "### Regular data"
   ]
  },
  {
   "cell_type": "code",
   "execution_count": 66,
   "metadata": {
    "collapsed": false
   },
   "outputs": [],
   "source": [
    "balanced_random_forest_object = Model(balanced_random_forest_model, train_data, train_true_results, test_data, test_true_results, FOLD_NUMBER)\n",
    "balanced_random_forest_object.main_cycle()"
   ]
  },
  {
   "cell_type": "code",
   "execution_count": 67,
   "metadata": {
    "collapsed": false
   },
   "outputs": [
    {
     "name": "stdout",
     "output_type": "stream",
     "text": [
      "Test balanced accuracy 1.0\n",
      "\n",
      "Test roc auc 1.0\n",
      "\n",
      "Test precision 1.0\n",
      "\n",
      "Test recall 1.0\n",
      "\n",
      "Test f1 score 1.0\n"
     ]
    }
   ],
   "source": [
    "balanced_random_forest_object.display_test_results()"
   ]
  },
  {
   "cell_type": "markdown",
   "metadata": {
    "collapsed": false
   },
   "source": [
    "### Scaled data"
   ]
  },
  {
   "cell_type": "code",
   "execution_count": 68,
   "metadata": {
    "collapsed": false
   },
   "outputs": [],
   "source": [
    "balanced_random_forest_object = Model(balanced_random_forest_model, scaled_train_data, train_true_results, scaled_test_data, test_true_results, FOLD_NUMBER)\n",
    "balanced_random_forest_object.main_cycle()"
   ]
  },
  {
   "cell_type": "code",
   "execution_count": 69,
   "metadata": {
    "collapsed": false
   },
   "outputs": [
    {
     "name": "stdout",
     "output_type": "stream",
     "text": [
      "Test balanced accuracy 1.0\n",
      "\n",
      "Test roc auc 1.0\n",
      "\n",
      "Test precision 1.0\n",
      "\n",
      "Test recall 1.0\n",
      "\n",
      "Test f1 score 1.0\n"
     ]
    }
   ],
   "source": [
    "balanced_random_forest_object.display_test_results()"
   ]
  },
  {
   "cell_type": "markdown",
   "metadata": {
    "collapsed": false
   },
   "source": [
    "### Cut by max data"
   ]
  },
  {
   "cell_type": "code",
   "execution_count": 70,
   "metadata": {
    "collapsed": false
   },
   "outputs": [],
   "source": [
    "balanced_random_forest_object = Model(balanced_random_forest_model, cut_by_max_train_data, train_true_results, cut_by_max_test_data, test_true_results, FOLD_NUMBER)\n",
    "balanced_random_forest_object.main_cycle()"
   ]
  },
  {
   "cell_type": "code",
   "execution_count": 71,
   "metadata": {
    "collapsed": false
   },
   "outputs": [
    {
     "name": "stdout",
     "output_type": "stream",
     "text": [
      "Test balanced accuracy 0.9982092606804809\n",
      "\n",
      "Test roc auc 0.999982945339814\n",
      "\n",
      "Test precision 0.7682083997873471\n",
      "\n",
      "Test recall 1.0\n",
      "\n",
      "Test f1 score 0.8674182203593969\n"
     ]
    }
   ],
   "source": [
    "balanced_random_forest_object.display_test_results()"
   ]
  },
  {
   "cell_type": "markdown",
   "metadata": {
    "collapsed": false
   },
   "source": [
    "### Pca reduced + cut by max data"
   ]
  },
  {
   "cell_type": "code",
   "execution_count": 72,
   "metadata": {
    "collapsed": false
   },
   "outputs": [],
   "source": [
    "balanced_random_forest_object = Model(balanced_random_forest_model, pca_reduced_train_data, train_true_results, pca_reduced_test_data, test_true_results, FOLD_NUMBER)\n",
    "balanced_random_forest_object.main_cycle()"
   ]
  },
  {
   "cell_type": "code",
   "execution_count": 73,
   "metadata": {
    "collapsed": false
   },
   "outputs": [
    {
     "name": "stdout",
     "output_type": "stream",
     "text": [
      "Test balanced accuracy 0.9970580711179329\n",
      "\n",
      "Test roc auc 0.999982945339814\n",
      "\n",
      "Test precision 0.6666666666666666\n",
      "\n",
      "Test recall 1.0\n",
      "\n",
      "Test f1 score 0.7985347985347985\n"
     ]
    }
   ],
   "source": [
    "balanced_random_forest_object.display_test_results()"
   ]
  },
  {
   "cell_type": "code",
   "execution_count": null,
   "metadata": {},
   "outputs": [],
   "source": []
  }
 ],
 "metadata": {
  "kernelspec": {
   "display_name": "Python 3.8.13 ('gumed')",
   "language": "python",
   "name": "python3"
  },
  "language_info": {
   "codemirror_mode": {
    "name": "ipython",
    "version": 3
   },
   "file_extension": ".py",
   "mimetype": "text/x-python",
   "name": "python",
   "nbconvert_exporter": "python",
   "pygments_lexer": "ipython3",
   "version": "3.8.13"
  },
  "vscode": {
   "interpreter": {
    "hash": "e29c0f91614c656b3ceffd7fe15526f68d720d3abfbe12837f65370918f7f722"
   }
  }
 },
 "nbformat": 4,
 "nbformat_minor": 1
}
